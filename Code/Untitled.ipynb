{
 "cells": [
  {
   "cell_type": "code",
   "execution_count": 40,
   "metadata": {},
   "outputs": [],
   "source": [
    "def LCS(s1,s2,i,j):   \n",
    "    if i >= len(s1) or j >=len(s2):\n",
    "        return 0\n",
    "    elif s1[i] == s2[j]:\n",
    "        return (1 + LCS(s1,s2,i+1,j+1))\n",
    "    else:\n",
    "        return(max(LCS(s1,s2,i+1,j),LCS(s1,s2,i,j+1)))"
   ]
  },
  {
   "cell_type": "code",
   "execution_count": 46,
   "metadata": {},
   "outputs": [],
   "source": [
    "def LCS2(s1,s2,i, j):\n",
    "    if i ==0 or j ==0:\n",
    "        return 0      \n",
    "    elif s1[i-1] == s2[j-1]:\n",
    "        return (1+LCS2(s1,s2,i-1,j-1))\n",
    "    else:\n",
    "        temp1 = LCS2(s1,s2,i-1,j)\n",
    "        temp2 = LCS2(s1,s2,i,j-1)\n",
    "        return (max(temp1,temp2))\n",
    "    \n",
    "    \n",
    "    "
   ]
  },
  {
   "cell_type": "code",
   "execution_count": 47,
   "metadata": {},
   "outputs": [
    {
     "name": "stdout",
     "output_type": "stream",
     "text": [
      "3\n",
      "3\n"
     ]
    }
   ],
   "source": [
    "s1 = 'AABCCDEF'\n",
    "s2 = 'ABE'\n",
    "\n",
    "\n",
    "print (LCS(s1,s2,0,0))\n",
    "print (LCS2(s1,s2,len(s1),len(s2)))"
   ]
  },
  {
   "cell_type": "code",
   "execution_count": 50,
   "metadata": {},
   "outputs": [
    {
     "name": "stdout",
     "output_type": "stream",
     "text": [
      "3\n",
      "2\n",
      "90\n",
      "6\n"
     ]
    }
   ],
   "source": [
    "price = [5,11,3,50,60,80,90]\n",
    "k = 2\n",
    "\n",
    "i=0\n",
    "low_i =0\n",
    "high_i =0\n",
    "low = price[i]\n",
    "high = price[i]\n",
    "for i in range(1,len(price)):\n",
    "    if price[i] > high:\n",
    "        high = price[i]\n",
    "        high_i = i\n",
    "    if price[i] < low:\n",
    "        low = price[i]\n",
    "        low_i = i\n",
    "\n",
    "print (low)\n",
    "print (low_i)\n",
    "print (high)\n",
    "print (high_i)    \n",
    "    \n",
    "    \n"
   ]
  },
  {
   "cell_type": "code",
   "execution_count": 5,
   "metadata": {},
   "outputs": [
    {
     "name": "stdout",
     "output_type": "stream",
     "text": [
      "5\n",
      "4\n",
      "3\n",
      "3\n",
      "2\n",
      "2\n",
      "1\n",
      "5\n"
     ]
    }
   ],
   "source": [
    "\n",
    "S = [8,12,19,15,21,17,25]\n",
    "c2 = 0\n",
    "for n in range(len(S)):\n",
    "    i = n\n",
    "    j = i+1\n",
    "    c1 = 1\n",
    "    while (j < len(S)):\n",
    "        if S[i] < S[j]:\n",
    "            c1 = c1 +1\n",
    "            i = j\n",
    "            j = j + 1\n",
    "        else:\n",
    "            j= j +1\n",
    "    print (c1)\n",
    "    if c1 > c2:\n",
    "        c2 = c1\n",
    "print (c2)    "
   ]
  },
  {
   "cell_type": "code",
   "execution_count": 4,
   "metadata": {},
   "outputs": [],
   "source": [
    "dict1 = {'trans':[{'translations':'hi this is jignesh'}, {'trans2':'this is prachi'}],'word': 4,'char':21}"
   ]
  },
  {
   "cell_type": "code",
   "execution_count": 2,
   "metadata": {},
   "outputs": [
    {
     "data": {
      "text/plain": [
       "{'trans': [{'translations': 'hi this is jignesh'}], 'word': 4, 'char': 21}"
      ]
     },
     "execution_count": 2,
     "metadata": {},
     "output_type": "execute_result"
    }
   ],
   "source": [
    "dict1"
   ]
  },
  {
   "cell_type": "code",
   "execution_count": 9,
   "metadata": {},
   "outputs": [
    {
     "data": {
      "text/plain": [
       "'hi this is jignesh'"
      ]
     },
     "execution_count": 9,
     "metadata": {},
     "output_type": "execute_result"
    }
   ],
   "source": [
    "dict1['trans'][0]['translations']"
   ]
  },
  {
   "cell_type": "code",
   "execution_count": 10,
   "metadata": {},
   "outputs": [],
   "source": [
    "x = list(map(str,range(1980,2014)))"
   ]
  },
  {
   "cell_type": "code",
   "execution_count": 12,
   "metadata": {},
   "outputs": [
    {
     "data": {
      "text/plain": [
       "str"
      ]
     },
     "execution_count": 12,
     "metadata": {},
     "output_type": "execute_result"
    }
   ],
   "source": [
    "type(x[0])"
   ]
  },
  {
   "cell_type": "code",
   "execution_count": 13,
   "metadata": {},
   "outputs": [],
   "source": [
    "def square(x):\n",
    "    return x*x"
   ]
  },
  {
   "cell_type": "code",
   "execution_count": 20,
   "metadata": {},
   "outputs": [
    {
     "data": {
      "text/plain": [
       "[1, 4, 9, 16, 25, 36, 49, 64, 81]"
      ]
     },
     "execution_count": 20,
     "metadata": {},
     "output_type": "execute_result"
    }
   ],
   "source": [
    "y = list(map(square,range(1,10)))\n",
    "y"
   ]
  },
  {
   "cell_type": "code",
   "execution_count": null,
   "metadata": {},
   "outputs": [],
   "source": []
  }
 ],
 "metadata": {
  "kernelspec": {
   "display_name": "Python 3",
   "language": "python",
   "name": "python3"
  },
  "language_info": {
   "codemirror_mode": {
    "name": "ipython",
    "version": 3
   },
   "file_extension": ".py",
   "mimetype": "text/x-python",
   "name": "python",
   "nbconvert_exporter": "python",
   "pygments_lexer": "ipython3",
   "version": "3.7.3"
  }
 },
 "nbformat": 4,
 "nbformat_minor": 2
}
