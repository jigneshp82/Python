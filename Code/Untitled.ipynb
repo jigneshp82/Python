{
 "cells": [
  {
   "cell_type": "code",
   "execution_count": 40,
   "metadata": {},
   "outputs": [],
   "source": [
    "def LCS(s1,s2,i,j):   \n",
    "    if i >= len(s1) or j >=len(s2):\n",
    "        return 0\n",
    "    elif s1[i] == s2[j]:\n",
    "        return (1 + LCS(s1,s2,i+1,j+1))\n",
    "    else:\n",
    "        return(max(LCS(s1,s2,i+1,j),LCS(s1,s2,i,j+1)))"
   ]
  },
  {
   "cell_type": "code",
   "execution_count": 46,
   "metadata": {},
   "outputs": [],
   "source": [
    "def LCS2(s1,s2,i, j):\n",
    "    if i ==0 or j ==0:\n",
    "        return 0      \n",
    "    elif s1[i-1] == s2[j-1]:\n",
    "        return (1+LCS2(s1,s2,i-1,j-1))\n",
    "    else:\n",
    "        temp1 = LCS2(s1,s2,i-1,j)\n",
    "        temp2 = LCS2(s1,s2,i,j-1)\n",
    "        return (max(temp1,temp2))\n",
    "    \n",
    "    \n",
    "    "
   ]
  },
  {
   "cell_type": "code",
   "execution_count": 47,
   "metadata": {},
   "outputs": [
    {
     "name": "stdout",
     "output_type": "stream",
     "text": [
      "3\n",
      "3\n"
     ]
    }
   ],
   "source": [
    "s1 = 'AABCCDEF'\n",
    "s2 = 'ABE'\n",
    "\n",
    "\n",
    "print (LCS(s1,s2,0,0))\n",
    "print (LCS2(s1,s2,len(s1),len(s2)))"
   ]
  },
  {
   "cell_type": "code",
   "execution_count": 50,
   "metadata": {},
   "outputs": [
    {
     "name": "stdout",
     "output_type": "stream",
     "text": [
      "3\n",
      "2\n",
      "90\n",
      "6\n"
     ]
    }
   ],
   "source": [
    "price = [5,11,3,50,60,80,90]\n",
    "k = 2\n",
    "\n",
    "i=0\n",
    "low_i =0\n",
    "high_i =0\n",
    "low = price[i]\n",
    "high = price[i]\n",
    "for i in range(1,len(price)):\n",
    "    if price[i] > high:\n",
    "        high = price[i]\n",
    "        high_i = i\n",
    "    if price[i] < low:\n",
    "        low = price[i]\n",
    "        low_i = i\n",
    "\n",
    "print (low)\n",
    "print (low_i)\n",
    "print (high)\n",
    "print (high_i)    \n",
    "    \n",
    "    \n"
   ]
  },
  {
   "cell_type": "code",
   "execution_count": 5,
   "metadata": {},
   "outputs": [
    {
     "name": "stdout",
     "output_type": "stream",
     "text": [
      "5\n",
      "4\n",
      "3\n",
      "3\n",
      "2\n",
      "2\n",
      "1\n",
      "5\n"
     ]
    }
   ],
   "source": [
    "\n",
    "S = [8,12,19,15,21,17,25]\n",
    "c2 = 0\n",
    "for n in range(len(S)):\n",
    "    i = n\n",
    "    j = i+1\n",
    "    c1 = 1\n",
    "    while (j < len(S)):\n",
    "        if S[i] < S[j]:\n",
    "            c1 = c1 +1\n",
    "            i = j\n",
    "            j = j + 1\n",
    "        else:\n",
    "            j= j +1\n",
    "    print (c1)\n",
    "    if c1 > c2:\n",
    "        c2 = c1\n",
    "print (c2)    "
   ]
  },
  {
   "cell_type": "code",
   "execution_count": 4,
   "metadata": {},
   "outputs": [],
   "source": [
    "dict1 = {'trans':[{'translations':'hi this is jignesh'}, {'trans2':'this is prachi'}],'word': 4,'char':21}"
   ]
  },
  {
   "cell_type": "code",
   "execution_count": 2,
   "metadata": {},
   "outputs": [
    {
     "data": {
      "text/plain": [
       "{'trans': [{'translations': 'hi this is jignesh'}], 'word': 4, 'char': 21}"
      ]
     },
     "execution_count": 2,
     "metadata": {},
     "output_type": "execute_result"
    }
   ],
   "source": [
    "dict1"
   ]
  },
  {
   "cell_type": "code",
   "execution_count": 9,
   "metadata": {},
   "outputs": [
    {
     "data": {
      "text/plain": [
       "'hi this is jignesh'"
      ]
     },
     "execution_count": 9,
     "metadata": {},
     "output_type": "execute_result"
    }
   ],
   "source": [
    "dict1['trans'][0]['translations']"
   ]
  },
  {
   "cell_type": "code",
   "execution_count": 10,
   "metadata": {},
   "outputs": [],
   "source": [
    "x = list(map(str,range(1980,2014)))"
   ]
  },
  {
   "cell_type": "code",
   "execution_count": 12,
   "metadata": {},
   "outputs": [
    {
     "data": {
      "text/plain": [
       "str"
      ]
     },
     "execution_count": 12,
     "metadata": {},
     "output_type": "execute_result"
    }
   ],
   "source": [
    "type(x[0])"
   ]
  },
  {
   "cell_type": "code",
   "execution_count": 13,
   "metadata": {},
   "outputs": [],
   "source": [
    "def square(x):\n",
    "    return x*x"
   ]
  },
  {
   "cell_type": "code",
   "execution_count": 20,
   "metadata": {},
   "outputs": [
    {
     "data": {
      "text/plain": [
       "[1, 4, 9, 16, 25, 36, 49, 64, 81]"
      ]
     },
     "execution_count": 20,
     "metadata": {},
     "output_type": "execute_result"
    }
   ],
   "source": [
    "y = list(map(square,range(1,10)))\n",
    "y"
   ]
  },
  {
   "cell_type": "code",
   "execution_count": 1,
   "metadata": {},
   "outputs": [],
   "source": [
    "x = []"
   ]
  },
  {
   "cell_type": "code",
   "execution_count": 2,
   "metadata": {},
   "outputs": [],
   "source": [
    "x = x + [1]"
   ]
  },
  {
   "cell_type": "code",
   "execution_count": 3,
   "metadata": {},
   "outputs": [
    {
     "name": "stdout",
     "output_type": "stream",
     "text": [
      "[1]\n"
     ]
    }
   ],
   "source": [
    "print (x)"
   ]
  },
  {
   "cell_type": "code",
   "execution_count": 4,
   "metadata": {},
   "outputs": [],
   "source": [
    "x = x +[3]"
   ]
  },
  {
   "cell_type": "code",
   "execution_count": 5,
   "metadata": {},
   "outputs": [
    {
     "data": {
      "text/plain": [
       "[1, 3]"
      ]
     },
     "execution_count": 5,
     "metadata": {},
     "output_type": "execute_result"
    }
   ],
   "source": [
    "x\n"
   ]
  },
  {
   "cell_type": "code",
   "execution_count": 6,
   "metadata": {},
   "outputs": [],
   "source": [
    "x.append(4)"
   ]
  },
  {
   "cell_type": "code",
   "execution_count": 7,
   "metadata": {},
   "outputs": [
    {
     "data": {
      "text/plain": [
       "[1, 3, 4]"
      ]
     },
     "execution_count": 7,
     "metadata": {},
     "output_type": "execute_result"
    }
   ],
   "source": [
    "x\n"
   ]
  },
  {
   "cell_type": "code",
   "execution_count": 10,
   "metadata": {},
   "outputs": [
    {
     "data": {
      "text/plain": [
       "[1, 3, 4, 'r443']"
      ]
     },
     "execution_count": 10,
     "metadata": {},
     "output_type": "execute_result"
    }
   ],
   "source": [
    "x = x + ['r443']\n",
    "x"
   ]
  },
  {
   "cell_type": "code",
   "execution_count": 9,
   "metadata": {},
   "outputs": [
    {
     "ename": "TypeError",
     "evalue": "can only concatenate list (not \"int\") to list",
     "output_type": "error",
     "traceback": [
      "\u001b[0;31m---------------------------------------------------------------------------\u001b[0m",
      "\u001b[0;31mTypeError\u001b[0m                                 Traceback (most recent call last)",
      "\u001b[0;32m<ipython-input-9-83d671bf2825>\u001b[0m in \u001b[0;36m<module>\u001b[0;34m\u001b[0m\n\u001b[0;32m----> 1\u001b[0;31m \u001b[0mx\u001b[0m\u001b[0;34m=\u001b[0m \u001b[0mx\u001b[0m \u001b[0;34m+\u001b[0m\u001b[0;36m444\u001b[0m\u001b[0;34m\u001b[0m\u001b[0;34m\u001b[0m\u001b[0m\n\u001b[0m",
      "\u001b[0;31mTypeError\u001b[0m: can only concatenate list (not \"int\") to list"
     ]
    }
   ],
   "source": [
    "x= x +444"
   ]
  },
  {
   "cell_type": "code",
   "execution_count": 12,
   "metadata": {},
   "outputs": [],
   "source": [
    "word = 'jignesh'\n",
    "i =2\n"
   ]
  },
  {
   "cell_type": "code",
   "execution_count": 15,
   "metadata": {},
   "outputs": [
    {
     "data": {
      "text/plain": [
       "'jinesh'"
      ]
     },
     "execution_count": 15,
     "metadata": {},
     "output_type": "execute_result"
    }
   ],
   "source": [
    "word[:i]+word[i+1:len(word)]"
   ]
  },
  {
   "cell_type": "code",
   "execution_count": 65,
   "metadata": {},
   "outputs": [],
   "source": [
    "wordlist = ['a','b','c']\n",
    "beginword = 'a'\n",
    "endword = 'c'\n",
    "\n",
    "wordlist2 = ['hit','hot','his','dot','dog','lot','log','cog']\n",
    "beginword2 = 'hit'\n",
    "endword2 = 'cog'"
   ]
  },
  {
   "cell_type": "code",
   "execution_count": 59,
   "metadata": {},
   "outputs": [],
   "source": [
    "\n",
    "def wordledder(beginword, endword, wordlist)->int:\n",
    "    if endword not in wordlist:\n",
    "        return 0\n",
    "    wordList = set(wordlist)\n",
    "    q = [beginword]\n",
    "    j = 0\n",
    "    flag = False\n",
    "    while q:\n",
    "        j = j +1\n",
    "        l = len(q)\n",
    "        while l:\n",
    "            cur = q[0]\n",
    "            del q[0]\n",
    "            l = l-1\n",
    "            for i in range(len(cur)):\n",
    "                for k in range(ord('a'),ord('z')+1):\n",
    "                    newword = cur[:i]+chr(k)+cur[i+1:]\n",
    "                    if newword == endword:\n",
    "                        return j+1\n",
    "                    elif newword in wordList:\n",
    "                        q.append(newword)\n",
    "                        wordList.remove(newword)\n",
    "    return 0"
   ]
  },
  {
   "cell_type": "code",
   "execution_count": 60,
   "metadata": {},
   "outputs": [
    {
     "name": "stdout",
     "output_type": "stream",
     "text": [
      "2\n"
     ]
    }
   ],
   "source": [
    "print (wordledder(beginword, endword, wordlist))"
   ]
  },
  {
   "cell_type": "code",
   "execution_count": 61,
   "metadata": {},
   "outputs": [],
   "source": [
    "\n",
    "def wordledder2(beginword, endword, wordlist)->int:\n",
    "    if endword not in wordlist:\n",
    "        return 0\n",
    "    wordList = set(wordlist)\n",
    "    q = [beginword]\n",
    "    j = 0\n",
    "    flag = False\n",
    "    while q:\n",
    "        j = j + 1\n",
    "        cur = q[0]\n",
    "        del q[0]\n",
    "        for i in range(len(cur)):\n",
    "            for k in range(ord('a'),ord('z')+1):\n",
    "                newword = cur[:i]+chr(k)+cur[i+1:]\n",
    "                if newword == endword:\n",
    "                    return j\n",
    "                elif newword in wordList:\n",
    "                    q.append(newword)\n",
    "                    wordList.remove(newword)\n",
    "    return 0"
   ]
  },
  {
   "cell_type": "code",
   "execution_count": 62,
   "metadata": {},
   "outputs": [
    {
     "name": "stdout",
     "output_type": "stream",
     "text": [
      "1\n"
     ]
    }
   ],
   "source": [
    "print (wordledder2(beginword, endword, wordlist))"
   ]
  },
  {
   "cell_type": "code",
   "execution_count": 66,
   "metadata": {},
   "outputs": [
    {
     "name": "stdout",
     "output_type": "stream",
     "text": [
      "5\n",
      "7\n"
     ]
    }
   ],
   "source": [
    "print (wordledder(beginword2, endword2, wordlist2))\n",
    "print (wordledder2(beginword2, endword2, wordlist2))"
   ]
  },
  {
   "cell_type": "code",
   "execution_count": null,
   "metadata": {},
   "outputs": [],
   "source": []
  }
 ],
 "metadata": {
  "kernelspec": {
   "display_name": "Python 3",
   "language": "python",
   "name": "python3"
  },
  "language_info": {
   "codemirror_mode": {
    "name": "ipython",
    "version": 3
   },
   "file_extension": ".py",
   "mimetype": "text/x-python",
   "name": "python",
   "nbconvert_exporter": "python",
   "pygments_lexer": "ipython3",
   "version": "3.8.8"
  }
 },
 "nbformat": 4,
 "nbformat_minor": 2
}
