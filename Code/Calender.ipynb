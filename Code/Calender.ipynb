{
 "cells": [
  {
   "cell_type": "code",
   "execution_count": 91,
   "metadata": {},
   "outputs": [],
   "source": [
    "Cal1 = [['09:00','10:00'],['10:30','11:00'],['13:00','14:00'],['15:30','16:00']]\n",
    "Cal2 = [['10:00','11:00'],['12:30','13:30'],['14:30','15:15'],['16:00','18:00']]\n",
    "B1 = ['09:00','18:00']\n",
    "B2 = ['09:30','18:30']\n",
    "Meeting = 30"
   ]
  },
  {
   "cell_type": "code",
   "execution_count": 85,
   "metadata": {},
   "outputs": [],
   "source": [
    "def convertTime(time):\n",
    "    Hr,Min = time.split(':')\n",
    "    time = int(Hr) *60 + int(Min)\n",
    "    return(time)\n",
    "        \n",
    "        "
   ]
  },
  {
   "cell_type": "code",
   "execution_count": 97,
   "metadata": {},
   "outputs": [],
   "source": [
    "def CompareTime(time1,time2):    \n",
    "      \n",
    "    time1 = convertTime(time1)\n",
    "    time2 = convertTime(time2)\n",
    "    \n",
    "    #return (time1 - time2)\n",
    "    if time1 > time2:\n",
    "        return 1\n",
    "    elif time1 < time2:\n",
    "        return -1\n",
    "    else:\n",
    "        return 0\n"
   ]
  },
  {
   "cell_type": "code",
   "execution_count": 98,
   "metadata": {},
   "outputs": [
    {
     "name": "stdout",
     "output_type": "stream",
     "text": [
      "===============  Upper and Lower Bounds =========================\n",
      "['18:00', '24:00']\n",
      "['00:00', '09:30']\n",
      "===========================  Booked Time  ==========================\n",
      "[['00:00', '09:30'], ['09:00', '10:00'], ['10:00', '11:00'], ['10:30', '11:00'], ['12:30', '13:30'], ['13:00', '14:00'], ['14:30', '15:15'], ['15:30', '16:00'], ['16:00', '18:00'], ['18:00', '24:00']]\n",
      "========================  Available Time  ==========================\n",
      "[['11:00', '12:30'], ['14:00', '14:30']]\n"
     ]
    }
   ],
   "source": [
    "i = 0\n",
    "j = 0\n",
    "booked_time = []\n",
    "lowerbound = ['00:00']\n",
    "upperbound = []\n",
    "available_time = []\n",
    "\n",
    "# find lower bound from two calender list\n",
    "if convertTime(B1[0]) < convertTime(B2[0]):\n",
    "    lowerbound.append(B2[0])\n",
    "else:\n",
    "    lowerbound.append(B1[0])\n",
    "# find upper bound from two calender list\n",
    "if convertTime(B1[1]) < convertTime(B2[1]):\n",
    "    upperbound.append(B1[1])\n",
    "else:\n",
    "    upperbound.append(B2[1])\n",
    "upperbound.append('24:00')\n",
    "    \n",
    "#Merge two Calenders into one list to find out common busy time\n",
    "while i< len(Cal1) and j < len(Cal2):\n",
    "    \n",
    "    if CompareTime(Cal1[i][1],Cal2[j][0]) == -1:\n",
    "        booked_time.append(Cal1[i])\n",
    "        i = i +1\n",
    "    else:\n",
    "        booked_time.append(Cal2[j])\n",
    "        j = j+1\n",
    "        \n",
    "# Complete remaining entries of list one\n",
    "while i < len(Cal1):\n",
    "    booked_time.append(Cal1[i])\n",
    "    i=i+1\n",
    "    \n",
    "# Complete remaining entries of list two    \n",
    "while j < len(Cal2):\n",
    "    booked_time.append(Cal2[j])\n",
    "    j=j+1\n",
    "    booked_time.sort()\n",
    "\n",
    "print ('===============  Upper and Lower Bounds =========================')\n",
    "print (upperbound)\n",
    "print (lowerbound)\n",
    "booked_time.append(lowerbound)\n",
    "booked_time.append(upperbound)\n",
    "\n",
    "booked_time.sort()\n",
    "print(\"===========================  Booked Time  ==========================\")\n",
    "print (booked_time)\n",
    "\n",
    "# Find Available time\n",
    "i = 0\n",
    "while i < len(booked_time)-1:\n",
    "    if CompareTime(booked_time[i][1],booked_time[i+1][0]) == -1:\n",
    "        if convertTime(booked_time[i+1][0]) - convertTime(booked_time[i][1]) >= Meeting:\n",
    "            slot = []\n",
    "            slot.append(booked_time[i][1])\n",
    "            slot.append(booked_time[i+1][0])\n",
    "            available_time.append(slot)\n",
    "    i= i+1\n",
    "        \n",
    "print (\"========================  Available Time  ==========================\")\n",
    "print (available_time)\n"
   ]
  }
 ],
 "metadata": {
  "kernelspec": {
   "display_name": "Python 3",
   "language": "python",
   "name": "python3"
  },
  "language_info": {
   "codemirror_mode": {
    "name": "ipython",
    "version": 3
   },
   "file_extension": ".py",
   "mimetype": "text/x-python",
   "name": "python",
   "nbconvert_exporter": "python",
   "pygments_lexer": "ipython3",
   "version": "3.7.3"
  }
 },
 "nbformat": 4,
 "nbformat_minor": 2
}
