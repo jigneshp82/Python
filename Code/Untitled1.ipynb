{
 "cells": [
  {
   "cell_type": "code",
   "execution_count": 5,
   "metadata": {},
   "outputs": [],
   "source": [
    "Graph = {'A': ['B','C'] ,\n",
    "        'B' :['H','D','A'],\n",
    "        'C': ['A','D','E'],        \n",
    "        'D':['B','C','G'],\n",
    "        'F':['E','G'],\n",
    "        'E':['C','F','I'],\n",
    "        'G':['D','F'],\n",
    "        'H':['B'],\n",
    "        'I':['E']}\n"
   ]
  },
  {
   "cell_type": "code",
   "execution_count": 9,
   "metadata": {},
   "outputs": [
    {
     "data": {
      "text/plain": [
       "{'A': ['B', 'C'],\n",
       " 'B': ['H', 'D', 'A'],\n",
       " 'C': ['A', 'D', 'E'],\n",
       " 'H': ['B'],\n",
       " 'D': ['B', 'C', 'G'],\n",
       " 'G': ['D', 'F'],\n",
       " 'E': ['C', 'F', 'I']}"
      ]
     },
     "execution_count": 9,
     "metadata": {},
     "output_type": "execute_result"
    }
   ],
   "source": [
    "Graph"
   ]
  },
  {
   "cell_type": "code",
   "execution_count": null,
   "metadata": {},
   "outputs": [],
   "source": [
    "def DFS(visited,Graph,)"
   ]
  },
  {
   "cell_type": "code",
   "execution_count": 2,
   "metadata": {},
   "outputs": [
    {
     "name": "stdout",
     "output_type": "stream",
     "text": [
      "b'jignesh'\n"
     ]
    }
   ],
   "source": [
    "st = b'jignesh'\n",
    "print (st)"
   ]
  },
  {
   "cell_type": "code",
   "execution_count": null,
   "metadata": {},
   "outputs": [],
   "source": []
  }
 ],
 "metadata": {
  "kernelspec": {
   "display_name": "Python 3",
   "language": "python",
   "name": "python3"
  },
  "language_info": {
   "codemirror_mode": {
    "name": "ipython",
    "version": 3
   },
   "file_extension": ".py",
   "mimetype": "text/x-python",
   "name": "python",
   "nbconvert_exporter": "python",
   "pygments_lexer": "ipython3",
   "version": "3.8.8"
  }
 },
 "nbformat": 4,
 "nbformat_minor": 2
}
