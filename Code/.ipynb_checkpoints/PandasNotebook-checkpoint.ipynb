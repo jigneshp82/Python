{
 "cells": [
  {
   "cell_type": "code",
   "execution_count": 18,
   "metadata": {},
   "outputs": [],
   "source": [
    "import pandas as pd\n",
    "import numpy as nm\n",
    "import matplotlib as mpl\n",
    "import matplotlib.pyplot as plt"
   ]
  },
  {
   "cell_type": "code",
   "execution_count": 3,
   "metadata": {},
   "outputs": [
    {
     "name": "stdout",
     "output_type": "stream",
     "text": [
      "0    100\n",
      "1    200\n",
      "2    300\n",
      "dtype: int64\n"
     ]
    }
   ],
   "source": [
    "ser1 = pd.Series([100,200,300])\n",
    "print (ser1)"
   ]
  },
  {
   "cell_type": "code",
   "execution_count": 6,
   "metadata": {},
   "outputs": [
    {
     "name": "stdout",
     "output_type": "stream",
     "text": [
      "Denver          5883\n",
      "Austin           632\n",
      "Philadelphia      21\n",
      "Billing         3469\n",
      "Anchorage        144\n",
      "Name: city_elevation, dtype: int64\n"
     ]
    }
   ],
   "source": [
    "ser2 = pd.Series({'Denver':5883,'Austin' :632, 'Philadelphia': 21 ,'Billing':3469,'Anchorage':144},name = 'city_elevation')\n",
    "print (ser2)"
   ]
  },
  {
   "cell_type": "code",
   "execution_count": 13,
   "metadata": {},
   "outputs": [
    {
     "name": "stdout",
     "output_type": "stream",
     "text": [
      "5883\n",
      "632\n",
      "-1\n"
     ]
    },
    {
     "data": {
      "text/plain": [
       "count       5.000000\n",
       "mean     2029.800000\n",
       "std      2572.149432\n",
       "min        21.000000\n",
       "25%       144.000000\n",
       "50%       632.000000\n",
       "75%      3469.000000\n",
       "max      5883.000000\n",
       "Name: city_elevation, dtype: float64"
      ]
     },
     "execution_count": 13,
     "metadata": {},
     "output_type": "execute_result"
    }
   ],
   "source": [
    "print (ser2['Denver'])\n",
    "print (ser2.get('Austin'))\n",
    "print (ser2.get('Atlanta',-1))\n",
    "ser2.describe()"
   ]
  },
  {
   "cell_type": "code",
   "execution_count": 16,
   "metadata": {},
   "outputs": [
    {
     "name": "stdout",
     "output_type": "stream",
     "text": [
      "Index(['Denver', 'Austin', 'Philadelphia', 'Billing', 'Anchorage'], dtype='object')\n",
      "[5883  632   21 3469  144]\n"
     ]
    }
   ],
   "source": [
    "print (ser2.index)\n",
    "print (ser2.values)"
   ]
  },
  {
   "cell_type": "code",
   "execution_count": 25,
   "metadata": {},
   "outputs": [
    {
     "data": {
      "image/png": "[encoded data removed]",
      "text/plain": [
       "<Figure size 432x288 with 1 Axes>"
      ]
     },
     "metadata": {
      "needs_background": "light"
     },
     "output_type": "display_data"
    }
   ],
   "source": [
    "figure = plt.figure()\n",
    "axis= figure.add_subplot(111)\n",
    "axis.set_title('city elevation')\n",
    "axis.set_xlabel('Name')\n",
    "axis.set_ylabel('Height')\n",
    "ser2.plot(grid = True)\n",
    "plt.show()"
   ]
  },
  {
   "cell_type": "code",
   "execution_count": 2,
   "metadata": {},
   "outputs": [
    {
     "name": "stdout",
     "output_type": "stream",
     "text": [
      "range(5, 0, -1)\n",
      "5\n",
      "4\n",
      "3\n",
      "2\n",
      "1\n"
     ]
    }
   ],
   "source": [
    "a = range(5,0,-1)\n",
    "\n",
    "print (a)\n",
    "\n",
    "for i in range(5,0,-1):\n",
    "    print (i)"
   ]
  }
 ],
 "metadata": {
  "kernelspec": {
   "display_name": "Python 3",
   "language": "python",
   "name": "python3"
  },
  "language_info": {
   "codemirror_mode": {
    "name": "ipython",
    "version": 3
   },
   "file_extension": ".py",
   "mimetype": "text/x-python",
   "name": "python",
   "nbconvert_exporter": "python",
   "pygments_lexer": "ipython3",
   "version": "3.7.3"
  }
 },
 "nbformat": 4,
 "nbformat_minor": 2
}
