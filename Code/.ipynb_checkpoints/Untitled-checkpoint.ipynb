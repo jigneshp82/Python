{
 "cells": [
  {
   "cell_type": "code",
   "execution_count": 32,
   "metadata": {},
   "outputs": [],
   "source": [
    "def LCS(s1,s2,i,j):\n",
    "   \n",
    "    if i >= len(s1) or j >=len(s2):\n",
    "        return 0\n",
    "    elif s1[i] == s2[j]:\n",
    "        return (1 + LCS(s1,s2,i+1,j+1))\n",
    "    else:\n",
    "        return(max(LCS(s1,s2,i+1,j),LCS(s1,s2,i,j+1)))"
   ]
  },
  {
   "cell_type": "code",
   "execution_count": 23,
   "metadata": {},
   "outputs": [],
   "source": [
    "def LCS2(s1,s2,i, j):\n",
    "    if i ==0 or j ==0:\n",
    "        return 0  \n",
    "    \n",
    "    elif s1[i-1] == s2[j-1]:\n",
    "        return (1+LCS(s1,s2,i-1,j-1))\n",
    "    else:\n",
    "        temp1 = LCS(s1,s2,i-1,j)\n",
    "        temp2 = LCS(s1,s2,i,j-1)\n",
    "        return (max(temp1,temp2))\n",
    "    \n",
    "    \n",
    "    "
   ]
  },
  {
   "cell_type": "code",
   "execution_count": 34,
   "metadata": {},
   "outputs": [
    {
     "name": "stdout",
     "output_type": "stream",
     "text": [
      "5\n",
      "0\n"
     ]
    }
   ],
   "source": [
    "s1 = 'CABBGDZIEGZHILMJIZ'\n",
    "s2 = 'BCDZGI'\n",
    "\n",
    "\n",
    "print (LCS(s1,s2,0,0))\n",
    "print (LCS2(s1,s2,len(s1),len(s2)))"
   ]
  },
  {
   "cell_type": "code",
   "execution_count": null,
   "metadata": {},
   "outputs": [],
   "source": []
  }
 ],
 "metadata": {
  "kernelspec": {
   "display_name": "Python 3",
   "language": "python",
   "name": "python3"
  },
  "language_info": {
   "codemirror_mode": {
    "name": "ipython",
    "version": 3
   },
   "file_extension": ".py",
   "mimetype": "text/x-python",
   "name": "python",
   "nbconvert_exporter": "python",
   "pygments_lexer": "ipython3",
   "version": "3.7.3"
  }
 },
 "nbformat": 4,
 "nbformat_minor": 2
}
