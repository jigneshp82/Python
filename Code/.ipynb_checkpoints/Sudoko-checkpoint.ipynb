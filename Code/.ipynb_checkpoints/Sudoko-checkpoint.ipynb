{
 "cells": [
  {
   "cell_type": "code",
   "execution_count": 30,
   "metadata": {},
   "outputs": [],
   "source": [
    "import numpy as np"
   ]
  },
  {
   "cell_type": "code",
   "execution_count": 41,
   "metadata": {},
   "outputs": [
    {
     "data": {
      "text/plain": [
       "array([[0, 0, 1, 7, 0, 0, 2, 3, 5],\n",
       "       [0, 9, 0, 3, 0, 0, 6, 0, 8],\n",
       "       [0, 0, 0, 0, 0, 4, 1, 0, 0],\n",
       "       [0, 7, 9, 0, 0, 9, 0, 0, 3],\n",
       "       [5, 3, 9, 0, 0, 0, 8, 1, 6],\n",
       "       [8, 0, 0, 5, 0, 0, 0, 9, 0],\n",
       "       [0, 0, 3, 1, 0, 0, 0, 0, 0],\n",
       "       [6, 0, 4, 0, 0, 7, 0, 2, 0],\n",
       "       [9, 1, 7, 0, 0, 6, 5, 0, 0]])"
      ]
     },
     "execution_count": 41,
     "metadata": {},
     "output_type": "execute_result"
    }
   ],
   "source": [
    "\n",
    "s = np.array([\n",
    "    [0,0,1,7,0,0,2,3,5],\n",
    "    [0,9,0,3,0,0,6,0,8],\n",
    "    [0,0,0,0,0,4,1,0,0],\n",
    "    [0,7,9,0,0,9,0,0,3],\n",
    "    [5,3,9,0,0,0,8,1,6],\n",
    "    [8,0,0,5,0,0,0,9,0],\n",
    "    [0,0,3,1,0,0,0,0,0],\n",
    "    [6,0,4,0,0,7,0,2,0],\n",
    "    [9,1,7,0,0,6,5,0,0]])\n",
    "s\n"
   ]
  },
  {
   "cell_type": "code",
   "execution_count": 36,
   "metadata": {},
   "outputs": [],
   "source": [
    "def isvaluecorrect(s,v,i,j):\n",
    "    if s[i][j] != 0:\n",
    "        return 0\n",
    "    for n in range(len(s)):\n",
    "        if s[i][n]== v or s[n][j]==v:\n",
    "            return 0\n",
    "    a = np.sqrt(len(s))\n",
    "    x = int(i//a)*3\n",
    "    y = int(j//a)*3\n",
    "    for n in range(x,x+3):       \n",
    "        for m in range(y,y+3):        \n",
    "            if s[n][m] == v:\n",
    "                return 0\n",
    "    return v"
   ]
  },
  {
   "cell_type": "code",
   "execution_count": 33,
   "metadata": {},
   "outputs": [
    {
     "data": {
      "text/plain": [
       "0"
      ]
     },
     "execution_count": 33,
     "metadata": {},
     "output_type": "execute_result"
    }
   ],
   "source": [
    "isvaluecorrect(s,3,2,7)"
   ]
  },
  {
   "cell_type": "code",
   "execution_count": 63,
   "metadata": {},
   "outputs": [],
   "source": [
    "def solve(s):\n",
    "    for i in range(len(s)):\n",
    "        for j in range(len(s)):\n",
    "            if s[i][j] ==0:\n",
    "                for n in range(1,len(s)+1):\n",
    "                    if isvaluecorrect(s,n,i,j) != 0:\n",
    "                        s[i][j]= n\n",
    "                        solve(s)\n",
    "                        s[i][j]=0\n",
    "                return    \n",
    "    print (s)  "
   ]
  },
  {
   "cell_type": "code",
   "execution_count": 48,
   "metadata": {},
   "outputs": [],
   "source": [
    "def check_solution(s):\n",
    "    for i in range(len(s)):\n",
    "        for j in range(len(s)):\n",
    "            if isvaluecorrect(s,s[i][j],i,j)==0:\n",
    "                print ('incorrect solution')                \n",
    "                return\n",
    "    print ('Correct Solution')"
   ]
  },
  {
   "cell_type": "code",
   "execution_count": 66,
   "metadata": {},
   "outputs": [
    {
     "name": "stdout",
     "output_type": "stream",
     "text": [
      "Puzzle:\n",
      "[[0 0 1 7 0 0 2 3 5]\n",
      " [0 9 0 3 0 0 6 0 8]\n",
      " [0 0 0 0 0 4 1 0 0]\n",
      " [0 7 9 0 0 9 0 0 3]\n",
      " [5 3 9 0 0 0 8 1 6]\n",
      " [8 0 0 5 0 0 0 9 0]\n",
      " [0 0 3 1 0 0 0 0 0]\n",
      " [6 0 4 0 0 7 0 2 0]\n",
      " [9 1 7 0 0 6 5 0 0]]\n",
      "solution:\n",
      "[[4 6 1 7 9 8 2 3 5]\n",
      " [7 9 5 3 2 1 6 4 8]\n",
      " [3 2 8 6 5 4 1 7 9]\n",
      " [1 7 9 8 6 9 4 5 3]\n",
      " [5 3 9 4 7 2 8 1 6]\n",
      " [8 4 6 5 1 3 7 9 2]\n",
      " [2 8 3 1 4 5 9 6 7]\n",
      " [6 5 4 9 8 7 3 2 1]\n",
      " [9 1 7 2 3 6 5 8 4]]\n"
     ]
    }
   ],
   "source": [
    "print ('Puzzle:')\n",
    "print (s)\n",
    "sol = np.zeros(shape =(9,9))\n",
    "print ('solution:')\n",
    "solve(s)\n",
    "\n"
   ]
  },
  {
   "cell_type": "code",
   "execution_count": 13,
   "metadata": {},
   "outputs": [],
   "source": [
    "def move(s,e,n=0):\n",
    "    print ('move disk {} from position {} to position {} !'.format(n,s,e))"
   ]
  },
  {
   "cell_type": "code",
   "execution_count": 14,
   "metadata": {},
   "outputs": [
    {
     "name": "stdout",
     "output_type": "stream",
     "text": [
      "move disk 0 from position A to position B !\n"
     ]
    }
   ],
   "source": [
    "move ('A','B')"
   ]
  },
  {
   "cell_type": "code",
   "execution_count": 8,
   "metadata": {},
   "outputs": [],
   "source": [
    "def movevia(a,v,b):\n",
    "    move(a,v)\n",
    "    move(v,b)"
   ]
  },
  {
   "cell_type": "code",
   "execution_count": 15,
   "metadata": {},
   "outputs": [
    {
     "name": "stdout",
     "output_type": "stream",
     "text": [
      "move disk 0 from position A to position V !\n",
      "move disk 0 from position V to position B !\n"
     ]
    }
   ],
   "source": [
    "movevia('A','V','B')"
   ]
  },
  {
   "cell_type": "code",
   "execution_count": 26,
   "metadata": {},
   "outputs": [],
   "source": [
    "def hanoi(n,a,v,b):\n",
    "    if n ==0:\n",
    "        pass\n",
    "    else:\n",
    "        hanoi(n-1,a,b,v)\n",
    "        move(a,b,n)\n",
    "        hanoi(n-1,v,a,b)"
   ]
  },
  {
   "cell_type": "code",
   "execution_count": 27,
   "metadata": {},
   "outputs": [
    {
     "name": "stdout",
     "output_type": "stream",
     "text": [
      "move disk 1 from position A to position C !\n",
      "move disk 2 from position A to position B !\n",
      "move disk 1 from position C to position B !\n",
      "move disk 3 from position A to position C !\n",
      "move disk 1 from position B to position A !\n",
      "move disk 2 from position B to position C !\n",
      "move disk 1 from position A to position C !\n"
     ]
    }
   ],
   "source": [
    "hanoi(3,'A','B','C')"
   ]
  },
  {
   "cell_type": "code",
   "execution_count": null,
   "metadata": {},
   "outputs": [],
   "source": []
  }
 ],
 "metadata": {
  "kernelspec": {
   "display_name": "Python 3",
   "language": "python",
   "name": "python3"
  },
  "language_info": {
   "codemirror_mode": {
    "name": "ipython",
    "version": 3
   },
   "file_extension": ".py",
   "mimetype": "text/x-python",
   "name": "python",
   "nbconvert_exporter": "python",
   "pygments_lexer": "ipython3",
   "version": "3.7.3"
  }
 },
 "nbformat": 4,
 "nbformat_minor": 2
}
