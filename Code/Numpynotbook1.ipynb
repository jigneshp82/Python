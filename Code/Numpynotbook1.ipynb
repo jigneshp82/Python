{
 "cells": [
  {
   "cell_type": "code",
   "execution_count": 1,
   "metadata": {},
   "outputs": [],
   "source": [
    "import numpy as np\n"
   ]
  },
  {
   "cell_type": "code",
   "execution_count": 26,
   "metadata": {},
   "outputs": [
    {
     "name": "stdout",
     "output_type": "stream",
     "text": [
      "[[ 1  2  3  4]\n",
      " [ 5  6  7  8]\n",
      " [ 9 10 11 12]\n",
      " [13 14 15 16]]\n",
      "[[ 7  8]\n",
      " [11 12]]\n",
      "[[50 60 70 80]]\n",
      "[[ 5  6  7  8]\n",
      " [13 14 15 16]]\n"
     ]
    }
   ],
   "source": [
    "arr1 = np.arange(1,17).reshape(4,4)\n",
    "print (arr1)\n",
    "print(arr1[1:3,2:])\n",
    "arr2 = arr1[1:2,:]*10\n",
    "print (arr2)\n",
    "print(arr1[(1,3),:])\n"
   ]
  },
  {
   "cell_type": "code",
   "execution_count": 11,
   "metadata": {},
   "outputs": [
    {
     "name": "stdout",
     "output_type": "stream",
     "text": [
      "[[0. 0. 1.]\n",
      " [0. 0. 0.]\n",
      " [0. 0. 0.]]\n"
     ]
    }
   ],
   "source": [
    "arr2 = np.eye(3,3,2)\n",
    "print (arr2)"
   ]
  },
  {
   "cell_type": "code",
   "execution_count": 30,
   "metadata": {},
   "outputs": [
    {
     "name": "stdout",
     "output_type": "stream",
     "text": [
      "[[ 1  3]\n",
      " [ 5  7]\n",
      " [ 9 11]\n",
      " [13 15]]\n"
     ]
    }
   ],
   "source": [
    "arr3 = np.array([True,False,True,False])\n",
    "print (arr1[:,arr3])"
   ]
  },
  {
   "cell_type": "code",
   "execution_count": 37,
   "metadata": {},
   "outputs": [
    {
     "name": "stdout",
     "output_type": "stream",
     "text": [
      "[[ 2.  2.  3.]\n",
      " [ 4.  6.  6.]\n",
      " [ 7.  8. 10.]]\n",
      "---\n",
      "[[12. 12. 13.]\n",
      " [14. 16. 16.]\n",
      " [17. 18. 20.]]\n",
      "---\n",
      "[[12.  0.  0.]\n",
      " [ 0. 16.  0.]\n",
      " [ 0.  0. 20.]]\n",
      "---\n",
      "[[12. 14. 17.]\n",
      " [12. 16. 18.]\n",
      " [13. 16. 20.]]\n",
      "[[12. 12. 13.]\n",
      " [14. 16. 16.]\n",
      " [17. 18. 20.]]\n",
      "[[  0.  13. -12.]\n",
      " [-16.   0.  14.]\n",
      " [ 18. -17.   0.]]\n"
     ]
    }
   ],
   "source": [
    "arr11 = np.arange(1,10).reshape(3,3)\n",
    "arr12 = np.eye(3)\n",
    "arr11 = arr11 + arr12\n",
    "print (arr11)\n",
    "print (\"---\")\n",
    "arr11= arr11 + np.full((1,3),10)\n",
    "print (arr11)\n",
    "print (\"---\")\n",
    "arr13 = arr11 * arr12\n",
    "print (arr13)\n",
    "print (\"---\")\n",
    "arr14 = arr11.T\n",
    "print(arr14)\n",
    "print(np.dot(arr11,arr12))\n",
    "print(np.cross(arr11,arr12))"
   ]
  },
  {
   "cell_type": "code",
   "execution_count": 72,
   "metadata": {},
   "outputs": [
    {
     "name": "stdout",
     "output_type": "stream",
     "text": [
      "arr21 :  [[ 1  2  3  4]\n",
      " [ 5  6  7  8]\n",
      " [ 9 10 11 12]\n",
      " [13 14 15 16]]\n",
      "sum :  136\n",
      "mean : 8.5\n",
      "sum 1st column:  28\n",
      "mean 3rd row:  10.5\n",
      "mean of center values:  8.5\n",
      "product : [ 7.  8.  9. 10.]\n",
      "reveal :  6\n"
     ]
    }
   ],
   "source": [
    "arr21 = np.arange(1,17).reshape(4,4)\n",
    "print ('arr21 : ',arr21)\n",
    "\n",
    "print ('sum : ',arr21.sum())\n",
    "print ('mean :',arr21.mean())\n",
    "print ('sum 1st column: ',arr21[:,:1].sum())\n",
    "print ('mean 3rd row: ',arr21[2:3,:].mean())\n",
    "print ('mean of center values: ',arr21[1:3,1:3].mean())\n",
    "print ('product :',arr21.mean(axis=0))\n",
    "print ('reveal : ',np.ravel(arr21)[5])\n"
   ]
  },
  {
   "cell_type": "code",
   "execution_count": 52,
   "metadata": {},
   "outputs": [],
   "source": [
    "data = [[1, 88, 68, 25, 10, 'Sunny', False],\n",
    "         [2, 84, 65, 31, 5, 'Cloudy', False],\n",
    "         [3, 86, 66, 32, 5, 'Light Rain', False],\n",
    "         [4, 89, 67, 26, 5, 'Rain', False],\n",
    "         [5, 92, 70, 22, 10, 'Sunny', False],\n",
    "         [6, 95, 71, 18, 20, 'Sunny', True],\n",
    "          [7, 94, 69, 27, 10, 'Sunny', False]]\n"
   ]
  },
  {
   "cell_type": "code",
   "execution_count": 69,
   "metadata": {},
   "outputs": [
    {
     "name": "stdout",
     "output_type": "stream",
     "text": [
      "[[1 88 68 25 10 'Sunny' False]\n",
      " [2 84 65 31 5 'Cloudy' False]\n",
      " [3 86 66 32 5 'Light Rain' False]\n",
      " [4 89 67 26 5 'Rain' False]\n",
      " [5 92 70 22 10 'Sunny' False]\n",
      " [6 95 71 18 20 'Sunny' True]\n",
      " [7 94 69 27 10 'Sunny' False]]\n",
      "[[88 68]\n",
      " [84 65]\n",
      " [86 66]\n",
      " [89 67]\n",
      " [92 70]\n",
      " [95 71]\n",
      " [94 69]]\n"
     ]
    },
    {
     "data": {
      "text/plain": [
       "array([78. , 74.5, 76. , 78. , 81. , 83. , 81.5])"
      ]
     },
     "execution_count": 69,
     "metadata": {},
     "output_type": "execute_result"
    }
   ],
   "source": [
    "arr_temp_data = np.array(data,dtype = 'object')\n",
    "print(arr_temp_data)\n",
    "\n",
    "arr_high_low = np.array(arr_temp_data[:,1:3],dtype=int)\n",
    "print(arr_high_low)\n",
    "\n",
    "arr_high_low.mean(axis=1)"
   ]
  },
  {
   "cell_type": "code",
   "execution_count": 81,
   "metadata": {},
   "outputs": [
    {
     "name": "stdout",
     "output_type": "stream",
     "text": [
      "[[9 1 2]\n",
      " [3 4 5]\n",
      " [6 7 8]]\n",
      "[0 1 2]\n",
      "[[False False False]\n",
      " [False  True  True]\n",
      " [ True  True  True]]\n"
     ]
    }
   ],
   "source": [
    "arr41 = np.arange(1,10).reshape(3,3)\n",
    "arr42 = np.roll(arr41,1)\n",
    "\n",
    "print (arr42)\n",
    "print (arr41[:,1].argsort())\n",
    "print (arr41 > 4)\n"
   ]
  }
 ],
 "metadata": {
  "kernelspec": {
   "display_name": "Python 3",
   "language": "python",
   "name": "python3"
  },
  "language_info": {
   "codemirror_mode": {
    "name": "ipython",
    "version": 3
   },
   "file_extension": ".py",
   "mimetype": "text/x-python",
   "name": "python",
   "nbconvert_exporter": "python",
   "pygments_lexer": "ipython3",
   "version": "3.7.3"
  }
 },
 "nbformat": 4,
 "nbformat_minor": 2
}
