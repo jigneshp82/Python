{
 "cells": [
  {
   "cell_type": "markdown",
   "metadata": {},
   "source": [
    "# Depth First Search \n"
   ]
  },
  {
   "cell_type": "code",
   "execution_count": 1,
   "metadata": {},
   "outputs": [
    {
     "data": {
      "text/plain": [
       "{'A': {'B', 'C'},\n",
       " 'B': {'A', 'D', 'E'},\n",
       " 'C': {'A', 'E', 'F'},\n",
       " 'D': {'B'},\n",
       " 'E': {'B', 'C'},\n",
       " 'F': {'C'}}"
      ]
     },
     "execution_count": 1,
     "metadata": {},
     "output_type": "execute_result"
    }
   ],
   "source": [
    "Graph = {'A':set(['B','C']),\n",
    "        'B':set(['A','D','E']),\n",
    "        'C':set(['A','E','F']),\n",
    "        'D':set(['B']),\n",
    "        'E':set(['B','C']),\n",
    "        'F':set(['C'])}\n",
    "\n",
    "Graph"
   ]
  },
  {
   "cell_type": "code",
   "execution_count": 6,
   "metadata": {},
   "outputs": [],
   "source": [
    "# Depth First Search -- Recurcion\n",
    "def DFS(visited, Graph, Node):\n",
    "    if Node not in visited:\n",
    "        visited.append(Node)\n",
    "        print (Node)\n",
    "        for Neighbour in Graph[Node]:\n",
    "            DFS(visited,Graph,Neighbour)\n",
    "    "
   ]
  },
  {
   "cell_type": "code",
   "execution_count": 7,
   "metadata": {},
   "outputs": [
    {
     "name": "stdout",
     "output_type": "stream",
     "text": [
      "A\n",
      "B\n",
      "D\n",
      "E\n",
      "C\n",
      "F\n",
      "['A', 'B', 'D', 'E', 'C', 'F']\n"
     ]
    }
   ],
   "source": [
    "visits = []\n",
    "DFS(visits,Graph,'A')\n",
    "print (visits)"
   ]
  },
  {
   "cell_type": "code",
   "execution_count": null,
   "metadata": {},
   "outputs": [],
   "source": [
    "def DFS2(Graph, Node):\n",
    "    visit= set()\n",
    "    stack = [Node]\n",
    "    while (stack):\n",
    "        vertex = stack.pop()\n",
    "        if vertex not in visit:\n",
    "            visit.add(vertex)\n",
    "            stack.extend(Graph[vertex] - visit)\n",
    "    return(visit)"
   ]
  },
  {
   "cell_type": "code",
   "execution_count": null,
   "metadata": {},
   "outputs": [],
   "source": [
    "print(DFS2(Graph,'A'))"
   ]
  },
  {
   "cell_type": "code",
   "execution_count": 63,
   "metadata": {},
   "outputs": [],
   "source": [
    "\n",
    "def QuickSort(array,start, end):\n",
    "    \n",
    "    if start >= end:\n",
    "        return\n",
    "    else:\n",
    "        j = partition(array,start,end)\n",
    "               \n",
    "        QuickSort(array,start,j)\n",
    "        QuickSort(array,j+1,end)\n",
    "    "
   ]
  },
  {
   "cell_type": "code",
   "execution_count": 77,
   "metadata": {},
   "outputs": [],
   "source": [
    "def partition (array, start, end):    \n",
    "    pivot = array[(start+end)//2]\n",
    "    low = start +1\n",
    "    high = end\n",
    "    print ('low :'+str(low)+' high :'+str(high) +' Pivot : '+str(pivot))\n",
    "    while True:\n",
    "     \n",
    "        while low <= high and array[low] < pivot:\n",
    "            low = low + 1\n",
    "            \n",
    "        while low <= high and array[high] > pivot:\n",
    "            high = high - 1\n",
    "            \n",
    "        if low <= high:\n",
    "            if array[high] == array[low]:\n",
    "                high = high - 1\n",
    "                low = low + 1\n",
    "            else:\n",
    "                array[high],array[low] = array[low],array[high]\n",
    "                print ('swap  - '+ str(array))\n",
    "                \n",
    "        if low >= high:\n",
    "            break\n",
    "        \n",
    "    \n",
    "    array[start],array[high] = array[high],array[start]\n",
    "    print ('return array: '+ str(array)+' - high : '+str(high))\n",
    "    \n",
    "    return high"
   ]
  },
  {
   "cell_type": "code",
   "execution_count": 78,
   "metadata": {},
   "outputs": [
    {
     "name": "stdout",
     "output_type": "stream",
     "text": [
      "low :1 high :9 Pivot : 34\n",
      "swap  - [19, 11, 21, 8, 34, 25, 43, 6, 53, 43]\n",
      "swap  - [19, 11, 21, 8, 6, 25, 43, 34, 53, 43]\n",
      "swap  - [19, 11, 21, 8, 6, 25, 34, 43, 53, 43]\n",
      "return array: [25, 11, 21, 8, 6, 19, 34, 43, 53, 43] - high : 5\n",
      "low :1 high :5 Pivot : 21\n",
      "swap  - [25, 11, 19, 8, 6, 21, 34, 43, 53, 43]\n",
      "return array: [6, 11, 19, 8, 25, 21, 34, 43, 53, 43] - high : 4\n",
      "low :1 high :4 Pivot : 19\n",
      "swap  - [6, 11, 8, 19, 25, 21, 34, 43, 53, 43]\n",
      "return array: [8, 11, 6, 19, 25, 21, 34, 43, 53, 43] - high : 2\n",
      "low :1 high :2 Pivot : 11\n",
      "swap  - [8, 6, 11, 19, 25, 21, 34, 43, 53, 43]\n",
      "return array: [6, 8, 11, 19, 25, 21, 34, 43, 53, 43] - high : 1\n",
      "low :1 high :1 Pivot : 6\n",
      "return array: [6, 8, 11, 19, 25, 21, 34, 43, 53, 43] - high : 0\n",
      "low :4 high :4 Pivot : 19\n",
      "return array: [6, 8, 11, 19, 25, 21, 34, 43, 53, 43] - high : 3\n",
      "low :7 high :9 Pivot : 43\n",
      "return array: [6, 8, 11, 19, 25, 21, 53, 43, 34, 43] - high : 8\n",
      "low :7 high :8 Pivot : 43\n",
      "swap  - [6, 8, 11, 19, 25, 21, 53, 34, 43, 43]\n",
      "return array: [6, 8, 11, 19, 25, 21, 34, 53, 43, 43] - high : 7\n",
      "low :7 high :7 Pivot : 34\n",
      "return array: [6, 8, 11, 19, 25, 21, 34, 53, 43, 43] - high : 6\n",
      "[6, 8, 11, 19, 25, 21, 34, 53, 43, 43]\n"
     ]
    }
   ],
   "source": [
    "#list1 = [10,8,15,32,23,65,37,44,56,3,18,2,45,36,22,11,64,39,87,57,74,35]\n",
    "#print (len(list1))\n",
    "list2 = [19,43,21,8,34,25,43,6,53,11]\n",
    "\n",
    "QuickSort(list2,0,len(list2)-1)\n",
    "\n",
    "print (list2)"
   ]
  },
  {
   "cell_type": "code",
   "execution_count": 2,
   "metadata": {},
   "outputs": [],
   "source": [
    "def Mergesort(Array):\n",
    "    \n",
    "    print ('input - '+ str(Array))\n",
    "    if len(Array) > 1:\n",
    "        mid = len(Array)//2        \n",
    "        L = Mergesort(Array[:mid])\n",
    "        R = Mergesort(Array[mid:])\n",
    "        \n",
    "        i=j=k=0       \n",
    "        \n",
    "        while (i<len(L) and j<len(R)):\n",
    "            if L[i] < R[j]:\n",
    "                Array[k] = L[i]\n",
    "                i = i +1\n",
    "            else:\n",
    "                Array[k] = R[j]\n",
    "                j= j + 1\n",
    "            k= k + 1\n",
    "        \n",
    "        while (i < len(L)):\n",
    "            Array[k] = L[i]\n",
    "            i = i + 1\n",
    "            k = k + 1\n",
    "            \n",
    "        while (j < len(R)):\n",
    "            Array[k] = R[j]\n",
    "            j =j + 1\n",
    "            k = k + 1\n",
    "                \n",
    "    print ('Sorted - ' +str(Array))       \n",
    "    return(Array)\n",
    "                \n",
    "                "
   ]
  },
  {
   "cell_type": "code",
   "execution_count": 14,
   "metadata": {},
   "outputs": [
    {
     "name": "stdout",
     "output_type": "stream",
     "text": [
      "input - [19, 43, 21, 8, 34, 25, 53, 6, 87, 23, 91, 76]\n",
      "input - [19, 43, 21, 8, 34, 25]\n",
      "input - [19, 43, 21]\n",
      "input - [19]\n",
      "Sorted - [19]\n",
      "input - [43, 21]\n",
      "input - [43]\n",
      "Sorted - [43]\n",
      "input - [21]\n",
      "Sorted - [21]\n",
      "Sorted - [21, 43]\n",
      "Sorted - [19, 21, 43]\n",
      "input - [8, 34, 25]\n",
      "input - [8]\n",
      "Sorted - [8]\n",
      "input - [34, 25]\n",
      "input - [34]\n",
      "Sorted - [34]\n",
      "input - [25]\n",
      "Sorted - [25]\n",
      "Sorted - [25, 34]\n",
      "Sorted - [8, 25, 34]\n",
      "Sorted - [8, 19, 21, 25, 34, 43]\n",
      "input - [53, 6, 87, 23, 91, 76]\n",
      "input - [53, 6, 87]\n",
      "input - [53]\n",
      "Sorted - [53]\n",
      "input - [6, 87]\n",
      "input - [6]\n",
      "Sorted - [6]\n",
      "input - [87]\n",
      "Sorted - [87]\n",
      "Sorted - [6, 87]\n",
      "Sorted - [6, 53, 87]\n",
      "input - [23, 91, 76]\n",
      "input - [23]\n",
      "Sorted - [23]\n",
      "input - [91, 76]\n",
      "input - [91]\n",
      "Sorted - [91]\n",
      "input - [76]\n",
      "Sorted - [76]\n",
      "Sorted - [76, 91]\n",
      "Sorted - [23, 76, 91]\n",
      "Sorted - [6, 23, 53, 76, 87, 91]\n",
      "Sorted - [6, 8, 19, 21, 23, 25, 34, 43, 53, 76, 87, 91]\n",
      "[6, 8, 19, 21, 23, 25, 34, 43, 53, 76, 87, 91]\n"
     ]
    }
   ],
   "source": [
    "list2 = [19,43,21,8,34,25,53,6,87,23,91,76]\n",
    "sortedlist = Mergesort(list2)\n",
    "print(sortedlist)"
   ]
  },
  {
   "cell_type": "code",
   "execution_count": 39,
   "metadata": {},
   "outputs": [],
   "source": [
    "def binarysearch(List,Item):\n",
    "    high = len(List) -1\n",
    "    low = 0\n",
    "    \n",
    "    while low <= high:       \n",
    "        mid = (high + low )//2\n",
    "        if List[mid] == Item:\n",
    "            return(mid)\n",
    "        elif List[mid] > Item:\n",
    "            print('left side')\n",
    "            high = mid - 1\n",
    "        elif List[mid] < Item:\n",
    "            print('right side')\n",
    "            low = mid +1\n",
    "        \n",
    "    return(-1)\n",
    "    "
   ]
  },
  {
   "cell_type": "code",
   "execution_count": 38,
   "metadata": {},
   "outputs": [
    {
     "name": "stdout",
     "output_type": "stream",
     "text": [
      "21\n",
      "0   -   11   -   5----:--->25\n",
      "left side\n",
      "0   -   4   -   2----:--->19\n",
      "right side\n",
      "3   -   4   -   3----:--->21\n",
      "3\n"
     ]
    }
   ],
   "source": [
    "print (binarysearch(sortedlist,21))"
   ]
  },
  {
   "cell_type": "code",
   "execution_count": 35,
   "metadata": {},
   "outputs": [],
   "source": [
    "def selectionsort(List):\n",
    "    for i in range(len(List)):  \n",
    "        print (List)\n",
    "        for j in range(i+1,len(List)):           \n",
    "            if List[i] > List[j]:\n",
    "                temp = List[i]\n",
    "                List[i]= List[j]\n",
    "                List[j] = temp\n",
    "       \n",
    "    print (List)"
   ]
  },
  {
   "cell_type": "code",
   "execution_count": 36,
   "metadata": {},
   "outputs": [
    {
     "name": "stdout",
     "output_type": "stream",
     "text": [
      "[19, 43, 21, 8, 34, 25, 43, 6, 53, 11]\n",
      "[6, 43, 21, 19, 34, 25, 43, 8, 53, 11]\n",
      "[6, 8, 43, 21, 34, 25, 43, 19, 53, 11]\n",
      "[6, 8, 11, 43, 34, 25, 43, 21, 53, 19]\n",
      "[6, 8, 11, 19, 43, 34, 43, 25, 53, 21]\n",
      "[6, 8, 11, 19, 21, 43, 43, 34, 53, 25]\n",
      "[6, 8, 11, 19, 21, 25, 43, 43, 53, 34]\n",
      "[6, 8, 11, 19, 21, 25, 34, 43, 53, 43]\n",
      "[6, 8, 11, 19, 21, 25, 34, 43, 53, 43]\n",
      "[6, 8, 11, 19, 21, 25, 34, 43, 43, 53]\n",
      "[6, 8, 11, 19, 21, 25, 34, 43, 43, 53]\n"
     ]
    }
   ],
   "source": [
    "list2 = [19,43,21,8,34,25,43,6,53,11]\n",
    "selectionsort(list2)"
   ]
  },
  {
   "cell_type": "code",
   "execution_count": 37,
   "metadata": {},
   "outputs": [],
   "source": [
    "def bubblesort(List):\n",
    "    for i in range(len(List)):\n",
    "        print (List)\n",
    "        for j in range(i+1,len(List)-1):\n",
    "            if List[i] < List[j+1]:\n",
    "                temp = List[j]\n",
    "                List[j] = List[j+1]\n",
    "                List[j+1] = temp\n",
    "    print(List)"
   ]
  },
  {
   "cell_type": "code",
   "execution_count": 38,
   "metadata": {},
   "outputs": [
    {
     "name": "stdout",
     "output_type": "stream",
     "text": [
      "[19, 43, 21, 8, 34, 25, 43, 6, 53, 11]\n",
      "[19, 21, 43, 34, 25, 43, 8, 53, 6, 11]\n",
      "[19, 21, 34, 25, 43, 43, 53, 8, 6, 11]\n",
      "[19, 21, 34, 43, 43, 53, 25, 8, 6, 11]\n",
      "[19, 21, 34, 43, 53, 43, 25, 8, 6, 11]\n",
      "[19, 21, 34, 43, 53, 43, 25, 8, 6, 11]\n",
      "[19, 21, 34, 43, 53, 43, 25, 8, 6, 11]\n",
      "[19, 21, 34, 43, 53, 43, 25, 8, 6, 11]\n",
      "[19, 21, 34, 43, 53, 43, 25, 8, 11, 6]\n",
      "[19, 21, 34, 43, 53, 43, 25, 8, 11, 6]\n",
      "[19, 21, 34, 43, 53, 43, 25, 8, 11, 6]\n"
     ]
    }
   ],
   "source": [
    "list2 = [19,43,21,8,34,25,43,6,53,11]\n",
    "bubblesort(list2)"
   ]
  },
  {
   "cell_type": "code",
   "execution_count": null,
   "metadata": {},
   "outputs": [],
   "source": []
  }
 ],
 "metadata": {
  "kernelspec": {
   "display_name": "Python 3",
   "language": "python",
   "name": "python3"
  },
  "language_info": {
   "codemirror_mode": {
    "name": "ipython",
    "version": 3
   },
   "file_extension": ".py",
   "mimetype": "text/x-python",
   "name": "python",
   "nbconvert_exporter": "python",
   "pygments_lexer": "ipython3",
   "version": "3.7.3"
  }
 },
 "nbformat": 4,
 "nbformat_minor": 2
}
