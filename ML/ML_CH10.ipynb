{
 "cells": [
  {
   "cell_type": "code",
   "execution_count": 2,
   "id": "2809677e-7be6-44c7-9194-755b8381c009",
   "metadata": {},
   "outputs": [],
   "source": [
    "import tensorflow as tf\n",
    "from tensorflow import keras"
   ]
  },
  {
   "cell_type": "code",
   "execution_count": 3,
   "id": "f0c3d9c5-21ca-4fa1-9e68-22f747409f69",
   "metadata": {},
   "outputs": [
    {
     "data": {
      "text/plain": [
       "'2.4.1'"
      ]
     },
     "execution_count": 3,
     "metadata": {},
     "output_type": "execute_result"
    }
   ],
   "source": [
    "tf.__version__"
   ]
  },
  {
   "cell_type": "code",
   "execution_count": 4,
   "id": "d5976617-15d1-4e3f-931a-5b2b373f69b2",
   "metadata": {},
   "outputs": [
    {
     "data": {
      "text/plain": [
       "'2.4.0'"
      ]
     },
     "execution_count": 4,
     "metadata": {},
     "output_type": "execute_result"
    }
   ],
   "source": [
    "keras.__version__\n"
   ]
  },
  {
   "cell_type": "code",
   "execution_count": 6,
   "id": "30150c30-2f15-4382-9676-841af8733e11",
   "metadata": {},
   "outputs": [],
   "source": [
    "fashion = keras.datasets.fashion_mnist\n",
    "(X_train_full, y_train_full),( X_test, y_test) = fashion.load_data()"
   ]
  },
  {
   "cell_type": "code",
   "execution_count": 8,
   "id": "caff53bc-d2ae-4eba-89be-098a10869748",
   "metadata": {},
   "outputs": [
    {
     "name": "stdout",
     "output_type": "stream",
     "text": [
      "(60000, 28, 28)\n",
      "uint8\n"
     ]
    }
   ],
   "source": [
    "print(X_train_full.shape)\n",
    "print(X_train_full.dtype)"
   ]
  },
  {
   "cell_type": "code",
   "execution_count": 9,
   "id": "3e0f62e1-c647-42a5-a9dd-8aac9c3b44a4",
   "metadata": {},
   "outputs": [
    {
     "name": "stdout",
     "output_type": "stream",
     "text": [
      "(10000, 28, 28)\n",
      "uint8\n"
     ]
    }
   ],
   "source": [
    "print(X_test.shape)\n",
    "print(X_test.dtype)"
   ]
  },
  {
   "cell_type": "code",
   "execution_count": 10,
   "id": "e91a5049-55e2-433a-827b-5480f98e8db0",
   "metadata": {},
   "outputs": [
    {
     "name": "stdout",
     "output_type": "stream",
     "text": [
      "(60000,)\n",
      "uint8\n"
     ]
    }
   ],
   "source": [
    "print(y_train_full.shape)\n",
    "print(y_train_full.dtype)"
   ]
  },
  {
   "cell_type": "code",
   "execution_count": 11,
   "id": "d27c82be-e9d7-4854-b9de-13c4c37c5f09",
   "metadata": {},
   "outputs": [
    {
     "name": "stdout",
     "output_type": "stream",
     "text": [
      "(10000,)\n",
      "uint8\n"
     ]
    }
   ],
   "source": [
    "print(y_test.shape)\n",
    "print(y_test.dtype)"
   ]
  },
  {
   "cell_type": "code",
   "execution_count": 12,
   "id": "3ec8185e-2f2f-4cf4-a5c3-317433ea0bf2",
   "metadata": {},
   "outputs": [
    {
     "data": {
      "text/plain": [
       "array([[[  0,   0,   0,   0,   0,   0,   0,   0,   0,   0,   0,   0,\n",
       "           0,   0,   0,   0,   0,   0,   0,   0,   0,   0,   0,   0,\n",
       "           0,   0,   0,   0],\n",
       "        [  0,   0,   0,   0,   0,   0,   0,   0,   0,   0,   0,   0,\n",
       "           0,   0,   0,   0,   0,   0,   0,   0,   0,   0,   0,   0,\n",
       "           0,   0,   0,   0],\n",
       "        [  0,   0,   0,   0,   0,   0,   0,   0,   0,   0,   0,   0,\n",
       "           0,   0,   0,   0,   0,   0,   0,   0,   0,   0,   0,   0,\n",
       "           0,   0,   0,   0],\n",
       "        [  0,   0,   0,   0,   0,   0,   0,   0,   0,   0,   0,   0,\n",
       "           1,   0,   0,  13,  73,   0,   0,   1,   4,   0,   0,   0,\n",
       "           0,   1,   1,   0],\n",
       "        [  0,   0,   0,   0,   0,   0,   0,   0,   0,   0,   0,   0,\n",
       "           3,   0,  36, 136, 127,  62,  54,   0,   0,   0,   1,   3,\n",
       "           4,   0,   0,   3],\n",
       "        [  0,   0,   0,   0,   0,   0,   0,   0,   0,   0,   0,   0,\n",
       "           6,   0, 102, 204, 176, 134, 144, 123,  23,   0,   0,   0,\n",
       "           0,  12,  10,   0],\n",
       "        [  0,   0,   0,   0,   0,   0,   0,   0,   0,   0,   0,   0,\n",
       "           0,   0, 155, 236, 207, 178, 107, 156, 161, 109,  64,  23,\n",
       "          77, 130,  72,  15],\n",
       "        [  0,   0,   0,   0,   0,   0,   0,   0,   0,   0,   0,   1,\n",
       "           0,  69, 207, 223, 218, 216, 216, 163, 127, 121, 122, 146,\n",
       "         141,  88, 172,  66],\n",
       "        [  0,   0,   0,   0,   0,   0,   0,   0,   0,   1,   1,   1,\n",
       "           0, 200, 232, 232, 233, 229, 223, 223, 215, 213, 164, 127,\n",
       "         123, 196, 229,   0],\n",
       "        [  0,   0,   0,   0,   0,   0,   0,   0,   0,   0,   0,   0,\n",
       "           0, 183, 225, 216, 223, 228, 235, 227, 224, 222, 224, 221,\n",
       "         223, 245, 173,   0],\n",
       "        [  0,   0,   0,   0,   0,   0,   0,   0,   0,   0,   0,   0,\n",
       "           0, 193, 228, 218, 213, 198, 180, 212, 210, 211, 213, 223,\n",
       "         220, 243, 202,   0],\n",
       "        [  0,   0,   0,   0,   0,   0,   0,   0,   0,   1,   3,   0,\n",
       "          12, 219, 220, 212, 218, 192, 169, 227, 208, 218, 224, 212,\n",
       "         226, 197, 209,  52],\n",
       "        [  0,   0,   0,   0,   0,   0,   0,   0,   0,   0,   6,   0,\n",
       "          99, 244, 222, 220, 218, 203, 198, 221, 215, 213, 222, 220,\n",
       "         245, 119, 167,  56],\n",
       "        [  0,   0,   0,   0,   0,   0,   0,   0,   0,   4,   0,   0,\n",
       "          55, 236, 228, 230, 228, 240, 232, 213, 218, 223, 234, 217,\n",
       "         217, 209,  92,   0],\n",
       "        [  0,   0,   1,   4,   6,   7,   2,   0,   0,   0,   0,   0,\n",
       "         237, 226, 217, 223, 222, 219, 222, 221, 216, 223, 229, 215,\n",
       "         218, 255,  77,   0],\n",
       "        [  0,   3,   0,   0,   0,   0,   0,   0,   0,  62, 145, 204,\n",
       "         228, 207, 213, 221, 218, 208, 211, 218, 224, 223, 219, 215,\n",
       "         224, 244, 159,   0],\n",
       "        [  0,   0,   0,   0,  18,  44,  82, 107, 189, 228, 220, 222,\n",
       "         217, 226, 200, 205, 211, 230, 224, 234, 176, 188, 250, 248,\n",
       "         233, 238, 215,   0],\n",
       "        [  0,  57, 187, 208, 224, 221, 224, 208, 204, 214, 208, 209,\n",
       "         200, 159, 245, 193, 206, 223, 255, 255, 221, 234, 221, 211,\n",
       "         220, 232, 246,   0],\n",
       "        [  3, 202, 228, 224, 221, 211, 211, 214, 205, 205, 205, 220,\n",
       "         240,  80, 150, 255, 229, 221, 188, 154, 191, 210, 204, 209,\n",
       "         222, 228, 225,   0],\n",
       "        [ 98, 233, 198, 210, 222, 229, 229, 234, 249, 220, 194, 215,\n",
       "         217, 241,  65,  73, 106, 117, 168, 219, 221, 215, 217, 223,\n",
       "         223, 224, 229,  29],\n",
       "        [ 75, 204, 212, 204, 193, 205, 211, 225, 216, 185, 197, 206,\n",
       "         198, 213, 240, 195, 227, 245, 239, 223, 218, 212, 209, 222,\n",
       "         220, 221, 230,  67],\n",
       "        [ 48, 203, 183, 194, 213, 197, 185, 190, 194, 192, 202, 214,\n",
       "         219, 221, 220, 236, 225, 216, 199, 206, 186, 181, 177, 172,\n",
       "         181, 205, 206, 115],\n",
       "        [  0, 122, 219, 193, 179, 171, 183, 196, 204, 210, 213, 207,\n",
       "         211, 210, 200, 196, 194, 191, 195, 191, 198, 192, 176, 156,\n",
       "         167, 177, 210,  92],\n",
       "        [  0,   0,  74, 189, 212, 191, 175, 172, 175, 181, 185, 188,\n",
       "         189, 188, 193, 198, 204, 209, 210, 210, 211, 188, 188, 194,\n",
       "         192, 216, 170,   0],\n",
       "        [  2,   0,   0,   0,  66, 200, 222, 237, 239, 242, 246, 243,\n",
       "         244, 221, 220, 193, 191, 179, 182, 182, 181, 176, 166, 168,\n",
       "          99,  58,   0,   0],\n",
       "        [  0,   0,   0,   0,   0,   0,   0,  40,  61,  44,  72,  41,\n",
       "          35,   0,   0,   0,   0,   0,   0,   0,   0,   0,   0,   0,\n",
       "           0,   0,   0,   0],\n",
       "        [  0,   0,   0,   0,   0,   0,   0,   0,   0,   0,   0,   0,\n",
       "           0,   0,   0,   0,   0,   0,   0,   0,   0,   0,   0,   0,\n",
       "           0,   0,   0,   0],\n",
       "        [  0,   0,   0,   0,   0,   0,   0,   0,   0,   0,   0,   0,\n",
       "           0,   0,   0,   0,   0,   0,   0,   0,   0,   0,   0,   0,\n",
       "           0,   0,   0,   0]]], dtype=uint8)"
      ]
     },
     "execution_count": 12,
     "metadata": {},
     "output_type": "execute_result"
    }
   ],
   "source": [
    "X_train_full[0:1]"
   ]
  },
  {
   "cell_type": "code",
   "execution_count": 13,
   "id": "27692aaa-5798-4694-a997-5a97c6168162",
   "metadata": {},
   "outputs": [
    {
     "data": {
      "text/plain": [
       "array([9], dtype=uint8)"
      ]
     },
     "execution_count": 13,
     "metadata": {},
     "output_type": "execute_result"
    }
   ],
   "source": [
    "y_train_full[0:1]"
   ]
  },
  {
   "cell_type": "code",
   "execution_count": 23,
   "id": "c661b78b-18a7-49cd-b646-8aad654a38ad",
   "metadata": {},
   "outputs": [],
   "source": [
    "X_valid, X_train = X_train_full[:5000]/255, X_train_full[5000:]/255\n",
    "y_valid, y_train = y_train_full[:5000], y_train_full[5000:]"
   ]
  },
  {
   "cell_type": "code",
   "execution_count": 19,
   "id": "6a93f627-20ee-4137-a40a-a45a333ba74c",
   "metadata": {},
   "outputs": [],
   "source": [
    "class_name =['T-shirt/top','Trouser','Pullover','Dress','Coat','Sandal','Shirt','Sneaker','Bag','Ankle boot']"
   ]
  },
  {
   "cell_type": "code",
   "execution_count": 26,
   "id": "7236985e-02f8-46f6-be51-5b0066bf15fd",
   "metadata": {},
   "outputs": [
    {
     "data": {
      "text/plain": [
       "'Coat'"
      ]
     },
     "execution_count": 26,
     "metadata": {},
     "output_type": "execute_result"
    }
   ],
   "source": [
    "class_name[y_train[0]]\n"
   ]
  },
  {
   "cell_type": "code",
   "execution_count": 27,
   "id": "980c7ec0-daea-40a8-8ab2-f9f9b4e4e11e",
   "metadata": {},
   "outputs": [],
   "source": [
    "model = keras.models.Sequential()\n",
    "model.add(keras.layers.Flatten(input_shape= [28,28]))\n",
    "model.add(keras.layers.Dense(300, activation = 'relu'))\n",
    "model.add(keras.layers.Dense(200, activation = 'relu'))\n",
    "model.add(keras.layers.Dense(100, activation = 'relu'))\n",
    "model.add(keras.layers.Dense(10, activation = 'softmax'))"
   ]
  },
  {
   "cell_type": "code",
   "execution_count": 29,
   "id": "5701f274-2b05-48d9-a22f-68c01e8b62de",
   "metadata": {},
   "outputs": [
    {
     "name": "stdout",
     "output_type": "stream",
     "text": [
      "Model: \"sequential\"\n",
      "_________________________________________________________________\n",
      "Layer (type)                 Output Shape              Param #   \n",
      "=================================================================\n",
      "flatten (Flatten)            (None, 784)               0         \n",
      "_________________________________________________________________\n",
      "dense (Dense)                (None, 300)               235500    \n",
      "_________________________________________________________________\n",
      "dense_1 (Dense)              (None, 200)               60200     \n",
      "_________________________________________________________________\n",
      "dense_2 (Dense)              (None, 100)               20100     \n",
      "_________________________________________________________________\n",
      "dense_3 (Dense)              (None, 10)                1010      \n",
      "=================================================================\n",
      "Total params: 316,810\n",
      "Trainable params: 316,810\n",
      "Non-trainable params: 0\n",
      "_________________________________________________________________\n"
     ]
    }
   ],
   "source": [
    "model.summary()"
   ]
  },
  {
   "cell_type": "code",
   "execution_count": 30,
   "id": "bff53fca-2d67-4e53-bdbc-6e5f0984adfd",
   "metadata": {},
   "outputs": [],
   "source": [
    "loss = keras.losses.sparse_categorical_crossentropy\n",
    "optimizer = keras.optimizers.SGD()\n",
    "metrics = [\"accuracy\"]\n",
    "model.compile(loss = loss, optimizer = optimizer, metrics = metrics)\n"
   ]
  },
  {
   "cell_type": "code",
   "execution_count": 31,
   "id": "b022ffb3-0115-4b29-8ca7-56eecf0ec071",
   "metadata": {},
   "outputs": [
    {
     "name": "stdout",
     "output_type": "stream",
     "text": [
      "Epoch 1/30\n",
      "1719/1719 [==============================] - 15s 8ms/step - loss: 1.0356 - accuracy: 0.6665 - val_loss: 0.4847 - val_accuracy: 0.8402\n",
      "Epoch 2/30\n",
      "1719/1719 [==============================] - 15s 9ms/step - loss: 0.4964 - accuracy: 0.8251 - val_loss: 0.4409 - val_accuracy: 0.8486\n",
      "Epoch 3/30\n",
      "1719/1719 [==============================] - 15s 8ms/step - loss: 0.4385 - accuracy: 0.8473 - val_loss: 0.4012 - val_accuracy: 0.8630\n",
      "Epoch 4/30\n",
      "1719/1719 [==============================] - 15s 9ms/step - loss: 0.4080 - accuracy: 0.8566 - val_loss: 0.3726 - val_accuracy: 0.8744\n",
      "Epoch 5/30\n",
      "1719/1719 [==============================] - 15s 9ms/step - loss: 0.3814 - accuracy: 0.8646 - val_loss: 0.3666 - val_accuracy: 0.8706\n",
      "Epoch 6/30\n",
      "1719/1719 [==============================] - 15s 9ms/step - loss: 0.3671 - accuracy: 0.8687 - val_loss: 0.3903 - val_accuracy: 0.8614\n",
      "Epoch 7/30\n",
      "1719/1719 [==============================] - 16s 9ms/step - loss: 0.3439 - accuracy: 0.8760 - val_loss: 0.3524 - val_accuracy: 0.8734\n",
      "Epoch 8/30\n",
      "1719/1719 [==============================] - 17s 10ms/step - loss: 0.3317 - accuracy: 0.8807 - val_loss: 0.3449 - val_accuracy: 0.8770\n",
      "Epoch 9/30\n",
      "1719/1719 [==============================] - 16s 9ms/step - loss: 0.3275 - accuracy: 0.8806 - val_loss: 0.3459 - val_accuracy: 0.8786\n",
      "Epoch 10/30\n",
      "1719/1719 [==============================] - 16s 9ms/step - loss: 0.3166 - accuracy: 0.8860 - val_loss: 0.3226 - val_accuracy: 0.8840\n",
      "Epoch 11/30\n",
      "1719/1719 [==============================] - 15s 9ms/step - loss: 0.3039 - accuracy: 0.8897 - val_loss: 0.3525 - val_accuracy: 0.8762\n",
      "Epoch 12/30\n",
      "1719/1719 [==============================] - 16s 9ms/step - loss: 0.2965 - accuracy: 0.8927 - val_loss: 0.3236 - val_accuracy: 0.8844\n",
      "Epoch 13/30\n",
      "1719/1719 [==============================] - 15s 9ms/step - loss: 0.2860 - accuracy: 0.8962 - val_loss: 0.3393 - val_accuracy: 0.8784\n",
      "Epoch 14/30\n",
      "1719/1719 [==============================] - 15s 9ms/step - loss: 0.2788 - accuracy: 0.8971 - val_loss: 0.3069 - val_accuracy: 0.8922\n",
      "Epoch 15/30\n",
      "1719/1719 [==============================] - 17s 10ms/step - loss: 0.2737 - accuracy: 0.9004 - val_loss: 0.3235 - val_accuracy: 0.8848\n",
      "Epoch 16/30\n",
      "1719/1719 [==============================] - 17s 10ms/step - loss: 0.2667 - accuracy: 0.9027 - val_loss: 0.3458 - val_accuracy: 0.8700\n",
      "Epoch 17/30\n",
      "1719/1719 [==============================] - 17s 10ms/step - loss: 0.2594 - accuracy: 0.9033 - val_loss: 0.3212 - val_accuracy: 0.8856\n",
      "Epoch 18/30\n",
      "1719/1719 [==============================] - 17s 10ms/step - loss: 0.2546 - accuracy: 0.9081 - val_loss: 0.3026 - val_accuracy: 0.8904\n",
      "Epoch 19/30\n",
      "1719/1719 [==============================] - 18s 10ms/step - loss: 0.2478 - accuracy: 0.9076 - val_loss: 0.2943 - val_accuracy: 0.8908\n",
      "Epoch 20/30\n",
      "1719/1719 [==============================] - 16s 9ms/step - loss: 0.2453 - accuracy: 0.9116 - val_loss: 0.3187 - val_accuracy: 0.8852\n",
      "Epoch 21/30\n",
      "1719/1719 [==============================] - 16s 10ms/step - loss: 0.2320 - accuracy: 0.9160 - val_loss: 0.3977 - val_accuracy: 0.8580\n",
      "Epoch 22/30\n",
      "1719/1719 [==============================] - 15s 9ms/step - loss: 0.2376 - accuracy: 0.9132 - val_loss: 0.2986 - val_accuracy: 0.8912\n",
      "Epoch 23/30\n",
      "1719/1719 [==============================] - 18s 11ms/step - loss: 0.2304 - accuracy: 0.9164 - val_loss: 0.3031 - val_accuracy: 0.8928\n",
      "Epoch 24/30\n",
      "1719/1719 [==============================] - 17s 10ms/step - loss: 0.2229 - accuracy: 0.9170 - val_loss: 0.2852 - val_accuracy: 0.8964\n",
      "Epoch 25/30\n",
      "1719/1719 [==============================] - 19s 11ms/step - loss: 0.2186 - accuracy: 0.9195 - val_loss: 0.2953 - val_accuracy: 0.8922\n",
      "Epoch 26/30\n",
      "1719/1719 [==============================] - 18s 10ms/step - loss: 0.2127 - accuracy: 0.9237 - val_loss: 0.2837 - val_accuracy: 0.8942\n",
      "Epoch 27/30\n",
      "1719/1719 [==============================] - 17s 10ms/step - loss: 0.2056 - accuracy: 0.9243 - val_loss: 0.3086 - val_accuracy: 0.8876\n",
      "Epoch 28/30\n",
      "1719/1719 [==============================] - 17s 10ms/step - loss: 0.2056 - accuracy: 0.9248 - val_loss: 0.3578 - val_accuracy: 0.8740\n",
      "Epoch 29/30\n",
      "1719/1719 [==============================] - 17s 10ms/step - loss: 0.1934 - accuracy: 0.9291 - val_loss: 0.2897 - val_accuracy: 0.8962\n",
      "Epoch 30/30\n",
      "1719/1719 [==============================] - 17s 10ms/step - loss: 0.1944 - accuracy: 0.9288 - val_loss: 0.3306 - val_accuracy: 0.8862\n"
     ]
    }
   ],
   "source": [
    "hist = model.fit(X_train, y_train, epochs=30, validation_data=(X_valid, y_valid))"
   ]
  },
  {
   "cell_type": "code",
   "execution_count": 32,
   "id": "02e1b826-702c-468d-87f3-562cf80dc0ec",
   "metadata": {},
   "outputs": [],
   "source": [
    "import pandas as pd \n",
    "import matplotlib.pyplot as plt"
   ]
  },
  {
   "cell_type": "code",
   "execution_count": 36,
   "id": "706acf8f-cda8-41c1-9c05-9f90c983b1d1",
   "metadata": {},
   "outputs": [
    {
     "data": {
      "image/png": "[encoded data removed]",
      "text/plain": [
       "<Figure size 576x360 with 1 Axes>"
      ]
     },
     "metadata": {
      "needs_background": "light"
     },
     "output_type": "display_data"
    }
   ],
   "source": [
    "pd.DataFrame(hist.history).plot(figsize = (8,5))\n",
    "plt.grid(True)\n",
    "plt.gca().set_ylim(0,1)\n",
    "plt.show()"
   ]
  },
  {
   "cell_type": "code",
   "execution_count": 37,
   "id": "00863200-69d0-4f52-bede-fdb320cf2104",
   "metadata": {},
   "outputs": [
    {
     "name": "stdout",
     "output_type": "stream",
     "text": [
      "313/313 [==============================] - 3s 7ms/step - loss: 80.1673 - accuracy: 0.8213\n"
     ]
    },
    {
     "data": {
      "text/plain": [
       "[80.16732025146484, 0.8213000297546387]"
      ]
     },
     "execution_count": 37,
     "metadata": {},
     "output_type": "execute_result"
    }
   ],
   "source": [
    "model.evaluate(X_test,y_test)"
   ]
  },
  {
   "cell_type": "code",
   "execution_count": 38,
   "id": "94b0344d-d2ad-4af0-9a96-097a375d10b4",
   "metadata": {},
   "outputs": [],
   "source": [
    "X_new = X_test[:5]"
   ]
  },
  {
   "cell_type": "code",
   "execution_count": 39,
   "id": "4d2a524c-6dde-4c95-aa68-1adbd77f1884",
   "metadata": {},
   "outputs": [],
   "source": [
    "y_proba =model.predict(X_new)"
   ]
  },
  {
   "cell_type": "code",
   "execution_count": 83,
   "id": "7cb4dab8-c724-45a3-9721-f7623e8a2d3f",
   "metadata": {},
   "outputs": [
    {
     "data": {
      "text/plain": [
       "array([[0., 0., 0., 0., 0., 0., 0., 0., 0., 1.],\n",
       "       [0., 0., 1., 0., 0., 0., 0., 0., 0., 0.],\n",
       "       [0., 1., 0., 0., 0., 0., 0., 0., 0., 0.],\n",
       "       [0., 1., 0., 0., 0., 0., 0., 0., 0., 0.],\n",
       "       [0., 0., 0., 0., 0., 0., 1., 0., 0., 0.]], dtype=float32)"
      ]
     },
     "execution_count": 83,
     "metadata": {},
     "output_type": "execute_result"
    }
   ],
   "source": [
    "y_proba.round(2)"
   ]
  },
  {
   "cell_type": "code",
   "execution_count": 49,
   "id": "8d0d2487-0102-40b0-8ebc-2da8067e74f1",
   "metadata": {},
   "outputs": [
    {
     "data": {
      "text/plain": [
       "array([9, 2, 1, 1, 6])"
      ]
     },
     "execution_count": 49,
     "metadata": {},
     "output_type": "execute_result"
    }
   ],
   "source": [
    "import numpy as np \n",
    "\n",
    "y_pred = np.argmax(model.predict(X_new), axis = -1)\n",
    "y_pred"
   ]
  },
  {
   "cell_type": "code",
   "execution_count": 52,
   "id": "1ee90607-ef8f-43ed-a15c-1683d04583ea",
   "metadata": {},
   "outputs": [
    {
     "data": {
      "text/plain": [
       "array(['Ankle boot', 'Pullover', 'Trouser', 'Trouser', 'Shirt'],\n",
       "      dtype='<U11')"
      ]
     },
     "execution_count": 52,
     "metadata": {},
     "output_type": "execute_result"
    }
   ],
   "source": [
    "np.array(class_name)[y_pred]"
   ]
  },
  {
   "cell_type": "markdown",
   "id": "0879bee0-e8f7-4aad-a0db-19cd4847cbc0",
   "metadata": {},
   "source": [
    "# Regression MLP using Sequential API"
   ]
  },
  {
   "cell_type": "code",
   "execution_count": 53,
   "id": "decfbc5c-70a8-4dcf-bad4-607897e53f83",
   "metadata": {},
   "outputs": [],
   "source": [
    "from sklearn.datasets import fetch_california_housing\n",
    "from sklearn.model_selection import train_test_split\n",
    "from sklearn.preprocessing import StandardScaler\n",
    "\n"
   ]
  },
  {
   "cell_type": "code",
   "execution_count": 54,
   "id": "aa5d6fb0-5c05-4afc-968e-0c861213535c",
   "metadata": {},
   "outputs": [],
   "source": [
    "housing = fetch_california_housing()"
   ]
  },
  {
   "cell_type": "code",
   "execution_count": 55,
   "id": "ae6b0518-dd11-460c-b603-bee28d0e6884",
   "metadata": {},
   "outputs": [],
   "source": [
    "Xh_train_full , Xh_test, yh_train_full, yh_test = train_test_split(housing.data, housing.target)\n",
    "Xh_train , Xh_valid, yh_train, yh_valid = train_test_split(Xh_train_full, yh_train_full)"
   ]
  },
  {
   "cell_type": "code",
   "execution_count": 56,
   "id": "2b2298aa-72c1-4451-8191-db9c4555cef1",
   "metadata": {},
   "outputs": [],
   "source": [
    "scaler = StandardScaler()\n"
   ]
  },
  {
   "cell_type": "code",
   "execution_count": 57,
   "id": "31a43bf7-f21a-4467-bd49-cbc8d7023c0e",
   "metadata": {},
   "outputs": [],
   "source": [
    "Xh_train= scaler.fit_transform(Xh_train)\n",
    "Xh_valid = scaler.transform(Xh_valid)\n",
    "Xh_test = scaler.transform(Xh_test"
   ]
  },
  {
   "cell_type": "code",
   "execution_count": 84,
   "id": "ba69b0d9-2660-46b1-bf6f-379657fa261e",
   "metadata": {},
   "outputs": [
    {
     "data": {
      "text/plain": [
       "(8,)"
      ]
     },
     "execution_count": 84,
     "metadata": {},
     "output_type": "execute_result"
    }
   ],
   "source": [
    "Xh_train.shape[1:]"
   ]
  },
  {
   "cell_type": "code",
   "execution_count": 73,
   "id": "aecc7d7b-836e-4218-8b16-575324b158f4",
   "metadata": {},
   "outputs": [],
   "source": [
    "modelh = keras.models.Sequential([\n",
    "    keras.layers.Dense(30, activation = 'relu', input_shape= Xh_train.shape[1:]),\n",
    "    keras.layers.Dense(1)\n",
    "])"
   ]
  },
  {
   "cell_type": "code",
   "execution_count": 75,
   "id": "2d702d1d-c791-4bfe-a6c3-a40db747ef78",
   "metadata": {},
   "outputs": [],
   "source": [
    "lossh = keras.losses.mean_squared_error\n",
    "optimizerh = keras.optimizers.SGD()\n",
    "modelh.compile(loss = lossh, optimizer = optimizerh)"
   ]
  },
  {
   "cell_type": "code",
   "execution_count": 76,
   "id": "83608c21-29a5-4b88-bfaf-725d9af7d271",
   "metadata": {},
   "outputs": [
    {
     "name": "stdout",
     "output_type": "stream",
     "text": [
      "Epoch 1/20\n",
      "363/363 [==============================] - 3s 6ms/step - loss: 1.4731 - val_loss: 0.6485\n",
      "Epoch 2/20\n",
      "363/363 [==============================] - 2s 6ms/step - loss: 0.5451 - val_loss: 0.4786\n",
      "Epoch 3/20\n",
      "363/363 [==============================] - 2s 5ms/step - loss: 0.4776 - val_loss: 0.4461\n",
      "Epoch 4/20\n",
      "363/363 [==============================] - 2s 5ms/step - loss: 0.4467 - val_loss: 0.4265\n",
      "Epoch 5/20\n",
      "363/363 [==============================] - 2s 6ms/step - loss: 0.4172 - val_loss: 0.4067\n",
      "Epoch 6/20\n",
      "363/363 [==============================] - 2s 5ms/step - loss: 0.4063 - val_loss: 0.4026\n",
      "Epoch 7/20\n",
      "363/363 [==============================] - 2s 5ms/step - loss: 0.3904 - val_loss: 0.3920\n",
      "Epoch 8/20\n",
      "363/363 [==============================] - 2s 5ms/step - loss: 0.3916 - val_loss: 0.3880\n",
      "Epoch 9/20\n",
      "363/363 [==============================] - 2s 5ms/step - loss: 0.3776 - val_loss: 0.5881\n",
      "Epoch 10/20\n",
      "363/363 [==============================] - 2s 5ms/step - loss: 0.4484 - val_loss: 0.3866\n",
      "Epoch 11/20\n",
      "363/363 [==============================] - 2s 4ms/step - loss: 0.3865 - val_loss: 0.3745\n",
      "Epoch 12/20\n",
      "363/363 [==============================] - 2s 6ms/step - loss: 0.3671 - val_loss: 0.3738\n",
      "Epoch 13/20\n",
      "363/363 [==============================] - 2s 4ms/step - loss: 0.3503 - val_loss: 0.3705\n",
      "Epoch 14/20\n",
      "363/363 [==============================] - 2s 5ms/step - loss: 0.3686 - val_loss: 0.3668\n",
      "Epoch 15/20\n",
      "363/363 [==============================] - 2s 6ms/step - loss: 0.3568 - val_loss: 0.3610\n",
      "Epoch 16/20\n",
      "363/363 [==============================] - 2s 5ms/step - loss: 0.3688 - val_loss: 0.3607\n",
      "Epoch 17/20\n",
      "363/363 [==============================] - 2s 5ms/step - loss: 0.3643 - val_loss: 0.3593\n",
      "Epoch 18/20\n",
      "363/363 [==============================] - 2s 5ms/step - loss: 0.3625 - val_loss: 0.3584\n",
      "Epoch 19/20\n",
      "363/363 [==============================] - 2s 6ms/step - loss: 0.3551 - val_loss: 0.3565\n",
      "Epoch 20/20\n",
      "363/363 [==============================] - 2s 6ms/step - loss: 0.3654 - val_loss: 0.3515\n"
     ]
    }
   ],
   "source": [
    "histh = modelh.fit(Xh_train, yh_train,epochs=20, validation_data=(Xh_valid, yh_valid))"
   ]
  },
  {
   "cell_type": "code",
   "execution_count": 77,
   "id": "3fa5b2a4-b97c-4c65-873e-0a332b6e3a3c",
   "metadata": {},
   "outputs": [
    {
     "name": "stdout",
     "output_type": "stream",
     "text": [
      "162/162 [==============================] - 1s 3ms/step - loss: 0.3652\n"
     ]
    }
   ],
   "source": [
    "mse_test = modelh.evaluate(Xh_test,yh_test)"
   ]
  },
  {
   "cell_type": "code",
   "execution_count": 78,
   "id": "3f7d9eed-2d2e-4aa7-a646-d7e71a8a1947",
   "metadata": {},
   "outputs": [],
   "source": [
    "Xh_new = Xh_test[:5]"
   ]
  },
  {
   "cell_type": "code",
   "execution_count": 80,
   "id": "2d947662-f834-47b7-a657-0fa5f99ee624",
   "metadata": {},
   "outputs": [],
   "source": [
    "yh_pred = modelh.predict(Xh_new)"
   ]
  },
  {
   "cell_type": "code",
   "execution_count": 81,
   "id": "59296447-7829-40b8-8170-5e30b7e9867a",
   "metadata": {},
   "outputs": [
    {
     "data": {
      "text/plain": [
       "array([[1.5418736],\n",
       "       [2.1523185],\n",
       "       [1.0552671],\n",
       "       [2.4975772],\n",
       "       [2.2500181]], dtype=float32)"
      ]
     },
     "execution_count": 81,
     "metadata": {},
     "output_type": "execute_result"
    }
   ],
   "source": [
    "yh_pred"
   ]
  },
  {
   "cell_type": "code",
   "execution_count": 82,
   "id": "b76bfa6b-d5b0-4df0-aae1-633f15bdec23",
   "metadata": {},
   "outputs": [
    {
     "data": {
      "text/plain": [
       "array([2.116, 2.119, 1.07 , 3.938, 1.734])"
      ]
     },
     "execution_count": 82,
     "metadata": {},
     "output_type": "execute_result"
    }
   ],
   "source": [
    "yh_test[:5]"
   ]
  },
  {
   "cell_type": "markdown",
   "id": "928cedec-b737-472d-9dc8-11152e8742b2",
   "metadata": {},
   "source": [
    "# Subclassing API"
   ]
  },
  {
   "cell_type": "code",
   "execution_count": 85,
   "id": "8b82b9fa-c8c8-46ff-9575-9b83ec79382f",
   "metadata": {},
   "outputs": [],
   "source": [
    "class WideAndDeepModel(keras.Model):\n",
    "    def __init__(self, units = 30, activation = \"relu\", **kwargs):\n",
    "        super().__init__(**kwargs)\n",
    "        self.hidden1 = keras.layers.Dense(units,activation = activation)\n",
    "        self.hidden2 = keras.layers.Dense(units,activation = activation)\n",
    "        self.main_output = keras.layers.Dense(1)\n",
    "        self.aux_output = keras.layers.Dense(1)\n",
    "        \n",
    "    def call(self, inputs):\n",
    "        inputA, inputB = inputs\n",
    "        hidden1 = self.hidden1(inputB)\n",
    "        hidden2 = self.hidden2(hidden1)\n",
    "        concat = keras.layers.concatenate([inputA, hidden2])\n",
    "        main_output = self.main_output(concat)\n",
    "        aux_output = self.aux_output(hidden2)\n",
    "        return main_output, aux_output\n",
    "    "
   ]
  },
  {
   "cell_type": "code",
   "execution_count": 86,
   "id": "5ebc3327-f3cb-4a0b-8ed5-a726e4926324",
   "metadata": {},
   "outputs": [],
   "source": [
    "model = WideAndDeepModel()"
   ]
  },
  {
   "cell_type": "code",
   "execution_count": null,
   "id": "1553719b-8d1a-4cb6-ac3f-14853eea9cf0",
   "metadata": {},
   "outputs": [],
   "source": []
  }
 ],
 "metadata": {
  "kernelspec": {
   "display_name": "Python 3",
   "language": "python",
   "name": "python3"
  },
  "language_info": {
   "codemirror_mode": {
    "name": "ipython",
    "version": 3
   },
   "file_extension": ".py",
   "mimetype": "text/x-python",
   "name": "python",
   "nbconvert_exporter": "python",
   "pygments_lexer": "ipython3",
   "version": "3.8.8"
  }
 },
 "nbformat": 4,
 "nbformat_minor": 5
}
