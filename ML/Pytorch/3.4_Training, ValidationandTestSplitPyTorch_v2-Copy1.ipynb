{
 "cells": [
  {
   "cell_type": "markdown",
   "metadata": {},
   "source": [
    "<center>\n",
    "    <img src=\"https://cf-courses-data.s3.us.cloud-object-storage.appdomain.cloud/IBMDeveloperSkillsNetwork-DL0110EN-SkillsNetwork/Template/module%201/images/IDSNlogo.png\" width=\"300\" alt=\"cognitiveclass.ai logo\"  />\n",
    "</center>\n"
   ]
  },
  {
   "cell_type": "markdown",
   "metadata": {},
   "source": [
    "<h1>Linear regression: Training and Validation Data</h1> \n"
   ]
  },
  {
   "cell_type": "markdown",
   "metadata": {},
   "source": [
    "<h2>Objective</h2><ul><li> How to use learning rate hyperparameter to improve your model result.  .</li></ul> \n"
   ]
  },
  {
   "cell_type": "markdown",
   "metadata": {},
   "source": [
    "<h2>Table of Contents</h2>\n",
    "<p>In this lab, you will learn to select the best learning rate by using validation data.</p>\n",
    "\n",
    "<ul>\n",
    "    <li><a href=\"#Makeup_Data\">Make Some Data</a></li>\n",
    "    <li><a href=\"#LR_Loader_Cost\">Create a Linear Regression Object, Data Loader and Criterion Function</a></li>\n",
    "    <li><a href=\"#LR_Hyper\">Different learning rates and Data Structures to Store results for Different Hyperparameters</a></li>\n",
    "    <li><a href=\"#Model\">Train different modules for different Hyperparameters</a></li>\n",
    "    <li><a href=\"#Result\">View Results</a></li>\n",
    "</ul>\n",
    "\n",
    "<p>Estimated Time Needed: <strong>30 min</strong></p>\n",
    "\n",
    "<hr>\n"
   ]
  },
  {
   "cell_type": "markdown",
   "metadata": {},
   "source": [
    "<h2>Preparation</h2>\n"
   ]
  },
  {
   "cell_type": "markdown",
   "metadata": {},
   "source": [
    "We'll need the following libraries and set the random seed.\n"
   ]
  },
  {
   "cell_type": "code",
   "execution_count": 1,
   "metadata": {},
   "outputs": [],
   "source": [
    "# Import libraries we need for this lab, and set the random seed\n",
    "\n",
    "from torch import nn\n",
    "import torch\n",
    "import numpy as np\n",
    "import matplotlib.pyplot as plt\n",
    "from torch import nn,optim"
   ]
  },
  {
   "cell_type": "markdown",
   "metadata": {},
   "source": [
    "<!--Empty Space for separating topics-->\n"
   ]
  },
  {
   "cell_type": "markdown",
   "metadata": {},
   "source": [
    "<h2 id=\"Makeup_Data\">Make Some Data</h2>\n"
   ]
  },
  {
   "cell_type": "markdown",
   "metadata": {},
   "source": [
    "First, we'll create some artificial data in a dataset class. The class will include the option to produce training data or validation data. The training data will include outliers.\n"
   ]
  },
  {
   "cell_type": "code",
   "execution_count": 2,
   "metadata": {},
   "outputs": [],
   "source": [
    "# Create Data class\n",
    "\n",
    "from torch.utils.data import Dataset, DataLoader\n",
    "\n",
    "class Data(Dataset):\n",
    "    \n",
    "    # Constructor\n",
    "    def __init__(self, train = True):\n",
    "            self.x = torch.arange(-3, 3, 0.1).view(-1, 1)\n",
    "            self.f = -3 * self.x + 1\n",
    "            self.y = self.f + 0.1 * torch.randn(self.x.size())\n",
    "            self.len = self.x.shape[0]\n",
    "            \n",
    "            #outliers \n",
    "            if train == True:\n",
    "                self.y[0] = 0\n",
    "                self.y[50:55] = 20\n",
    "            else:\n",
    "                pass\n",
    "      \n",
    "    # Getter\n",
    "    def __getitem__(self, index):    \n",
    "        return self.x[index], self.y[index]\n",
    "    \n",
    "    # Get Length\n",
    "    def __len__(self):\n",
    "        return self.len"
   ]
  },
  {
   "cell_type": "markdown",
   "metadata": {},
   "source": [
    "Create two objects: one that contains training data and a second that contains validation data. Assume that the training data has the outliers. \n"
   ]
  },
  {
   "cell_type": "code",
   "execution_count": 3,
   "metadata": {},
   "outputs": [],
   "source": [
    "# Create training dataset and validation dataset\n",
    "\n",
    "train_data = Data()\n",
    "val_data = Data(train = False)"
   ]
  },
  {
   "cell_type": "markdown",
   "metadata": {},
   "source": [
    "Overlay the training points in red over the function that generated the data. Notice the outliers at x=-3 and around x=2:\n"
   ]
  },
  {
   "cell_type": "code",
   "execution_count": 4,
   "metadata": {},
   "outputs": [
    {
     "data": {
      "image/png": "[encoded data removed]",
      "text/plain": [
       "<Figure size 432x288 with 1 Axes>"
      ]
     },
     "metadata": {
      "needs_background": "light"
     },
     "output_type": "display_data"
    }
   ],
   "source": [
    "# Plot out training points\n",
    "\n",
    "plt.plot(train_data.x.numpy(), train_data.y.numpy(), 'xr',label=\"training data \")\n",
    "plt.plot(train_data.x.numpy(), train_data.f.numpy(),label=\"true function  \")\n",
    "plt.xlabel('x')\n",
    "plt.ylabel('y')\n",
    "plt.legend()\n",
    "plt.show()"
   ]
  },
  {
   "cell_type": "markdown",
   "metadata": {},
   "source": [
    "<!--Empty Space for separating topics-->\n"
   ]
  },
  {
   "cell_type": "markdown",
   "metadata": {},
   "source": [
    "<h2 id=\"LR_Loader_Cost\">Create a Linear Regression Object,  Data Loader, and Criterion Function</h2>\n"
   ]
  },
  {
   "cell_type": "code",
   "execution_count": 5,
   "metadata": {},
   "outputs": [],
   "source": [
    "# Create Linear Regression Class\n",
    "\n",
    "from torch import nn\n",
    "\n",
    "class linear_regression(nn.Module):\n",
    "    \n",
    "    # Constructor\n",
    "    def __init__(self, input_size, output_size):\n",
    "        super(linear_regression, self).__init__()\n",
    "        self.linear = nn.Linear(input_size, output_size)\n",
    "    \n",
    "    # Prediction function\n",
    "    def forward(self, x):\n",
    "        yhat = self.linear(x)\n",
    "        return yhat"
   ]
  },
  {
   "cell_type": "markdown",
   "metadata": {},
   "source": [
    "Create the criterion function and a <code>DataLoader</code> object: \n"
   ]
  },
  {
   "cell_type": "code",
   "execution_count": 6,
   "metadata": {},
   "outputs": [],
   "source": [
    "# Create MSELoss function and DataLoader\n",
    "\n",
    "criterion = nn.MSELoss()\n",
    "trainloader = DataLoader(dataset = train_data, batch_size = 1)"
   ]
  },
  {
   "cell_type": "markdown",
   "metadata": {},
   "source": [
    "<!--Empty Space for separating topics-->\n"
   ]
  },
  {
   "cell_type": "markdown",
   "metadata": {},
   "source": [
    "<h2 id=\"LR_Hyper\">Different learning rates and Data Structures to Store results for different Hyperparameters</h2>\n"
   ]
  },
  {
   "cell_type": "markdown",
   "metadata": {},
   "source": [
    "Create a list with different learning rates and a tensor (can be a list) for the training and validating cost/total loss. Include the list MODELS, which stores the training model for every value of the learning rate. \n"
   ]
  },
  {
   "cell_type": "code",
   "execution_count": 7,
   "metadata": {},
   "outputs": [],
   "source": [
    "# Create Learning Rate list, the error lists and the MODELS list\n",
    "\n",
    "learning_rates=[0.0001, 0.001, 0.01, 0.1]\n",
    "\n",
    "train_error=torch.zeros(len(learning_rates))\n",
    "validation_error=torch.zeros(len(learning_rates))\n",
    "\n",
    "MODELS=[]"
   ]
  },
  {
   "cell_type": "markdown",
   "metadata": {},
   "source": [
    "<!--Empty Space for separating topics-->\n"
   ]
  },
  {
   "cell_type": "markdown",
   "metadata": {},
   "source": [
    "<h2 id=\"Model\">Train different models  for different Hyperparameters</h2>\n"
   ]
  },
  {
   "cell_type": "markdown",
   "metadata": {},
   "source": [
    "Try different values of learning rates, perform stochastic gradient descent, and save the results on the training data and validation data. Finally, save each model in a list.\n"
   ]
  },
  {
   "cell_type": "code",
   "execution_count": 8,
   "metadata": {},
   "outputs": [],
   "source": [
    "# Define the train model function and train the model\n",
    "\n",
    "def train_model_with_lr (iter, lr_list):\n",
    "    \n",
    "    # iterate through different learning rates \n",
    "    for i, lr in enumerate(lr_list):\n",
    "        model = linear_regression(1, 1)\n",
    "        optimizer = optim.SGD(model.parameters(), lr = lr)\n",
    "        for epoch in range(iter):\n",
    "            for x, y in trainloader:\n",
    "                yhat = model(x)\n",
    "                loss = criterion(yhat, y)\n",
    "                optimizer.zero_grad()\n",
    "                loss.backward()\n",
    "                optimizer.step()\n",
    "                \n",
    "        # train data\n",
    "        Yhat = model(train_data.x)\n",
    "        train_loss = criterion(Yhat, train_data.y)\n",
    "        train_error[i] = train_loss.item()\n",
    "    \n",
    "        # validation data\n",
    "        Yhat = model(val_data.x)\n",
    "        val_loss = criterion(Yhat, val_data.y)\n",
    "        validation_error[i] = val_loss.item()\n",
    "        MODELS.append(model)\n",
    "\n",
    "train_model_with_lr(10, learning_rates)"
   ]
  },
  {
   "cell_type": "markdown",
   "metadata": {},
   "source": [
    "<!--Empty Space for separating topics-->\n"
   ]
  },
  {
   "cell_type": "markdown",
   "metadata": {},
   "source": [
    "<h2 id=\"Result\">View the Results</h2>\n"
   ]
  },
  {
   "cell_type": "markdown",
   "metadata": {},
   "source": [
    "Plot the training loss and validation loss for each learning rate:  \n"
   ]
  },
  {
   "cell_type": "code",
   "execution_count": 9,
   "metadata": {},
   "outputs": [
    {
     "data": {
      "image/png": "[encoded data removed]",
      "text/plain": [
       "<Figure size 432x288 with 1 Axes>"
      ]
     },
     "metadata": {
      "needs_background": "light"
     },
     "output_type": "display_data"
    }
   ],
   "source": [
    "# Plot the training loss and validation loss\n",
    "\n",
    "plt.semilogx(np.array(learning_rates), train_error.numpy(), label = 'training loss/total Loss')\n",
    "plt.semilogx(np.array(learning_rates), validation_error.numpy(), label = 'validation cost/total Loss')\n",
    "plt.ylabel('Cost\\ Total Loss')\n",
    "plt.xlabel('learning rate')\n",
    "plt.legend()\n",
    "plt.show()"
   ]
  },
  {
   "cell_type": "markdown",
   "metadata": {},
   "source": [
    "Produce a prediction by using the validation data for each model:  \n"
   ]
  },
  {
   "cell_type": "code",
   "execution_count": 10,
   "metadata": {},
   "outputs": [
    {
     "name": "stdout",
     "output_type": "stream",
     "text": [
      "i [[-0.8060423 ]\n",
      " [-0.7854192 ]\n",
      " [-0.76479614]]\n",
      "i [[5.628256 ]\n",
      " [5.5127153]\n",
      " [5.3971753]]\n",
      "i [[6.5870075]\n",
      " [6.453465 ]\n",
      " [6.3199215]]\n",
      "i [[14.395399]\n",
      " [13.962783]\n",
      " [13.530165]]\n"
     ]
    },
    {
     "data": {
      "image/png": "[encoded data removed]",
      "text/plain": [
       "<Figure size 432x288 with 1 Axes>"
      ]
     },
     "metadata": {
      "needs_background": "light"
     },
     "output_type": "display_data"
    }
   ],
   "source": [
    "# Plot the predictions\n",
    "\n",
    "i = 0\n",
    "for model, learning_rate in zip(MODELS, learning_rates):\n",
    "    yhat = model(val_data.x)\n",
    "    plt.plot(val_data.x.numpy(), yhat.detach().numpy(), label = 'lr:' + str(learning_rate))\n",
    "    print('i', yhat.detach().numpy()[0:3])\n",
    "plt.plot(val_data.x.numpy(), val_data.f.numpy(), 'or', label = 'validation data')\n",
    "plt.xlabel('x')\n",
    "plt.ylabel('y')\n",
    "plt.legend()\n",
    "plt.show()"
   ]
  },
  {
   "cell_type": "markdown",
   "metadata": {},
   "source": [
    "<!--Empty Space for separating topics-->\n"
   ]
  },
  {
   "cell_type": "markdown",
   "metadata": {},
   "source": [
    "<h3>Practice</h3>\n"
   ]
  },
  {
   "cell_type": "markdown",
   "metadata": {},
   "source": [
    "The object <code>good_model</code> is the best performing model. Use the train loader to get the data samples x and y. Produce an estimate for <code>yhat</code> and print it out for every sample in a for a loop. Compare it to the actual prediction <code>y</code>.\n"
   ]
  },
  {
   "cell_type": "code",
   "execution_count": 15,
   "metadata": {},
   "outputs": [
    {
     "name": "stdout",
     "output_type": "stream",
     "text": [
      "yhat:  tensor([[6.5870]], grad_fn=<AddmmBackward>)  y:  tensor([[0.]])\n",
      "yhat:  tensor([[6.4535]], grad_fn=<AddmmBackward>)  y:  tensor([[9.6630]])\n",
      "yhat:  tensor([[6.3199]], grad_fn=<AddmmBackward>)  y:  tensor([[9.3693]])\n",
      "yhat:  tensor([[6.1864]], grad_fn=<AddmmBackward>)  y:  tensor([[9.2139]])\n",
      "yhat:  tensor([[6.0528]], grad_fn=<AddmmBackward>)  y:  tensor([[8.9055]])\n",
      "yhat:  tensor([[5.9193]], grad_fn=<AddmmBackward>)  y:  tensor([[8.4721]])\n",
      "yhat:  tensor([[5.7857]], grad_fn=<AddmmBackward>)  y:  tensor([[8.3263]])\n",
      "yhat:  tensor([[5.6522]], grad_fn=<AddmmBackward>)  y:  tensor([[7.9966]])\n",
      "yhat:  tensor([[5.5187]], grad_fn=<AddmmBackward>)  y:  tensor([[7.6609]])\n",
      "yhat:  tensor([[5.3851]], grad_fn=<AddmmBackward>)  y:  tensor([[7.3245]])\n",
      "yhat:  tensor([[5.2516]], grad_fn=<AddmmBackward>)  y:  tensor([[7.0894]])\n",
      "yhat:  tensor([[5.1180]], grad_fn=<AddmmBackward>)  y:  tensor([[6.8720]])\n",
      "yhat:  tensor([[4.9845]], grad_fn=<AddmmBackward>)  y:  tensor([[6.3377]])\n",
      "yhat:  tensor([[4.8509]], grad_fn=<AddmmBackward>)  y:  tensor([[6.1810]])\n",
      "yhat:  tensor([[4.7174]], grad_fn=<AddmmBackward>)  y:  tensor([[5.7123]])\n",
      "yhat:  tensor([[4.5839]], grad_fn=<AddmmBackward>)  y:  tensor([[5.6931]])\n",
      "yhat:  tensor([[4.4503]], grad_fn=<AddmmBackward>)  y:  tensor([[5.0826]])\n",
      "yhat:  tensor([[4.3168]], grad_fn=<AddmmBackward>)  y:  tensor([[4.9441]])\n",
      "yhat:  tensor([[4.1832]], grad_fn=<AddmmBackward>)  y:  tensor([[4.6883]])\n",
      "yhat:  tensor([[4.0497]], grad_fn=<AddmmBackward>)  y:  tensor([[4.2872]])\n",
      "yhat:  tensor([[3.9161]], grad_fn=<AddmmBackward>)  y:  tensor([[3.9195]])\n",
      "yhat:  tensor([[3.7826]], grad_fn=<AddmmBackward>)  y:  tensor([[3.5829]])\n",
      "yhat:  tensor([[3.6491]], grad_fn=<AddmmBackward>)  y:  tensor([[3.3869]])\n",
      "yhat:  tensor([[3.5155]], grad_fn=<AddmmBackward>)  y:  tensor([[3.1066]])\n",
      "yhat:  tensor([[3.3820]], grad_fn=<AddmmBackward>)  y:  tensor([[2.9684]])\n",
      "yhat:  tensor([[3.2484]], grad_fn=<AddmmBackward>)  y:  tensor([[2.4058]])\n",
      "yhat:  tensor([[3.1149]], grad_fn=<AddmmBackward>)  y:  tensor([[2.0333]])\n",
      "yhat:  tensor([[2.9813]], grad_fn=<AddmmBackward>)  y:  tensor([[1.9809]])\n",
      "yhat:  tensor([[2.8478]], grad_fn=<AddmmBackward>)  y:  tensor([[1.5454]])\n",
      "yhat:  tensor([[2.7143]], grad_fn=<AddmmBackward>)  y:  tensor([[1.3668]])\n",
      "yhat:  tensor([[2.5807]], grad_fn=<AddmmBackward>)  y:  tensor([[0.8483]])\n",
      "yhat:  tensor([[2.4472]], grad_fn=<AddmmBackward>)  y:  tensor([[0.7353]])\n",
      "yhat:  tensor([[2.3136]], grad_fn=<AddmmBackward>)  y:  tensor([[0.4981]])\n",
      "yhat:  tensor([[2.1801]], grad_fn=<AddmmBackward>)  y:  tensor([[0.0381]])\n",
      "yhat:  tensor([[2.0465]], grad_fn=<AddmmBackward>)  y:  tensor([[-0.3560]])\n",
      "yhat:  tensor([[1.9130]], grad_fn=<AddmmBackward>)  y:  tensor([[-0.4607]])\n",
      "yhat:  tensor([[1.7795]], grad_fn=<AddmmBackward>)  y:  tensor([[-0.7523]])\n",
      "yhat:  tensor([[1.6459]], grad_fn=<AddmmBackward>)  y:  tensor([[-1.1101]])\n",
      "yhat:  tensor([[1.5124]], grad_fn=<AddmmBackward>)  y:  tensor([[-1.5063]])\n",
      "yhat:  tensor([[1.3788]], grad_fn=<AddmmBackward>)  y:  tensor([[-1.7613]])\n",
      "yhat:  tensor([[1.2453]], grad_fn=<AddmmBackward>)  y:  tensor([[-1.9570]])\n",
      "yhat:  tensor([[1.1117]], grad_fn=<AddmmBackward>)  y:  tensor([[-2.3750]])\n",
      "yhat:  tensor([[0.9782]], grad_fn=<AddmmBackward>)  y:  tensor([[-2.3898]])\n",
      "yhat:  tensor([[0.8447]], grad_fn=<AddmmBackward>)  y:  tensor([[-2.8211]])\n",
      "yhat:  tensor([[0.7111]], grad_fn=<AddmmBackward>)  y:  tensor([[-3.1073]])\n",
      "yhat:  tensor([[0.5776]], grad_fn=<AddmmBackward>)  y:  tensor([[-3.5455]])\n",
      "yhat:  tensor([[0.4440]], grad_fn=<AddmmBackward>)  y:  tensor([[-3.7804]])\n",
      "yhat:  tensor([[0.3105]], grad_fn=<AddmmBackward>)  y:  tensor([[-4.0452]])\n",
      "yhat:  tensor([[0.1769]], grad_fn=<AddmmBackward>)  y:  tensor([[-4.5565]])\n",
      "yhat:  tensor([[0.0434]], grad_fn=<AddmmBackward>)  y:  tensor([[-4.6836]])\n",
      "yhat:  tensor([[-0.0901]], grad_fn=<AddmmBackward>)  y:  tensor([[20.]])\n",
      "yhat:  tensor([[-0.2237]], grad_fn=<AddmmBackward>)  y:  tensor([[20.]])\n",
      "yhat:  tensor([[-0.3572]], grad_fn=<AddmmBackward>)  y:  tensor([[20.]])\n",
      "yhat:  tensor([[-0.4908]], grad_fn=<AddmmBackward>)  y:  tensor([[20.]])\n",
      "yhat:  tensor([[-0.6243]], grad_fn=<AddmmBackward>)  y:  tensor([[20.]])\n",
      "yhat:  tensor([[-0.7579]], grad_fn=<AddmmBackward>)  y:  tensor([[-6.4659]])\n",
      "yhat:  tensor([[-0.8914]], grad_fn=<AddmmBackward>)  y:  tensor([[-6.8804]])\n",
      "yhat:  tensor([[-1.0249]], grad_fn=<AddmmBackward>)  y:  tensor([[-7.1327]])\n",
      "yhat:  tensor([[-1.1585]], grad_fn=<AddmmBackward>)  y:  tensor([[-7.2390]])\n",
      "yhat:  tensor([[-1.2920]], grad_fn=<AddmmBackward>)  y:  tensor([[-7.6040]])\n"
     ]
    }
   ],
   "source": [
    "good_model = MODELS[2]\n",
    "\n",
    "for x, y in trainloader:\n",
    "    print ('yhat: ', good_model(x),' y: ',y)"
   ]
  },
  {
   "cell_type": "markdown",
   "metadata": {},
   "source": [
    "Double-click <b>here</b> for the solution.\n",
    "\n",
    "<!-- \n",
    "for x, y in trainloader:\n",
    "    print(\"yhat= \", good_model(x),\"y\", y)\n",
    "-->\n"
   ]
  },
  {
   "cell_type": "markdown",
   "metadata": {},
   "source": [
    "<a href=\"https://dataplatform.cloud.ibm.com/registration/stepone?context=cpdaas&apps=data_science_experience,watson_machine_learning\"><img src=\"https://cf-courses-data.s3.us.cloud-object-storage.appdomain.cloud/IBMDeveloperSkillsNetwork-DL0110EN-SkillsNetwork/Template/module%201/images/Watson_Studio.png\"/></a>\n"
   ]
  },
  {
   "cell_type": "markdown",
   "metadata": {},
   "source": [
    "<!--Empty Space for separating topics-->\n"
   ]
  },
  {
   "cell_type": "markdown",
   "metadata": {},
   "source": [
    "<h2>About the Authors:</h2> \n",
    "\n",
    "<a href=\"https://www.linkedin.com/in/joseph-s-50398b136/\">Joseph Santarcangelo</a> has a PhD in Electrical Engineering, his research focused on using machine learning, signal processing, and computer vision to determine how videos impact human cognition. Joseph has been working for IBM since he completed his PhD. \n"
   ]
  },
  {
   "cell_type": "markdown",
   "metadata": {},
   "source": [
    "Other contributors: <a href=\"https://www.linkedin.com/in/michelleccarey/\">Michelle Carey</a>, <a href=\"www.linkedin.com/in/jiahui-mavis-zhou-a4537814a\">Mavis Zhou</a>\n"
   ]
  },
  {
   "cell_type": "markdown",
   "metadata": {},
   "source": [
    "## Change Log\n",
    "\n",
    "| Date (YYYY-MM-DD) | Version | Changed By | Change Description                                          |\n",
    "| ----------------- | ------- | ---------- | ----------------------------------------------------------- |\n",
    "| 2020-09-23        | 2.0     | Shubham    | Migrated Lab to Markdown and added to course repo in GitLab |\n"
   ]
  },
  {
   "cell_type": "markdown",
   "metadata": {},
   "source": [
    "<hr>\n"
   ]
  },
  {
   "cell_type": "markdown",
   "metadata": {},
   "source": [
    "## <h3 align=\"center\"> © IBM Corporation 2020. All rights reserved. <h3/>\n"
   ]
  }
 ],
 "metadata": {
  "kernelspec": {
   "display_name": "Python",
   "language": "python",
   "name": "conda-env-python-py"
  },
  "language_info": {
   "codemirror_mode": {
    "name": "ipython",
    "version": 3
   },
   "file_extension": ".py",
   "mimetype": "text/x-python",
   "name": "python",
   "nbconvert_exporter": "python",
   "pygments_lexer": "ipython3",
   "version": "3.6.12"
  }
 },
 "nbformat": 4,
 "nbformat_minor": 4
}
