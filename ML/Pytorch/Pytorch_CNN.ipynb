{
 "cells": [
  {
   "cell_type": "code",
   "execution_count": 1,
   "metadata": {},
   "outputs": [],
   "source": [
    "\n",
    "# Import the libraries we need to use in this lab\n",
    "\n",
    "# Using the following line code to install the torchvision library\n",
    "# !conda install -y torchvision\n",
    "\n",
    "import torch \n",
    "import torch.nn as nn\n",
    "import torchvision.transforms as transforms\n",
    "import torchvision.datasets as dsets\n",
    "import matplotlib.pylab as plt\n",
    "import numpy as np\n",
    "from scipy import ndimage,misc\n"
   ]
  },
  {
   "cell_type": "code",
   "execution_count": 2,
   "metadata": {},
   "outputs": [],
   "source": [
    "def show_data(data_sample):\n",
    "    plt.imshow(data_sample[0].numpy().reshape((IMAGE_SIZE, IMAGE_SIZE)), cmap='gray')\n",
    "    plt.title('y = '+ str(data_sample[1].item()))"
   ]
  },
  {
   "cell_type": "code",
   "execution_count": 3,
   "metadata": {},
   "outputs": [],
   "source": [
    "def show_data1(dataset,sample):\n",
    "\n",
    "    plt.imshow(dataset.x[sample,0,:,:].numpy(),cmap='gray')\n",
    "    plt.title('y='+str(dataset.y[sample].item()))\n",
    "    plt.show()"
   ]
  },
  {
   "cell_type": "code",
   "execution_count": 4,
   "metadata": {},
   "outputs": [],
   "source": [
    "IMAGESIZE = 16\n",
    "compose = transforms.Compose([transforms.Resize((IMAGESIZE,IMAGESIZE)), transforms.ToTensor()])"
   ]
  },
  {
   "cell_type": "code",
   "execution_count": 5,
   "metadata": {},
   "outputs": [],
   "source": [
    "train_data = dsets.MNIST(root = \"./\", download = True, train = True, transform = compose)\n",
    "validation_data = dsets.MNIST(root = \"./\", download = True, train = False, transform = compose)"
   ]
  },
  {
   "cell_type": "code",
   "execution_count": 6,
   "metadata": {},
   "outputs": [],
   "source": [
    "class cnn(nn.Module):\n",
    "    def __init__(self, out1 =2, out2 =2):\n",
    "        super(cnn,self).__init__()\n",
    "        self.cnn1 = nn.Conv2d(in_channels=1 , out_channels= out1, kernel_size=2, padding= 0)\n",
    "        self.maxpool1 = nn.MaxPool2d(kernel_size=2, stride= 1)\n",
    "        \n",
    "        self.cnn2 = nn.Conv2d(in_channels=out1, out_channels= out2, kernel_size= 2, padding= 0)\n",
    "        self.maxpool2 = nn.MaxPool2d(kernel_size=2, stride= 1)\n",
    "        \n",
    "        self.fclayer1 = nn.Linear(out2*7*7, 2)\n",
    "    \n",
    "    def forward(self,x):\n",
    "        #first Cnn layer\n",
    "        x = self.cnn1(x)\n",
    "        x = torch.relu(x)\n",
    "        x = self.maxpool1(x)\n",
    "        \n",
    "        #second Cnn Layer\n",
    "        x = self.cnn2(x)\n",
    "        x = torch.relu(x)\n",
    "        x = self.maxpool2(x)\n",
    "        \n",
    "        #flatten the output and fully connected layer\n",
    "        x = x.view(x.size(0),-1)\n",
    "        x = self.fclayer1(x)\n",
    "        \n",
    "        return(x)\n",
    "    \n",
    "    def activation(self, x):\n",
    "        z1 = self.cnn1(x)\n",
    "        a1 = torch.relu(z1)\n",
    "        out = self.maxpool1(a1)\n",
    "        \n",
    "        #second Cnn Layer\n",
    "        z2 = self.cnn2(out)\n",
    "        a2 = torch.relu(z2)\n",
    "        out = self.maxpool2(a2)\n",
    "        \n",
    "        #flatten the output and fully connected layer\n",
    "        out = out.view(out.size(0),-1)\n",
    "        \n",
    "        return z1,a1,z2,a2,out"
   ]
  },
  {
   "cell_type": "code",
   "execution_count": 7,
   "metadata": {},
   "outputs": [],
   "source": [
    "class cnn2(nn.Module):\n",
    "    def __init__(self,out1 = 16,out2 =32):\n",
    "        super(cnn2,self).__init__()\n",
    "        self.cnn1 = nn.Conv2d(in_channels= 1, out_channels = out1, kernel_size= 5, padding = 2)\n",
    "        self.max1 = nn.MaxPool2d(kernel_size= 2)\n",
    "        \n",
    "        self.cnn2 = nn.Conv2d(in_channels = out1 ,out_channels = out2, kernel_size = 5, stride = 1, padding = 2)\n",
    "        self.max2 = nn.MaxPool2d(kernel_size = 2)\n",
    "        \n",
    "        self.fcl = nn.Linear(out2 * 4 * 4, 10)\n",
    "    \n",
    "    def forward(self,x):\n",
    "        #first Cnn layer\n",
    "        x = self.cnn1(x)\n",
    "        x = torch.relu(x)\n",
    "        x = self.max1(x)\n",
    "        \n",
    "        #second Cnn Layer\n",
    "        x = self.cnn2(x)\n",
    "        x = torch.relu(x)\n",
    "        x = self.max2(x)\n",
    "        \n",
    "        #flatten the output and fully connected layer\n",
    "        x = x.view(x.size(0),-1)\n",
    "        x = self.fcl(x)\n",
    "        \n",
    "        return(x)\n",
    "    \n",
    "    def activation(self, x):\n",
    "        z1 = self.cnn1(x)\n",
    "        a1 = torch.relu(z1)\n",
    "        out = self.max1(a1)\n",
    "        \n",
    "        #second Cnn Layer\n",
    "        z2 = self.cnn2(out)\n",
    "        a2 = torch.relu(z2)\n",
    "        out = self.max2(a2)\n",
    "        \n",
    "        #flatten the output and fully connected layer\n",
    "        out = out.view(out.size(0),-1)\n",
    "        \n",
    "        return z1,a1,z2,a2,out\n",
    "        \n",
    "        \n",
    "        "
   ]
  },
  {
   "cell_type": "code",
   "execution_count": 34,
   "metadata": {},
   "outputs": [],
   "source": [
    "class CNN3(nn.Module):\n",
    "    \n",
    "    # Contructor\n",
    "    def __init__(self, out_1=16, out_2=32):\n",
    "        super(CNN3, self).__init__()\n",
    "        self.cnn1 = nn.Conv2d(in_channels=1, out_channels=out_1, kernel_size=5, padding=2)\n",
    "        self.cnn1_b = nn.BatchNorm2d(out_1)\n",
    "        self.maxpool1=nn.MaxPool2d(kernel_size=2)\n",
    "\n",
    "        self.cnn2 = nn.Conv2d(in_channels=out_1, out_channels=out_2, kernel_size=5, stride=1, padding=2)\n",
    "        self.maxpool2=nn.MaxPool2d(kernel_size=2)\n",
    "        self.cnn2_b = nn.BatchNorm2d(out_2)\n",
    "        self.fc1 = nn.Linear(out_2 * 4 * 4, 10)\n",
    "    \n",
    "    # Prediction\n",
    "    def forward(self, x):\n",
    "        x = self.cnn1(x)\n",
    "        x = self.cnn1_b(x)\n",
    "        x = torch.relu(x)        \n",
    "        x = self.maxpool1(x)\n",
    "        \n",
    "        x = self.cnn2(x)\n",
    "        x = self.cnn2_b(x)\n",
    "        x = torch.relu(x)\n",
    "        x = self.maxpool2(x)\n",
    "        x = x.view(x.size(0), -1)\n",
    "        x = self.fc1(x)\n",
    "        return x\n",
    "    \n",
    "    # Outputs in each steps\n",
    "    def activations(self, x):\n",
    "        #outputs activation this is not necessary\n",
    "        z1 = self.cnn1(x)\n",
    "        a1 = torch.relu(z1)\n",
    "        out = self.maxpool1(a1)\n",
    "        \n",
    "        z2 = self.cnn2(out)\n",
    "        a2 = torch.relu(z2)\n",
    "        out1 = self.maxpool2(a2)\n",
    "        out = out.view(out.size(0),-1)\n",
    "        return z1, a1, z2, a2, out1,out"
   ]
  },
  {
   "cell_type": "code",
   "execution_count": 8,
   "metadata": {},
   "outputs": [],
   "source": [
    "from torch.utils.data import Dataset, DataLoader\n",
    "class Data(Dataset):\n",
    "    def __init__(self,N_images=100,offset=0,p=0.9, train=False):\n",
    "        \"\"\"\n",
    "        p:portability that pixel is wight  \n",
    "        N_images:number of images \n",
    "        offset:set a random vertical and horizontal offset images by a sample should be less than 3 \n",
    "        \"\"\"\n",
    "        if train==True:\n",
    "            np.random.seed(1)  \n",
    "        \n",
    "        #make images multiple of 3 \n",
    "        N_images=2*(N_images//2)\n",
    "        images=np.zeros((N_images,1,11,11))\n",
    "        start1=3\n",
    "        start2=1\n",
    "        self.y=torch.zeros(N_images).type(torch.long)\n",
    "\n",
    "        for n in range(N_images):\n",
    "            if offset>0:\n",
    "        \n",
    "                low=int(np.random.randint(low=start1, high=start1+offset, size=1))\n",
    "                high=int(np.random.randint(low=start2, high=start2+offset, size=1))\n",
    "            else:\n",
    "                low=4\n",
    "                high=1\n",
    "        \n",
    "            if n<=N_images//2:\n",
    "                self.y[n]=0\n",
    "                images[n,0,high:high+9,low:low+3]= np.random.binomial(1, p, (9,3))\n",
    "            elif  n>N_images//2:\n",
    "                self.y[n]=1\n",
    "                images[n,0,low:low+3,high:high+9] = np.random.binomial(1, p, (3,9))\n",
    "           \n",
    "        \n",
    "        \n",
    "        self.x=torch.from_numpy(images).type(torch.FloatTensor)\n",
    "        self.len=self.x.shape[0]\n",
    "        del(images)\n",
    "        np.random.seed(0)\n",
    "    def __getitem__(self,index):      \n",
    "        return self.x[index],self.y[index]\n",
    "    def __len__(self):\n",
    "        return self.len"
   ]
  },
  {
   "cell_type": "code",
   "execution_count": 9,
   "metadata": {},
   "outputs": [],
   "source": [
    "def plot_channels(W):\n",
    "    #number of output channels \n",
    "    n_out=W.shape[0]\n",
    "    #number of input channels \n",
    "    n_in=W.shape[1]\n",
    "    w_min=W.min().item()\n",
    "    w_max=W.max().item()\n",
    "    fig, axes = plt.subplots(n_out,n_in)\n",
    "    fig.subplots_adjust(hspace = 0.1)\n",
    "    out_index=0\n",
    "    in_index=0\n",
    "    #plot outputs as rows inputs as columns \n",
    "    for ax in axes.flat:\n",
    "    \n",
    "        if in_index>n_in-1:\n",
    "            out_index=out_index+1\n",
    "            in_index=0\n",
    "              \n",
    "        ax.imshow(W[out_index,in_index,:,:], vmin=w_min, vmax=w_max, cmap='seismic')\n",
    "        ax.set_yticklabels([])\n",
    "        ax.set_xticklabels([])\n",
    "        in_index=in_index+1\n",
    "\n",
    "    plt.show()"
   ]
  },
  {
   "cell_type": "code",
   "execution_count": 10,
   "metadata": {},
   "outputs": [],
   "source": [
    "def plot_activations(A,number_rows= 1,name=\"\"):\n",
    "    A=A[0,:,:,:].detach().numpy()\n",
    "    n_activations=A.shape[0]\n",
    "    \n",
    "    \n",
    "    print(n_activations)\n",
    "    A_min=A.min().item()\n",
    "    A_max=A.max().item()\n",
    "\n",
    "    if n_activations==1:\n",
    "\n",
    "        # Plot the image.\n",
    "        plt.imshow(A[0,:], vmin=A_min, vmax=A_max, cmap='seismic')\n",
    "\n",
    "    else:\n",
    "        fig, axes = plt.subplots(number_rows, n_activations//number_rows)\n",
    "        fig.subplots_adjust(hspace = 0.4)\n",
    "        for i,ax in enumerate(axes.flat):\n",
    "            if i< n_activations:\n",
    "                # Set the label for the sub-plot.\n",
    "                ax.set_xlabel( \"activation:{0}\".format(i+1))\n",
    "\n",
    "                # Plot the image.\n",
    "                ax.imshow(A[i,:], vmin=A_min, vmax=A_max, cmap='seismic')\n",
    "                ax.set_xticks([])\n",
    "                ax.set_yticks([])\n",
    "    plt.show()"
   ]
  },
  {
   "cell_type": "code",
   "execution_count": 12,
   "metadata": {},
   "outputs": [],
   "source": [
    "\n",
    "def plot_parameters(W, number_rows=1, name=\"\", i=0):\n",
    "    W = W.data[:, i, :, :]\n",
    "    n_filters = W.shape[0]\n",
    "    w_min = W.min().item()\n",
    "    w_max = W.max().item()\n",
    "    fig, axes = plt.subplots(number_rows, n_filters // number_rows)\n",
    "    fig.subplots_adjust(hspace=0.4)\n",
    "\n",
    "    for i, ax in enumerate(axes.flat):\n",
    "        if i < n_filters:\n",
    "            # Set the label for the sub-plot.\n",
    "            ax.set_xlabel(\"kernel:{0}\".format(i + 1))\n",
    "\n",
    "            # Plot the image.\n",
    "            ax.imshow(W[i, :], vmin=w_min, vmax=w_max, cmap='seismic')\n",
    "            ax.set_xticks([])\n",
    "            ax.set_yticks([])\n",
    "    plt.suptitle(name, fontsize=10)    \n",
    "    plt.show()"
   ]
  },
  {
   "cell_type": "code",
   "execution_count": 13,
   "metadata": {},
   "outputs": [],
   "source": [
    "\n",
    "def conv_output_shape(h_w, kernel_size=1, stride=1, pad=0, dilation=1):\n",
    "    #by Duane Nielsen\n",
    "    from math import floor\n",
    "    if type(kernel_size) is not tuple:\n",
    "        kernel_size = (kernel_size, kernel_size)\n",
    "    h = floor( ((h_w[0] + (2 * pad) - ( dilation * (kernel_size[0] - 1) ) - 1 )/ stride) + 1)\n",
    "    w = floor( ((h_w[1] + (2 * pad) - ( dilation * (kernel_size[1] - 1) ) - 1 )/ stride) + 1)\n",
    "    return h, w"
   ]
  },
  {
   "cell_type": "code",
   "execution_count": 98,
   "metadata": {},
   "outputs": [
    {
     "data": {
      "text/plain": [
       "cnn(\n",
       "  (cnn1): Conv2d(1, 4, kernel_size=(2, 2), stride=(1, 1))\n",
       "  (maxpool1): MaxPool2d(kernel_size=2, stride=1, padding=0, dilation=1, ceil_mode=False)\n",
       "  (cnn2): Conv2d(4, 3, kernel_size=(2, 2), stride=(1, 1))\n",
       "  (maxpool2): MaxPool2d(kernel_size=2, stride=1, padding=0, dilation=1, ceil_mode=False)\n",
       "  (fclayer1): Linear(in_features=147, out_features=2, bias=True)\n",
       ")"
      ]
     },
     "execution_count": 98,
     "metadata": {},
     "output_type": "execute_result"
    }
   ],
   "source": [
    "model = cnn(4,3)\n",
    "model"
   ]
  },
  {
   "cell_type": "code",
   "execution_count": 73,
   "metadata": {},
   "outputs": [
    {
     "data": {
      "image/png": "[encoded data removed]",
      "text/plain": [
       "<Figure size 432x288 with 12 Axes>"
      ]
     },
     "metadata": {
      "needs_background": "light"
     },
     "output_type": "display_data"
    }
   ],
   "source": [
    "plot_channels(model.state_dict()['cnn2.weight'])"
   ]
  },
  {
   "cell_type": "code",
   "execution_count": 74,
   "metadata": {},
   "outputs": [],
   "source": [
    "lossfunction = nn.CrossEntropyLoss()"
   ]
  },
  {
   "cell_type": "code",
   "execution_count": 20,
   "metadata": {},
   "outputs": [
    {
     "ename": "NameError",
     "evalue": "name 'model' is not defined",
     "output_type": "error",
     "traceback": [
      "\u001b[0;31m---------------------------------------------------------------------------\u001b[0m",
      "\u001b[0;31mNameError\u001b[0m                                 Traceback (most recent call last)",
      "\u001b[0;32m<ipython-input-20-e90a43a01ca6>\u001b[0m in \u001b[0;36m<module>\u001b[0;34m\u001b[0m\n\u001b[1;32m      1\u001b[0m \u001b[0mlr\u001b[0m \u001b[0;34m=\u001b[0m \u001b[0;36m0.01\u001b[0m\u001b[0;34m\u001b[0m\u001b[0;34m\u001b[0m\u001b[0m\n\u001b[0;32m----> 2\u001b[0;31m \u001b[0moptimizer\u001b[0m \u001b[0;34m=\u001b[0m \u001b[0mtorch\u001b[0m\u001b[0;34m.\u001b[0m\u001b[0moptim\u001b[0m\u001b[0;34m.\u001b[0m\u001b[0mAdam\u001b[0m\u001b[0;34m(\u001b[0m\u001b[0mmodel\u001b[0m\u001b[0;34m.\u001b[0m\u001b[0mparameters\u001b[0m\u001b[0;34m(\u001b[0m\u001b[0;34m)\u001b[0m\u001b[0;34m,\u001b[0m \u001b[0mlr\u001b[0m\u001b[0;34m)\u001b[0m\u001b[0;34m\u001b[0m\u001b[0;34m\u001b[0m\u001b[0m\n\u001b[0m",
      "\u001b[0;31mNameError\u001b[0m: name 'model' is not defined"
     ]
    }
   ],
   "source": [
    "lr = 0.01\n",
    "optimizer = torch.optim.Adam(model.parameters(), lr)"
   ]
  },
  {
   "cell_type": "code",
   "execution_count": 85,
   "metadata": {},
   "outputs": [],
   "source": [
    "n_epoche = 10\n",
    "totalcost =[]\n",
    "totalaccurary=[]\n"
   ]
  },
  {
   "cell_type": "code",
   "execution_count": 81,
   "metadata": {},
   "outputs": [],
   "source": [
    "train_dataset=Data(N_images=10000)\n",
    "validation_dataset=Data(N_images=1000, train = False)"
   ]
  },
  {
   "cell_type": "code",
   "execution_count": 83,
   "metadata": {},
   "outputs": [],
   "source": [
    "train_loader = torch.utils.data.DataLoader(dataset = train_dataset, batch_size = 10)\n",
    "validation_loader = torch.utils.data.DataLoader(dataset = validation_dataset, batch_size = 10)"
   ]
  },
  {
   "cell_type": "code",
   "execution_count": 100,
   "metadata": {},
   "outputs": [],
   "source": [
    "for e in range(n_epoche):\n",
    "    cost = 0\n",
    "    for x,y in train_loader:\n",
    "        optimizer.zero_grad()\n",
    "        z = model(x)\n",
    "        loss = lossfunction(z,y)\n",
    "        loss.backward()\n",
    "        optimizer.step()\n",
    "        cost += loss\n",
    "    totalcost.append(cost)\n",
    "    \n",
    "    correct=0\n",
    "    for x,y in validation_loader:\n",
    "        z = model(x)\n",
    "        _,yhat = torch.max(z.data,1)\n",
    "    \n",
    "    correct += (yhat == y).sum()\n",
    "    accuracy = correct / len(validation_dataset)\n",
    "    totalaccurary.append(accuracy)"
   ]
  },
  {
   "cell_type": "code",
   "execution_count": 102,
   "metadata": {},
   "outputs": [
    {
     "data": {
      "image/png": "[encoded data removed]",
      "text/plain": [
       "<Figure size 432x288 with 12 Axes>"
      ]
     },
     "metadata": {
      "needs_background": "light"
     },
     "output_type": "display_data"
    }
   ],
   "source": [
    "plot_channels(model.state_dict()['cnn2.weight'])"
   ]
  },
  {
   "cell_type": "code",
   "execution_count": 107,
   "metadata": {},
   "outputs": [
    {
     "data": {
      "image/png": "[encoded data removed]",
      "text/plain": [
       "<Figure size 432x288 with 1 Axes>"
      ]
     },
     "metadata": {
      "needs_background": "light"
     },
     "output_type": "display_data"
    }
   ],
   "source": [
    "show_data1(train_dataset,1000//2+2)\n",
    "out=model.activation(train_dataset[1000//2+2][0].view(1,1,11,11))"
   ]
  },
  {
   "cell_type": "code",
   "execution_count": 117,
   "metadata": {},
   "outputs": [
    {
     "data": {
      "text/plain": [
       "tensor([[[[0., 0., 0., 0., 0., 0., 0., 0., 0., 0., 0.],\n",
       "          [0., 0., 0., 0., 1., 1., 1., 0., 0., 0., 0.],\n",
       "          [0., 0., 0., 0., 0., 1., 1., 0., 0., 0., 0.],\n",
       "          [0., 0., 0., 0., 1., 0., 1., 0., 0., 0., 0.],\n",
       "          [0., 0., 0., 0., 1., 1., 1., 0., 0., 0., 0.],\n",
       "          [0., 0., 0., 0., 0., 1., 0., 0., 0., 0., 0.],\n",
       "          [0., 0., 0., 0., 1., 0., 1., 0., 0., 0., 0.],\n",
       "          [0., 0., 0., 0., 1., 1., 1., 0., 0., 0., 0.],\n",
       "          [0., 0., 0., 0., 1., 1., 1., 0., 0., 0., 0.],\n",
       "          [0., 0., 0., 0., 1., 1., 1., 0., 0., 0., 0.],\n",
       "          [0., 0., 0., 0., 0., 0., 0., 0., 0., 0., 0.]]]])"
      ]
     },
     "execution_count": 117,
     "metadata": {},
     "output_type": "execute_result"
    }
   ],
   "source": [
    "train_dataset[1000//2+2][0].view(1,1,11,11)"
   ]
  },
  {
   "cell_type": "code",
   "execution_count": 120,
   "metadata": {},
   "outputs": [
    {
     "data": {
      "text/plain": [
       "(tensor([[[[-0.1024, -0.1024, -0.1024, -0.1108, -0.1142, -0.1142, -0.1058,\n",
       "            -0.1024, -0.1024, -0.1024],\n",
       "           [-0.1024, -0.1024, -0.1024, -0.4316, -0.5651, -0.5684, -0.2308,\n",
       "            -0.1024, -0.1024, -0.1024],\n",
       "           [-0.1024, -0.1024, -0.1024, -0.1108, -0.4350, -0.5651, -0.2308,\n",
       "            -0.1024, -0.1024, -0.1024],\n",
       "           [-0.1024, -0.1024, -0.1024, -0.4401, -0.2392, -0.4434, -0.2308,\n",
       "            -0.1024, -0.1024, -0.1024],\n",
       "           [-0.1024, -0.1024, -0.1024, -0.4316, -0.5651, -0.5600, -0.2274,\n",
       "            -0.1024, -0.1024, -0.1024],\n",
       "           [-0.1024, -0.1024, -0.1024, -0.1108, -0.4350, -0.2359, -0.1058,\n",
       "            -0.1024, -0.1024, -0.1024],\n",
       "           [-0.1024, -0.1024, -0.1024, -0.4401, -0.2392, -0.4434, -0.2308,\n",
       "            -0.1024, -0.1024, -0.1024],\n",
       "           [-0.1024, -0.1024, -0.1024, -0.4401, -0.5684, -0.5684, -0.2308,\n",
       "            -0.1024, -0.1024, -0.1024],\n",
       "           [-0.1024, -0.1024, -0.1024, -0.4401, -0.5684, -0.5684, -0.2308,\n",
       "            -0.1024, -0.1024, -0.1024],\n",
       "           [-0.1024, -0.1024, -0.1024, -0.4316, -0.5566, -0.5566, -0.2274,\n",
       "            -0.1024, -0.1024, -0.1024]],\n",
       " \n",
       "          [[-0.0995, -0.0995, -0.0995,  0.1757,  0.5608,  0.5608,  0.2856,\n",
       "            -0.0995, -0.0995, -0.0995],\n",
       "           [-0.0995, -0.0995, -0.0995, -0.3595, -0.2014,  0.1837,  0.1684,\n",
       "            -0.0995, -0.0995, -0.0995],\n",
       "           [-0.0995, -0.0995, -0.0995,  0.1757,  0.0256, -0.2014,  0.1684,\n",
       "            -0.0995, -0.0995, -0.0995],\n",
       "           [-0.0995, -0.0995, -0.0995, -0.0843,  0.4437,  0.3008,  0.1684,\n",
       "            -0.0995, -0.0995, -0.0995],\n",
       "           [-0.0995, -0.0995, -0.0995, -0.3595, -0.2014, -0.0916, -0.2167,\n",
       "            -0.0995, -0.0995, -0.0995],\n",
       "           [-0.0995, -0.0995, -0.0995,  0.1757,  0.0256,  0.0586,  0.2856,\n",
       "            -0.0995, -0.0995, -0.0995],\n",
       "           [-0.0995, -0.0995, -0.0995, -0.0843,  0.4437,  0.3008,  0.1684,\n",
       "            -0.0995, -0.0995, -0.0995],\n",
       "           [-0.0995, -0.0995, -0.0995, -0.0843,  0.1837,  0.1837,  0.1684,\n",
       "            -0.0995, -0.0995, -0.0995],\n",
       "           [-0.0995, -0.0995, -0.0995, -0.0843,  0.1837,  0.1837,  0.1684,\n",
       "            -0.0995, -0.0995, -0.0995],\n",
       "           [-0.0995, -0.0995, -0.0995, -0.3595, -0.4766, -0.4766, -0.2167,\n",
       "            -0.0995, -0.0995, -0.0995]],\n",
       " \n",
       "          [[ 0.3648,  0.3648,  0.3648, -0.1036,  0.0922,  0.0922,  0.5607,\n",
       "             0.3648,  0.3648,  0.3648],\n",
       "           [ 0.3648,  0.3648,  0.3648,  0.2953, -0.1840,  0.0119,  0.5498,\n",
       "             0.3648,  0.3648,  0.3648],\n",
       "           [ 0.3648,  0.3648,  0.3648, -0.1036,  0.4912, -0.1840,  0.5498,\n",
       "             0.3648,  0.3648,  0.3648],\n",
       "           [ 0.3648,  0.3648,  0.3648, -0.1731,  0.0814,  0.0227,  0.5498,\n",
       "             0.3648,  0.3648,  0.3648],\n",
       "           [ 0.3648,  0.3648,  0.3648,  0.2953, -0.1840,  0.4803,  0.3540,\n",
       "             0.3648,  0.3648,  0.3648],\n",
       "           [ 0.3648,  0.3648,  0.3648, -0.1036,  0.4912, -0.1145,  0.5607,\n",
       "             0.3648,  0.3648,  0.3648],\n",
       "           [ 0.3648,  0.3648,  0.3648, -0.1731,  0.0814,  0.0227,  0.5498,\n",
       "             0.3648,  0.3648,  0.3648],\n",
       "           [ 0.3648,  0.3648,  0.3648, -0.1731,  0.0119,  0.0119,  0.5498,\n",
       "             0.3648,  0.3648,  0.3648],\n",
       "           [ 0.3648,  0.3648,  0.3648, -0.1731,  0.0119,  0.0119,  0.5498,\n",
       "             0.3648,  0.3648,  0.3648],\n",
       "           [ 0.3648,  0.3648,  0.3648,  0.2953,  0.2845,  0.2845,  0.3540,\n",
       "             0.3648,  0.3648,  0.3648]],\n",
       " \n",
       "          [[ 0.4646,  0.4646,  0.4646,  0.1558,  0.0854,  0.0854,  0.3942,\n",
       "             0.4646,  0.4646,  0.4646],\n",
       "           [ 0.4646,  0.4646,  0.4646,  0.6845, -0.0506, -0.1210, -0.0320,\n",
       "             0.4646,  0.4646,  0.4646],\n",
       "           [ 0.4646,  0.4646,  0.4646,  0.1558,  0.6141, -0.0506, -0.0320,\n",
       "             0.4646,  0.4646,  0.4646],\n",
       "           [ 0.4646,  0.4646,  0.4646,  0.3757, -0.3408,  0.3053, -0.0320,\n",
       "             0.4646,  0.4646,  0.4646],\n",
       "           [ 0.4646,  0.4646,  0.4646,  0.6845, -0.0506,  0.1878,  0.0384,\n",
       "             0.4646,  0.4646,  0.4646],\n",
       "           [ 0.4646,  0.4646,  0.4646,  0.1558,  0.6141, -0.2704,  0.3942,\n",
       "             0.4646,  0.4646,  0.4646],\n",
       "           [ 0.4646,  0.4646,  0.4646,  0.3757, -0.3408,  0.3053, -0.0320,\n",
       "             0.4646,  0.4646,  0.4646],\n",
       "           [ 0.4646,  0.4646,  0.4646,  0.3757, -0.1210, -0.1210, -0.0320,\n",
       "             0.4646,  0.4646,  0.4646],\n",
       "           [ 0.4646,  0.4646,  0.4646,  0.3757, -0.1210, -0.1210, -0.0320,\n",
       "             0.4646,  0.4646,  0.4646],\n",
       "           [ 0.4646,  0.4646,  0.4646,  0.6845,  0.2582,  0.2582,  0.0384,\n",
       "             0.4646,  0.4646,  0.4646]]]], grad_fn=<ThnnConv2DBackward>),\n",
       " tensor([[[[0.0000, 0.0000, 0.0000, 0.0000, 0.0000, 0.0000, 0.0000, 0.0000,\n",
       "            0.0000, 0.0000],\n",
       "           [0.0000, 0.0000, 0.0000, 0.0000, 0.0000, 0.0000, 0.0000, 0.0000,\n",
       "            0.0000, 0.0000],\n",
       "           [0.0000, 0.0000, 0.0000, 0.0000, 0.0000, 0.0000, 0.0000, 0.0000,\n",
       "            0.0000, 0.0000],\n",
       "           [0.0000, 0.0000, 0.0000, 0.0000, 0.0000, 0.0000, 0.0000, 0.0000,\n",
       "            0.0000, 0.0000],\n",
       "           [0.0000, 0.0000, 0.0000, 0.0000, 0.0000, 0.0000, 0.0000, 0.0000,\n",
       "            0.0000, 0.0000],\n",
       "           [0.0000, 0.0000, 0.0000, 0.0000, 0.0000, 0.0000, 0.0000, 0.0000,\n",
       "            0.0000, 0.0000],\n",
       "           [0.0000, 0.0000, 0.0000, 0.0000, 0.0000, 0.0000, 0.0000, 0.0000,\n",
       "            0.0000, 0.0000],\n",
       "           [0.0000, 0.0000, 0.0000, 0.0000, 0.0000, 0.0000, 0.0000, 0.0000,\n",
       "            0.0000, 0.0000],\n",
       "           [0.0000, 0.0000, 0.0000, 0.0000, 0.0000, 0.0000, 0.0000, 0.0000,\n",
       "            0.0000, 0.0000],\n",
       "           [0.0000, 0.0000, 0.0000, 0.0000, 0.0000, 0.0000, 0.0000, 0.0000,\n",
       "            0.0000, 0.0000]],\n",
       " \n",
       "          [[0.0000, 0.0000, 0.0000, 0.1757, 0.5608, 0.5608, 0.2856, 0.0000,\n",
       "            0.0000, 0.0000],\n",
       "           [0.0000, 0.0000, 0.0000, 0.0000, 0.0000, 0.1837, 0.1684, 0.0000,\n",
       "            0.0000, 0.0000],\n",
       "           [0.0000, 0.0000, 0.0000, 0.1757, 0.0256, 0.0000, 0.1684, 0.0000,\n",
       "            0.0000, 0.0000],\n",
       "           [0.0000, 0.0000, 0.0000, 0.0000, 0.4437, 0.3008, 0.1684, 0.0000,\n",
       "            0.0000, 0.0000],\n",
       "           [0.0000, 0.0000, 0.0000, 0.0000, 0.0000, 0.0000, 0.0000, 0.0000,\n",
       "            0.0000, 0.0000],\n",
       "           [0.0000, 0.0000, 0.0000, 0.1757, 0.0256, 0.0586, 0.2856, 0.0000,\n",
       "            0.0000, 0.0000],\n",
       "           [0.0000, 0.0000, 0.0000, 0.0000, 0.4437, 0.3008, 0.1684, 0.0000,\n",
       "            0.0000, 0.0000],\n",
       "           [0.0000, 0.0000, 0.0000, 0.0000, 0.1837, 0.1837, 0.1684, 0.0000,\n",
       "            0.0000, 0.0000],\n",
       "           [0.0000, 0.0000, 0.0000, 0.0000, 0.1837, 0.1837, 0.1684, 0.0000,\n",
       "            0.0000, 0.0000],\n",
       "           [0.0000, 0.0000, 0.0000, 0.0000, 0.0000, 0.0000, 0.0000, 0.0000,\n",
       "            0.0000, 0.0000]],\n",
       " \n",
       "          [[0.3648, 0.3648, 0.3648, 0.0000, 0.0922, 0.0922, 0.5607, 0.3648,\n",
       "            0.3648, 0.3648],\n",
       "           [0.3648, 0.3648, 0.3648, 0.2953, 0.0000, 0.0119, 0.5498, 0.3648,\n",
       "            0.3648, 0.3648],\n",
       "           [0.3648, 0.3648, 0.3648, 0.0000, 0.4912, 0.0000, 0.5498, 0.3648,\n",
       "            0.3648, 0.3648],\n",
       "           [0.3648, 0.3648, 0.3648, 0.0000, 0.0814, 0.0227, 0.5498, 0.3648,\n",
       "            0.3648, 0.3648],\n",
       "           [0.3648, 0.3648, 0.3648, 0.2953, 0.0000, 0.4803, 0.3540, 0.3648,\n",
       "            0.3648, 0.3648],\n",
       "           [0.3648, 0.3648, 0.3648, 0.0000, 0.4912, 0.0000, 0.5607, 0.3648,\n",
       "            0.3648, 0.3648],\n",
       "           [0.3648, 0.3648, 0.3648, 0.0000, 0.0814, 0.0227, 0.5498, 0.3648,\n",
       "            0.3648, 0.3648],\n",
       "           [0.3648, 0.3648, 0.3648, 0.0000, 0.0119, 0.0119, 0.5498, 0.3648,\n",
       "            0.3648, 0.3648],\n",
       "           [0.3648, 0.3648, 0.3648, 0.0000, 0.0119, 0.0119, 0.5498, 0.3648,\n",
       "            0.3648, 0.3648],\n",
       "           [0.3648, 0.3648, 0.3648, 0.2953, 0.2845, 0.2845, 0.3540, 0.3648,\n",
       "            0.3648, 0.3648]],\n",
       " \n",
       "          [[0.4646, 0.4646, 0.4646, 0.1558, 0.0854, 0.0854, 0.3942, 0.4646,\n",
       "            0.4646, 0.4646],\n",
       "           [0.4646, 0.4646, 0.4646, 0.6845, 0.0000, 0.0000, 0.0000, 0.4646,\n",
       "            0.4646, 0.4646],\n",
       "           [0.4646, 0.4646, 0.4646, 0.1558, 0.6141, 0.0000, 0.0000, 0.4646,\n",
       "            0.4646, 0.4646],\n",
       "           [0.4646, 0.4646, 0.4646, 0.3757, 0.0000, 0.3053, 0.0000, 0.4646,\n",
       "            0.4646, 0.4646],\n",
       "           [0.4646, 0.4646, 0.4646, 0.6845, 0.0000, 0.1878, 0.0384, 0.4646,\n",
       "            0.4646, 0.4646],\n",
       "           [0.4646, 0.4646, 0.4646, 0.1558, 0.6141, 0.0000, 0.3942, 0.4646,\n",
       "            0.4646, 0.4646],\n",
       "           [0.4646, 0.4646, 0.4646, 0.3757, 0.0000, 0.3053, 0.0000, 0.4646,\n",
       "            0.4646, 0.4646],\n",
       "           [0.4646, 0.4646, 0.4646, 0.3757, 0.0000, 0.0000, 0.0000, 0.4646,\n",
       "            0.4646, 0.4646],\n",
       "           [0.4646, 0.4646, 0.4646, 0.3757, 0.0000, 0.0000, 0.0000, 0.4646,\n",
       "            0.4646, 0.4646],\n",
       "           [0.4646, 0.4646, 0.4646, 0.6845, 0.2582, 0.2582, 0.0384, 0.4646,\n",
       "            0.4646, 0.4646]]]], grad_fn=<ReluBackward0>),\n",
       " tensor([[[[ 0.0182, -0.0065, -0.0370, -0.0723, -0.2761, -0.1176,  0.0212,\n",
       "             0.0182],\n",
       "           [ 0.0182, -0.0194, -0.0292,  0.0204,  0.0385, -0.0730,  0.0406,\n",
       "             0.0182],\n",
       "           [ 0.0182,  0.0144, -0.0459, -0.0914, -0.0698, -0.0518,  0.0406,\n",
       "             0.0182],\n",
       "           [ 0.0182,  0.0101,  0.0069, -0.0562, -0.0771, -0.0468,  0.0387,\n",
       "             0.0182],\n",
       "           [ 0.0182, -0.0194, -0.0292,  0.0322,  0.0264, -0.0403,  0.0193,\n",
       "             0.0182],\n",
       "           [ 0.0182,  0.0016, -0.0712, -0.1135, -0.1074, -0.0478,  0.0212,\n",
       "             0.0182],\n",
       "           [ 0.0182,  0.0182, -0.0080, -0.2250, -0.2788, -0.0729,  0.0406,\n",
       "             0.0182],\n",
       "           [ 0.0182,  0.0311,  0.0392, -0.0956, -0.1987, -0.0740,  0.0406,\n",
       "             0.0182]],\n",
       " \n",
       "          [[-0.1484, -0.1361, -0.0333,  0.0569,  0.1936,  0.1192, -0.0082,\n",
       "            -0.1484],\n",
       "           [-0.1484, -0.1296, -0.0981,  0.0067,  0.0884,  0.1601, -0.0293,\n",
       "            -0.1484],\n",
       "           [-0.1484, -0.1212, -0.0307,  0.1010,  0.1094,  0.1107, -0.0293,\n",
       "            -0.1484],\n",
       "           [-0.1484, -0.1698, -0.0840,  0.0372,  0.1306,  0.1170, -0.0080,\n",
       "            -0.1484],\n",
       "           [-0.1484, -0.1296, -0.0981, -0.0172,  0.0588,  0.1230,  0.0130,\n",
       "            -0.1484],\n",
       "           [-0.1484, -0.1147, -0.0578,  0.0107,  0.0496,  0.1165, -0.0082,\n",
       "            -0.1484],\n",
       "           [-0.1484, -0.1484, -0.1179, -0.0921, -0.0254,  0.0715, -0.0293,\n",
       "            -0.1484],\n",
       "           [-0.1484, -0.1549, -0.1403, -0.1038,  0.0324,  0.1373, -0.0293,\n",
       "            -0.1484]],\n",
       " \n",
       "          [[-0.0941, -0.1248, -0.0899, -0.0395, -0.0601, -0.1950, -0.0742,\n",
       "            -0.0941],\n",
       "           [-0.0941, -0.1174, -0.2199, -0.1348, -0.0303, -0.0239, -0.0614,\n",
       "            -0.0941],\n",
       "           [-0.0941, -0.0809, -0.1018, -0.1093, -0.1454, -0.0964, -0.0614,\n",
       "            -0.0941],\n",
       "           [-0.0941, -0.1453, -0.0814, -0.1068, -0.0639, -0.0917, -0.0524,\n",
       "            -0.0941],\n",
       "           [-0.0941, -0.1174, -0.2199, -0.1494, -0.0596, -0.0912, -0.0651,\n",
       "            -0.0941],\n",
       "           [-0.0941, -0.0736, -0.1179, -0.1491, -0.1746, -0.0989, -0.0742,\n",
       "            -0.0941],\n",
       "           [-0.0941, -0.0941,  0.0147, -0.0719, -0.2354, -0.1597, -0.0614,\n",
       "            -0.0941],\n",
       "           [-0.0941, -0.1015,  0.0052,  0.0085, -0.0827, -0.0409, -0.0614,\n",
       "            -0.0941]]]], grad_fn=<ThnnConv2DBackward>),\n",
       " tensor([[[[0.0182, 0.0000, 0.0000, 0.0000, 0.0000, 0.0000, 0.0212, 0.0182],\n",
       "           [0.0182, 0.0000, 0.0000, 0.0204, 0.0385, 0.0000, 0.0406, 0.0182],\n",
       "           [0.0182, 0.0144, 0.0000, 0.0000, 0.0000, 0.0000, 0.0406, 0.0182],\n",
       "           [0.0182, 0.0101, 0.0069, 0.0000, 0.0000, 0.0000, 0.0387, 0.0182],\n",
       "           [0.0182, 0.0000, 0.0000, 0.0322, 0.0264, 0.0000, 0.0193, 0.0182],\n",
       "           [0.0182, 0.0016, 0.0000, 0.0000, 0.0000, 0.0000, 0.0212, 0.0182],\n",
       "           [0.0182, 0.0182, 0.0000, 0.0000, 0.0000, 0.0000, 0.0406, 0.0182],\n",
       "           [0.0182, 0.0311, 0.0392, 0.0000, 0.0000, 0.0000, 0.0406, 0.0182]],\n",
       " \n",
       "          [[0.0000, 0.0000, 0.0000, 0.0569, 0.1936, 0.1192, 0.0000, 0.0000],\n",
       "           [0.0000, 0.0000, 0.0000, 0.0067, 0.0884, 0.1601, 0.0000, 0.0000],\n",
       "           [0.0000, 0.0000, 0.0000, 0.1010, 0.1094, 0.1107, 0.0000, 0.0000],\n",
       "           [0.0000, 0.0000, 0.0000, 0.0372, 0.1306, 0.1170, 0.0000, 0.0000],\n",
       "           [0.0000, 0.0000, 0.0000, 0.0000, 0.0588, 0.1230, 0.0130, 0.0000],\n",
       "           [0.0000, 0.0000, 0.0000, 0.0107, 0.0496, 0.1165, 0.0000, 0.0000],\n",
       "           [0.0000, 0.0000, 0.0000, 0.0000, 0.0000, 0.0715, 0.0000, 0.0000],\n",
       "           [0.0000, 0.0000, 0.0000, 0.0000, 0.0324, 0.1373, 0.0000, 0.0000]],\n",
       " \n",
       "          [[0.0000, 0.0000, 0.0000, 0.0000, 0.0000, 0.0000, 0.0000, 0.0000],\n",
       "           [0.0000, 0.0000, 0.0000, 0.0000, 0.0000, 0.0000, 0.0000, 0.0000],\n",
       "           [0.0000, 0.0000, 0.0000, 0.0000, 0.0000, 0.0000, 0.0000, 0.0000],\n",
       "           [0.0000, 0.0000, 0.0000, 0.0000, 0.0000, 0.0000, 0.0000, 0.0000],\n",
       "           [0.0000, 0.0000, 0.0000, 0.0000, 0.0000, 0.0000, 0.0000, 0.0000],\n",
       "           [0.0000, 0.0000, 0.0000, 0.0000, 0.0000, 0.0000, 0.0000, 0.0000],\n",
       "           [0.0000, 0.0000, 0.0147, 0.0000, 0.0000, 0.0000, 0.0000, 0.0000],\n",
       "           [0.0000, 0.0000, 0.0052, 0.0085, 0.0000, 0.0000, 0.0000, 0.0000]]]],\n",
       "        grad_fn=<ReluBackward0>),\n",
       " tensor([[0.0182, 0.0000, 0.0204, 0.0385, 0.0385, 0.0406, 0.0406, 0.0182, 0.0144,\n",
       "          0.0204, 0.0385, 0.0385, 0.0406, 0.0406, 0.0182, 0.0144, 0.0069, 0.0000,\n",
       "          0.0000, 0.0406, 0.0406, 0.0182, 0.0101, 0.0322, 0.0322, 0.0264, 0.0387,\n",
       "          0.0387, 0.0182, 0.0016, 0.0322, 0.0322, 0.0264, 0.0212, 0.0212, 0.0182,\n",
       "          0.0182, 0.0000, 0.0000, 0.0000, 0.0406, 0.0406, 0.0311, 0.0392, 0.0392,\n",
       "          0.0000, 0.0000, 0.0406, 0.0406, 0.0000, 0.0000, 0.0569, 0.1936, 0.1936,\n",
       "          0.1601, 0.0000, 0.0000, 0.0000, 0.1010, 0.1094, 0.1601, 0.1601, 0.0000,\n",
       "          0.0000, 0.0000, 0.1010, 0.1306, 0.1306, 0.1170, 0.0000, 0.0000, 0.0000,\n",
       "          0.0372, 0.1306, 0.1306, 0.1230, 0.0130, 0.0000, 0.0000, 0.0107, 0.0588,\n",
       "          0.1230, 0.1230, 0.0130, 0.0000, 0.0000, 0.0107, 0.0496, 0.1165, 0.1165,\n",
       "          0.0000, 0.0000, 0.0000, 0.0000, 0.0324, 0.1373, 0.1373, 0.0000, 0.0000,\n",
       "          0.0000, 0.0000, 0.0000, 0.0000, 0.0000, 0.0000, 0.0000, 0.0000, 0.0000,\n",
       "          0.0000, 0.0000, 0.0000, 0.0000, 0.0000, 0.0000, 0.0000, 0.0000, 0.0000,\n",
       "          0.0000, 0.0000, 0.0000, 0.0000, 0.0000, 0.0000, 0.0000, 0.0000, 0.0000,\n",
       "          0.0000, 0.0000, 0.0000, 0.0000, 0.0000, 0.0000, 0.0000, 0.0000, 0.0147,\n",
       "          0.0147, 0.0000, 0.0000, 0.0000, 0.0000, 0.0000, 0.0147, 0.0147, 0.0085,\n",
       "          0.0000, 0.0000, 0.0000]], grad_fn=<ViewBackward>))"
      ]
     },
     "execution_count": 120,
     "metadata": {},
     "output_type": "execute_result"
    }
   ],
   "source": [
    "out"
   ]
  },
  {
   "cell_type": "code",
   "execution_count": 121,
   "metadata": {},
   "outputs": [
    {
     "name": "stdout",
     "output_type": "stream",
     "text": [
      "4\n"
     ]
    },
    {
     "data": {
      "image/png": "[encoded data removed]",
      "text/plain": [
       "<Figure size 432x288 with 4 Axes>"
      ]
     },
     "metadata": {},
     "output_type": "display_data"
    }
   ],
   "source": [
    "plot_activations(out[0],number_rows=1,name=\" feature map\")\n",
    "plt.show()\n"
   ]
  },
  {
   "cell_type": "code",
   "execution_count": 122,
   "metadata": {},
   "outputs": [
    {
     "name": "stdout",
     "output_type": "stream",
     "text": [
      "4\n"
     ]
    },
    {
     "data": {
      "image/png": "[encoded data removed]",
      "text/plain": [
       "<Figure size 432x288 with 4 Axes>"
      ]
     },
     "metadata": {},
     "output_type": "display_data"
    }
   ],
   "source": [
    "plot_activations(out[1],number_rows=1,name=\" feature map\")\n",
    "plt.show()\n"
   ]
  },
  {
   "cell_type": "code",
   "execution_count": 123,
   "metadata": {},
   "outputs": [
    {
     "name": "stdout",
     "output_type": "stream",
     "text": [
      "3\n"
     ]
    },
    {
     "data": {
      "image/png": "[encoded data removed]",
      "text/plain": [
       "<Figure size 432x288 with 3 Axes>"
      ]
     },
     "metadata": {},
     "output_type": "display_data"
    }
   ],
   "source": [
    "plot_activations(out[2],number_rows=1,name=\" feature map\")\n",
    "plt.show()\n"
   ]
  },
  {
   "cell_type": "code",
   "execution_count": 134,
   "metadata": {},
   "outputs": [
    {
     "name": "stdout",
     "output_type": "stream",
     "text": [
      "[[0.01824847 0.         0.02037928 0.03851314 0.03851314 0.04055344\n",
      "  0.04055344 0.01824847 0.01443827 0.02037928 0.03851314 0.03851314\n",
      "  0.04055344 0.04055344 0.01824847 0.01443827 0.0069415  0.\n",
      "  0.         0.04055344 0.04055344 0.01824847 0.01012255 0.03223193\n",
      "  0.03223193 0.02640797 0.03869586 0.03869586 0.01824847 0.00160518\n",
      "  0.03223193 0.03223193 0.02640797 0.02118154 0.02118154 0.01824847\n",
      "  0.01824847 0.         0.         0.         0.04055344 0.04055344\n",
      "  0.03108156 0.03924489 0.03924489 0.         0.         0.04055344\n",
      "  0.04055344 0.         0.         0.05688149 0.19361284 0.19361284\n",
      "  0.1601052  0.         0.         0.         0.10103047 0.10944214\n",
      "  0.1601052  0.1601052  0.         0.         0.         0.10103047\n",
      "  0.13057968 0.13057968 0.11699978 0.         0.         0.\n",
      "  0.03721353 0.13057968 0.13057968 0.12301046 0.01303916 0.\n",
      "  0.         0.01073179 0.05882728 0.12301046 0.12301046 0.01303916\n",
      "  0.         0.         0.01073179 0.04961249 0.11653733 0.11653733\n",
      "  0.         0.         0.         0.         0.0323588  0.13731748\n",
      "  0.13731748 0.         0.         0.         0.         0.\n",
      "  0.         0.         0.         0.         0.         0.\n",
      "  0.         0.         0.         0.         0.         0.\n",
      "  0.         0.         0.         0.         0.         0.\n",
      "  0.         0.         0.         0.         0.         0.\n",
      "  0.         0.         0.         0.         0.         0.\n",
      "  0.         0.         0.01469481 0.01469481 0.         0.\n",
      "  0.         0.         0.         0.01469481 0.01469481 0.00848792\n",
      "  0.         0.         0.        ]]\n",
      "[0.01824847 0.         0.02037928 0.03851314 0.03851314 0.04055344\n",
      " 0.04055344 0.01824847 0.01443827 0.02037928 0.03851314 0.03851314\n",
      " 0.04055344 0.04055344 0.01824847 0.01443827 0.0069415  0.\n",
      " 0.         0.04055344 0.04055344 0.01824847 0.01012255 0.03223193\n",
      " 0.03223193 0.02640797 0.03869586 0.03869586 0.01824847 0.00160518\n",
      " 0.03223193 0.03223193 0.02640797 0.02118154 0.02118154 0.01824847\n",
      " 0.01824847 0.         0.         0.         0.04055344 0.04055344\n",
      " 0.03108156 0.03924489 0.03924489 0.         0.         0.04055344\n",
      " 0.04055344 0.         0.         0.05688149 0.19361284 0.19361284\n",
      " 0.1601052  0.         0.         0.         0.10103047 0.10944214\n",
      " 0.1601052  0.1601052  0.         0.         0.         0.10103047\n",
      " 0.13057968 0.13057968 0.11699978 0.         0.         0.\n",
      " 0.03721353 0.13057968 0.13057968 0.12301046 0.01303916 0.\n",
      " 0.         0.01073179 0.05882728 0.12301046 0.12301046 0.01303916\n",
      " 0.         0.         0.01073179 0.04961249 0.11653733 0.11653733\n",
      " 0.         0.         0.         0.         0.0323588  0.13731748\n",
      " 0.13731748 0.         0.         0.         0.         0.\n",
      " 0.         0.         0.         0.         0.         0.\n",
      " 0.         0.         0.         0.         0.         0.\n",
      " 0.         0.         0.         0.         0.         0.\n",
      " 0.         0.         0.         0.         0.         0.\n",
      " 0.         0.         0.         0.         0.         0.\n",
      " 0.         0.         0.01469481 0.01469481 0.         0.\n",
      " 0.         0.         0.         0.01469481 0.01469481 0.00848792\n",
      " 0.         0.         0.        ]\n"
     ]
    }
   ],
   "source": [
    "out4 = out[4].detach().numpy()\n",
    "out40 = out[4][0].detach().numpy()\n",
    "out0=model.activation(train_dataset[100][0].view(1,1,11,11))[4][0].detach().numpy()\n",
    "print (out4)\n",
    "print (out40)"
   ]
  },
  {
   "cell_type": "code",
   "execution_count": 135,
   "metadata": {},
   "outputs": [
    {
     "data": {
      "image/png": "[encoded data removed]",
      "text/plain": [
       "<Figure size 432x288 with 2 Axes>"
      ]
     },
     "metadata": {
      "needs_background": "light"
     },
     "output_type": "display_data"
    }
   ],
   "source": [
    "plt.subplot(2,1,1)\n",
    "plt.plot(out40,'b')\n",
    "plt.title('Flatted Activation Values')\n",
    "plt.xlabel('index')\n",
    "plt.ylabel('activation')\n",
    "plt.subplot(2,1,2)\n",
    "plt.plot(out0,'r')\n",
    "plt.xlabel('index')\n",
    "plt.ylabel('activation')\n",
    "plt.show()"
   ]
  },
  {
   "cell_type": "code",
   "execution_count": 14,
   "metadata": {},
   "outputs": [
    {
     "data": {
      "text/plain": [
       "cnn2(\n",
       "  (cnn1): Conv2d(1, 16, kernel_size=(5, 5), stride=(1, 1), padding=(2, 2))\n",
       "  (max1): MaxPool2d(kernel_size=2, stride=2, padding=0, dilation=1, ceil_mode=False)\n",
       "  (cnn2): Conv2d(16, 32, kernel_size=(5, 5), stride=(1, 1), padding=(2, 2))\n",
       "  (max2): MaxPool2d(kernel_size=2, stride=2, padding=0, dilation=1, ceil_mode=False)\n",
       "  (fcl): Linear(in_features=512, out_features=10, bias=True)\n",
       ")"
      ]
     },
     "execution_count": 14,
     "metadata": {},
     "output_type": "execute_result"
    }
   ],
   "source": [
    "model2 = cnn2(16,32)\n",
    "model2"
   ]
  },
  {
   "cell_type": "code",
   "execution_count": 15,
   "metadata": {},
   "outputs": [
    {
     "name": "stdout",
     "output_type": "stream",
     "text": [
      "tensor([[[[-0.1155, -0.0575,  0.0666, -0.0794,  0.1324],\n",
      "          [ 0.0962,  0.1029, -0.0231, -0.1258, -0.1214],\n",
      "          [-0.1788,  0.0259, -0.0430,  0.0960, -0.0217],\n",
      "          [ 0.1155, -0.1603, -0.1027,  0.0752,  0.1891],\n",
      "          [-0.1294, -0.0182, -0.1017,  0.1709,  0.1462]]],\n",
      "\n",
      "\n",
      "        [[[-0.0659, -0.0988,  0.1931, -0.1443, -0.1361],\n",
      "          [-0.1822, -0.1575,  0.0435, -0.0858,  0.0845],\n",
      "          [-0.0406, -0.1430, -0.1554, -0.1472,  0.1645],\n",
      "          [-0.1134, -0.1460, -0.0848,  0.0404, -0.0575],\n",
      "          [ 0.1653,  0.1827, -0.1839,  0.0969,  0.0726]]],\n",
      "\n",
      "\n",
      "        [[[ 0.0157,  0.1515,  0.0387, -0.0723, -0.1100],\n",
      "          [ 0.1811,  0.0202, -0.1700, -0.0402, -0.1833],\n",
      "          [-0.1024,  0.0764,  0.0457, -0.1358, -0.1354],\n",
      "          [-0.0484,  0.1829,  0.0020, -0.0206,  0.1013],\n",
      "          [-0.0762, -0.1743, -0.1908, -0.1908, -0.0297]]],\n",
      "\n",
      "\n",
      "        [[[-0.0565, -0.1860,  0.1900,  0.0392,  0.1761],\n",
      "          [-0.0095,  0.1013,  0.0095,  0.0232, -0.0681],\n",
      "          [ 0.0189,  0.0023,  0.0126, -0.0672,  0.1487],\n",
      "          [ 0.1299, -0.0873,  0.1604,  0.0174, -0.1118],\n",
      "          [-0.0716, -0.0422, -0.0230, -0.0946,  0.1911]]]])\n",
      "tensor([[[-0.0659, -0.0988,  0.1931, -0.1443, -0.1361],\n",
      "         [-0.1822, -0.1575,  0.0435, -0.0858,  0.0845],\n",
      "         [-0.0406, -0.1430, -0.1554, -0.1472,  0.1645],\n",
      "         [-0.1134, -0.1460, -0.0848,  0.0404, -0.0575],\n",
      "         [ 0.1653,  0.1827, -0.1839,  0.0969,  0.0726]]])\n",
      "tensor([[-0.0659, -0.0988,  0.1931, -0.1443, -0.1361],\n",
      "        [-0.1822, -0.1575,  0.0435, -0.0858,  0.0845],\n",
      "        [-0.0406, -0.1430, -0.1554, -0.1472,  0.1645],\n",
      "        [-0.1134, -0.1460, -0.0848,  0.0404, -0.0575],\n",
      "        [ 0.1653,  0.1827, -0.1839,  0.0969,  0.0726]])\n",
      "tensor([-0.0659, -0.0988,  0.1931, -0.1443, -0.1361])\n",
      "tensor(-0.0988)\n",
      "tensor(-0.0988)\n"
     ]
    },
    {
     "data": {
      "text/plain": [
       "torch.Size([16, 1, 5, 5])"
      ]
     },
     "execution_count": 15,
     "metadata": {},
     "output_type": "execute_result"
    }
   ],
   "source": [
    "x = model2.state_dict()['cnn1.weight']\n",
    "print (x[:4])\n",
    "print (x[:4][1])\n",
    "print (x[:4][1][0])\n",
    "print (x[:4][1][0][0])\n",
    "print (x[:4][1][0][0][1])\n",
    "print (x[1][0][0][1])\n",
    "x.shape"
   ]
  },
  {
   "cell_type": "code",
   "execution_count": 16,
   "metadata": {},
   "outputs": [
    {
     "data": {
      "image/png": "[encoded data removed]",
      "text/plain": [
       "<Figure size 432x288 with 16 Axes>"
      ]
     },
     "metadata": {},
     "output_type": "display_data"
    }
   ],
   "source": [
    "plot_parameters(model2.state_dict()['cnn1.weight'],4,'cnn1 weights before training',0)"
   ]
  },
  {
   "cell_type": "code",
   "execution_count": 17,
   "metadata": {},
   "outputs": [
    {
     "data": {
      "image/png": "[encoded data removed]",
      "text/plain": [
       "<Figure size 432x288 with 32 Axes>"
      ]
     },
     "metadata": {},
     "output_type": "display_data"
    }
   ],
   "source": [
    "#print (model2.state_dict()['cnn2.weight'])\n",
    "plot_parameters(model2.state_dict()['cnn2.weight'],4,'cnn1 weights before training', 1)"
   ]
  },
  {
   "cell_type": "code",
   "execution_count": 41,
   "metadata": {},
   "outputs": [],
   "source": [
    "train_loader_m = torch.utils.data.DataLoader(dataset = train_data, batch_size = 100)\n",
    "validation_loader_m = torch.utils.data.DataLoader(dataset = validation_data, batch_size =1000)\n",
    "\n",
    "lr = 0.01\n",
    "lossfunction = nn.CrossEntropyLoss()"
   ]
  },
  {
   "cell_type": "code",
   "execution_count": 43,
   "metadata": {},
   "outputs": [],
   "source": [
    "n_epoche = 10\n",
    "totalcost_n =[]\n",
    "totalaccurary_n=[]\n",
    "optimizer_m = torch.optim.Adam(model2.parameters(), lr)\n",
    "\n",
    "n_test = len(validation_loader_m)\n",
    "\n",
    "for e in range(n_epoche):\n",
    "    cost = 0\n",
    "    for x,y in train_loader_m:\n",
    "        optimizer_m.zero_grad()\n",
    "        z = model2(x)\n",
    "        loss = lossfunction(z,y)\n",
    "        loss.backward()\n",
    "        optimizer_m.step()\n",
    "        cost += loss.data\n",
    "    \n",
    "    totalcost_n.append(cost)\n",
    "\n",
    "    \n",
    "    accuracy = 0\n",
    "    for x,y in validation_loader_m:\n",
    "        z = model2(x)\n",
    "        _,yhat = torch.max(z.data,1)\n",
    "        accuracy += (yhat==y).sum().item()\n",
    "    acc = accuracy/n_test\n",
    "    \n",
    "    totalaccurary_n.append(acc)\n",
    "    \n",
    "    \n",
    "        "
   ]
  },
  {
   "cell_type": "code",
   "execution_count": 30,
   "metadata": {},
   "outputs": [
    {
     "name": "stdout",
     "output_type": "stream",
     "text": [
      "[tensor(23.5869), tensor(20.3561), tensor(25.3490), tensor(20.0659), tensor(22.8615), tensor(22.4038), tensor(19.3290), tensor(25.0822), tensor(22.7852), tensor(23.1026)]\n",
      "[983.2, 981.2, 982.7, 982.7, 981.5, 983.0, 985.3, 982.5, 985.2, 984.4]\n"
     ]
    },
    {
     "data": {
      "image/png": "[encoded data removed]",
      "text/plain": [
       "<Figure size 432x288 with 2 Axes>"
      ]
     },
     "metadata": {
      "needs_background": "light"
     },
     "output_type": "display_data"
    }
   ],
   "source": [
    "print (totalcost_n)\n",
    "print (totalaccurary_n)\n",
    "\n",
    "fig, ax1 = plt.subplots()\n",
    "color = 'tab:red'\n",
    "ax1.plot(totalcost_n, color=color)\n",
    "ax1.set_xlabel('epoch', color=color)\n",
    "ax1.set_ylabel('Cost', color=color)\n",
    "ax1.tick_params(axis='y', color=color)\n",
    "    \n",
    "ax2 = ax1.twinx()  \n",
    "color = 'tab:blue'\n",
    "ax2.set_ylabel('accuracy', color=color) \n",
    "ax2.set_xlabel('epoch', color=color)\n",
    "ax2.plot( totalaccurary_n, color=color)\n",
    "ax2.tick_params(axis='y', color=color)\n",
    "fig.tight_layout()"
   ]
  },
  {
   "cell_type": "code",
   "execution_count": 42,
   "metadata": {},
   "outputs": [
    {
     "data": {
      "text/plain": [
       "CNN3(\n",
       "  (cnn1): Conv2d(1, 16, kernel_size=(5, 5), stride=(1, 1), padding=(2, 2))\n",
       "  (cnn1_b): BatchNorm2d(16, eps=1e-05, momentum=0.1, affine=True, track_running_stats=True)\n",
       "  (maxpool1): MaxPool2d(kernel_size=2, stride=2, padding=0, dilation=1, ceil_mode=False)\n",
       "  (cnn2): Conv2d(16, 32, kernel_size=(5, 5), stride=(1, 1), padding=(2, 2))\n",
       "  (maxpool2): MaxPool2d(kernel_size=2, stride=2, padding=0, dilation=1, ceil_mode=False)\n",
       "  (cnn2_b): BatchNorm2d(32, eps=1e-05, momentum=0.1, affine=True, track_running_stats=True)\n",
       "  (fc1): Linear(in_features=512, out_features=10, bias=True)\n",
       ")"
      ]
     },
     "execution_count": 42,
     "metadata": {},
     "output_type": "execute_result"
    }
   ],
   "source": [
    "model3 = CNN3(16,32)\n",
    "\n",
    "lr = 0.01\n",
    "\n",
    "lossfunction = nn.CrossEntropyLoss() \n",
    "model3"
   ]
  },
  {
   "cell_type": "code",
   "execution_count": 39,
   "metadata": {},
   "outputs": [],
   "source": [
    "n_epoche = 10\n",
    "totalcost_3 =[]\n",
    "totalaccurary_3=[]\n",
    "optimizer_3 = torch.optim.Adam(model3.parameters(), lr)\n",
    "\n",
    "n_test = len(validation_loader_m)\n",
    "\n",
    "for e in range(n_epoche):\n",
    "    cost = 0\n",
    "    for x,y in train_loader_m:\n",
    "        optimizer_3.zero_grad()\n",
    "        z = model3(x)\n",
    "        loss = lossfunction(z,y)\n",
    "        loss.backward()\n",
    "        optimizer_3.step()\n",
    "        cost += loss.data\n",
    "    \n",
    "    totalcost_3.append(cost)\n",
    "   \n",
    "    \n",
    "    accuracy = 0\n",
    "    for x,y in validation_loader_m:\n",
    "        z = model3(x)\n",
    "        _,yhat = torch.max(z.data,1)\n",
    "        accuracy += (yhat==y).sum().item()\n",
    "    acc = accuracy/n_test\n",
    "    \n",
    "    totalaccurary_3.append(acc)\n",
    "   \n",
    "    \n",
    "        "
   ]
  },
  {
   "cell_type": "code",
   "execution_count": 44,
   "metadata": {},
   "outputs": [
    {
     "data": {
      "text/plain": [
       "<matplotlib.legend.Legend at 0x7fe778427630>"
      ]
     },
     "execution_count": 44,
     "metadata": {},
     "output_type": "execute_result"
    },
    {
     "data": {
      "image/png": "[encoded data removed]",
      "text/plain": [
       "<Figure size 432x288 with 1 Axes>"
      ]
     },
     "metadata": {
      "needs_background": "light"
     },
     "output_type": "display_data"
    }
   ],
   "source": [
    "plt.plot(totalcost_n, 'b',label='loss normal cnn ')\n",
    "plt.plot(totalcost_3,'r',label='loss batch cnn')\n",
    "plt.xlabel('iteration')\n",
    "plt.title(\"loss\")\n",
    "plt.legend()"
   ]
  },
  {
   "cell_type": "code",
   "execution_count": null,
   "metadata": {},
   "outputs": [],
   "source": []
  }
 ],
 "metadata": {
  "kernelspec": {
   "display_name": "Python 3",
   "language": "python",
   "name": "python3"
  },
  "language_info": {
   "codemirror_mode": {
    "name": "ipython",
    "version": 3
   },
   "file_extension": ".py",
   "mimetype": "text/x-python",
   "name": "python",
   "nbconvert_exporter": "python",
   "pygments_lexer": "ipython3",
   "version": "3.7.3"
  }
 },
 "nbformat": 4,
 "nbformat_minor": 4
}
