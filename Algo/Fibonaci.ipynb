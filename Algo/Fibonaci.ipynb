{
 "cells": [
  {
   "cell_type": "code",
   "execution_count": 66,
   "metadata": {},
   "outputs": [],
   "source": [
    "def get_Fib(n):\n",
    "    if n == 1:\n",
    "        x=0\n",
    "        y=0\n",
    "    else:\n",
    "        x=0\n",
    "        y=1\n",
    "    a= x+y\n",
    "    i=2\n",
    "    \n",
    "    while (i < n):\n",
    "        a=x+y\n",
    "        x=y\n",
    "        y=a\n",
    "        i=i+1        \n",
    "    return(a)"
   ]
  },
  {
   "cell_type": "code",
   "execution_count": 71,
   "metadata": {},
   "outputs": [
    {
     "data": {
      "text/plain": [
       "3"
      ]
     },
     "execution_count": 71,
     "metadata": {},
     "output_type": "execute_result"
    }
   ],
   "source": [
    "get_Fib(5)"
   ]
  },
  {
   "cell_type": "code",
   "execution_count": 57,
   "metadata": {},
   "outputs": [],
   "source": [
    "def get_fib2( n,x=0,y=1 , i=2):    \n",
    "    if i == n:\n",
    "        return(x+y)       \n",
    "    else: \n",
    "        return(get_fib2(n,y,x+y,i+1))"
   ]
  },
  {
   "cell_type": "code",
   "execution_count": 63,
   "metadata": {},
   "outputs": [
    {
     "data": {
      "text/plain": [
       "6765"
      ]
     },
     "execution_count": 63,
     "metadata": {},
     "output_type": "execute_result"
    }
   ],
   "source": [
    "get_fib2(20)"
   ]
  },
  {
   "cell_type": "code",
   "execution_count": 16,
   "metadata": {},
   "outputs": [],
   "source": [
    "def get_fact(n):\n",
    "    if n <= 1:\n",
    "        return (1)\n",
    "    else:\n",
    "        return n* get_fact(n-1)\n",
    "    "
   ]
  },
  {
   "cell_type": "code",
   "execution_count": 72,
   "metadata": {},
   "outputs": [
    {
     "data": {
      "text/plain": [
       "2432902008176640000"
      ]
     },
     "execution_count": 72,
     "metadata": {},
     "output_type": "execute_result"
    }
   ],
   "source": [
    "get_fact(20)"
   ]
  },
  {
   "cell_type": "code",
   "execution_count": 82,
   "metadata": {},
   "outputs": [],
   "source": [
    "def get_fib3(n):\n",
    "    if n<=1:\n",
    "        return 0\n",
    "    elif n== 2:\n",
    "        return 1\n",
    "    else:\n",
    "        return (get_fib3(n-1) + get_fib3(n-2))\n",
    "    pass"
   ]
  },
  {
   "cell_type": "code",
   "execution_count": 83,
   "metadata": {},
   "outputs": [
    {
     "data": {
      "text/plain": [
       "8"
      ]
     },
     "execution_count": 83,
     "metadata": {},
     "output_type": "execute_result"
    }
   ],
   "source": [
    "get_fib3(7)"
   ]
  },
  {
   "cell_type": "code",
   "execution_count": 101,
   "metadata": {},
   "outputs": [],
   "source": [
    "def get_fib4(n,memsize={1:0,2:1}):\n",
    "    print (str(n) +' == '+ str(memsize))\n",
    "    if n in memsize:\n",
    "        print ('**'+str(memsize[n]))\n",
    "        return memsize[n]\n",
    "    else:        \n",
    "        memsize[n]= get_fib4(n-1,memsize)+get_fib4(n-2,memsize)\n",
    "        print (str(n) + \" $$$ \" + str(memsize[n]))\n",
    "        return memsize[n]"
   ]
  },
  {
   "cell_type": "code",
   "execution_count": 102,
   "metadata": {},
   "outputs": [
    {
     "name": "stdout",
     "output_type": "stream",
     "text": [
      "10 == {1: 0, 2: 1}\n",
      "9 == {1: 0, 2: 1}\n",
      "8 == {1: 0, 2: 1}\n",
      "7 == {1: 0, 2: 1}\n",
      "6 == {1: 0, 2: 1}\n",
      "5 == {1: 0, 2: 1}\n",
      "4 == {1: 0, 2: 1}\n",
      "3 == {1: 0, 2: 1}\n",
      "2 == {1: 0, 2: 1}\n",
      "**1\n",
      "1 == {1: 0, 2: 1}\n",
      "**0\n",
      "3 $$$ 1\n",
      "2 == {1: 0, 2: 1, 3: 1}\n",
      "**1\n",
      "4 $$$ 2\n",
      "3 == {1: 0, 2: 1, 3: 1, 4: 2}\n",
      "**1\n",
      "5 $$$ 3\n",
      "4 == {1: 0, 2: 1, 3: 1, 4: 2, 5: 3}\n",
      "**2\n",
      "6 $$$ 5\n",
      "5 == {1: 0, 2: 1, 3: 1, 4: 2, 5: 3, 6: 5}\n",
      "**3\n",
      "7 $$$ 8\n",
      "6 == {1: 0, 2: 1, 3: 1, 4: 2, 5: 3, 6: 5, 7: 8}\n",
      "**5\n",
      "8 $$$ 13\n",
      "7 == {1: 0, 2: 1, 3: 1, 4: 2, 5: 3, 6: 5, 7: 8, 8: 13}\n",
      "**8\n",
      "9 $$$ 21\n",
      "8 == {1: 0, 2: 1, 3: 1, 4: 2, 5: 3, 6: 5, 7: 8, 8: 13, 9: 21}\n",
      "**13\n",
      "10 $$$ 34\n"
     ]
    },
    {
     "data": {
      "text/plain": [
       "34"
      ]
     },
     "execution_count": 102,
     "metadata": {},
     "output_type": "execute_result"
    }
   ],
   "source": [
    "get_fib4(10)"
   ]
  },
  {
   "cell_type": "code",
   "execution_count": null,
   "metadata": {},
   "outputs": [],
   "source": []
  }
 ],
 "metadata": {
  "kernelspec": {
   "display_name": "Python 3",
   "language": "python",
   "name": "python3"
  },
  "language_info": {
   "codemirror_mode": {
    "name": "ipython",
    "version": 3
   },
   "file_extension": ".py",
   "mimetype": "text/x-python",
   "name": "python",
   "nbconvert_exporter": "python",
   "pygments_lexer": "ipython3",
   "version": "3.7.3"
  }
 },
 "nbformat": 4,
 "nbformat_minor": 2
}
