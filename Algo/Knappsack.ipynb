{
 "cells": [
  {
   "cell_type": "code",
   "execution_count": 39,
   "metadata": {},
   "outputs": [
    {
     "data": {
      "text/plain": [
       "[[0, 0, 0, 0, 0, 0, 0, 0, 0],\n",
       " [0, 0, 0, 0, 0, 0, 0, 0, 0],\n",
       " [0, 0, 0, 0, 0, 0, 0, 0, 0],\n",
       " [0, 0, 0, 0, 0, 0, 0, 0, 0],\n",
       " [0, 0, 0, 0, 0, 0, 0, 0, 0],\n",
       " [0, 0, 0, 0, 0, 0, 0, 0, 0]]"
      ]
     },
     "execution_count": 39,
     "metadata": {},
     "output_type": "execute_result"
    }
   ],
   "source": [
    "W = [1,2,3,4,5]\n",
    "V = [1,3,4,6,2]\n",
    "bag = 8\n",
    "\n",
    "W.insert(0,0)\n",
    "V.insert(0,0)\n",
    "T = [[0 for x in range(bag+1)] for y in range(len(W))]\n",
    "T\n",
    "\n"
   ]
  },
  {
   "cell_type": "code",
   "execution_count": 27,
   "metadata": {},
   "outputs": [
    {
     "name": "stdout",
     "output_type": "stream",
     "text": [
      "[0, 1, 2, 3, 4, 5]\n",
      "[0, 3, 1, 2, 6, 4]\n"
     ]
    }
   ],
   "source": [
    "\n",
    "\n",
    "print (W)\n",
    "print (V)"
   ]
  },
  {
   "cell_type": "markdown",
   "metadata": {},
   "source": [
    "Formula :\n",
    "\n",
    "T[x][y] = max{W[x] + T[x-1][y-W[x]],T[x-1][y]}"
   ]
  },
  {
   "cell_type": "code",
   "execution_count": 41,
   "metadata": {},
   "outputs": [
    {
     "name": "stdout",
     "output_type": "stream",
     "text": [
      "0  -  0\n",
      "1  -  1\n",
      "0 - max of (1 + 0) , 0\n",
      "1 - max of (1 + 0) , 0\n",
      "2 - max of (1 + 0) , 0\n",
      "3 - max of (1 + 0) , 0\n",
      "4 - max of (1 + 0) , 0\n",
      "5 - max of (1 + 0) , 0\n",
      "6 - max of (1 + 0) , 0\n",
      "7 - max of (1 + 0) , 0\n",
      "2  -  3\n",
      "0 - max of (3 + 0) , 1\n",
      "0 - max of (3 + 0) , 1\n",
      "1 - max of (3 + 1) , 1\n",
      "2 - max of (3 + 1) , 1\n",
      "3 - max of (3 + 1) , 1\n",
      "4 - max of (3 + 1) , 1\n",
      "5 - max of (3 + 1) , 1\n",
      "6 - max of (3 + 1) , 1\n",
      "3  -  4\n",
      "0 - max of (4 + 0) , 3\n",
      "0 - max of (4 + 0) , 3\n",
      "0 - max of (4 + 0) , 4\n",
      "1 - max of (4 + 3) , 4\n",
      "2 - max of (4 + 3) , 4\n",
      "3 - max of (4 + 4) , 4\n",
      "4 - max of (4 + 4) , 4\n",
      "5 - max of (4 + 4) , 4\n",
      "4  -  6\n",
      "0 - max of (6 + 0) , 4\n",
      "0 - max of (6 + 0) , 4\n",
      "0 - max of (6 + 0) , 4\n",
      "0 - max of (6 + 0) , 7\n",
      "1 - max of (6 + 4) , 7\n",
      "2 - max of (6 + 4) , 8\n",
      "3 - max of (6 + 4) , 8\n",
      "4 - max of (6 + 7) , 8\n",
      "5  -  2\n",
      "0 - max of (2 + 0) , 6\n",
      "0 - max of (2 + 0) , 6\n",
      "0 - max of (2 + 0) , 6\n",
      "0 - max of (2 + 0) , 7\n",
      "0 - max of (2 + 0) , 10\n",
      "1 - max of (2 + 6) , 10\n",
      "2 - max of (2 + 6) , 10\n",
      "3 - max of (2 + 6) , 13\n",
      "[0, 1, 2, 3, 4, 5]\n",
      "[0, 1, 3, 4, 6, 2]\n"
     ]
    },
    {
     "data": {
      "text/plain": [
       "[[0, 0, 0, 0, 0, 0, 0, 0, 0],\n",
       " [0, 1, 1, 1, 1, 1, 1, 1, 1],\n",
       " [0, 3, 3, 4, 4, 4, 4, 4, 4],\n",
       " [0, 4, 4, 4, 7, 7, 8, 8, 8],\n",
       " [0, 6, 6, 6, 7, 10, 10, 10, 13],\n",
       " [0, 6, 6, 6, 7, 10, 10, 10, 13]]"
      ]
     },
     "execution_count": 41,
     "metadata": {},
     "output_type": "execute_result"
    }
   ],
   "source": [
    "for row in range(len(W)):\n",
    "    print (str(W[row]) + '  -  '+str(V[row]))\n",
    "    for col in range(bag+1):\n",
    "        #print (str(i) +' - '+str(j))\n",
    "        #T[i][j] = i * j\n",
    "        if row ==0 or col ==0:\n",
    "            T[row][col] = 0 \n",
    "        else:\n",
    "            jj = col - W[row]\n",
    "            if jj < 0:\n",
    "                jj = 0\n",
    "            print (str(jj) + ' - max of (' +str(V[row]) +' + '+str(T[row - 1][jj])+ ') , '+str(T[row-1][col]))\n",
    "            newVal = V[row]+T[row - 1][jj]\n",
    "            oldVal = T[row-1][col]          \n",
    "                \n",
    "            T[row][col] = max(V[row]+T[row - 1][jj], T[row-1][col])\n",
    "\n",
    "print (W)\n",
    "print (V)\n",
    "T\n",
    "            \n",
    "            "
   ]
  },
  {
   "cell_type": "code",
   "execution_count": null,
   "metadata": {},
   "outputs": [],
   "source": [
    "W = [1,2,3,4,5]\n",
    "V = [3,1,2,6,4]\n",
    "bag = 8"
   ]
  }
 ],
 "metadata": {
  "kernelspec": {
   "display_name": "Python 3",
   "language": "python",
   "name": "python3"
  },
  "language_info": {
   "codemirror_mode": {
    "name": "ipython",
    "version": 3
   },
   "file_extension": ".py",
   "mimetype": "text/x-python",
   "name": "python",
   "nbconvert_exporter": "python",
   "pygments_lexer": "ipython3",
   "version": "3.7.3"
  }
 },
 "nbformat": 4,
 "nbformat_minor": 2
}
