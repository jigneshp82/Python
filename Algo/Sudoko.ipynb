{
 "cells": [
  {
   "cell_type": "code",
   "execution_count": 43,
   "metadata": {},
   "outputs": [],
   "source": [
    "import numpy as np"
   ]
  },
  {
   "cell_type": "code",
   "execution_count": 44,
   "metadata": {},
   "outputs": [
    {
     "data": {
      "text/plain": [
       "array([[0, 0, 1, 7, 0, 0, 2, 3, 5],\n",
       "       [0, 9, 0, 3, 0, 0, 6, 0, 8],\n",
       "       [0, 0, 0, 0, 0, 4, 1, 0, 0],\n",
       "       [0, 7, 9, 0, 0, 9, 0, 0, 3],\n",
       "       [5, 3, 9, 0, 0, 0, 8, 1, 6],\n",
       "       [8, 0, 0, 5, 0, 0, 0, 9, 0],\n",
       "       [0, 0, 3, 1, 0, 0, 0, 0, 0],\n",
       "       [6, 0, 4, 0, 0, 7, 0, 2, 0],\n",
       "       [9, 1, 7, 0, 0, 6, 5, 0, 0]])"
      ]
     },
     "execution_count": 44,
     "metadata": {},
     "output_type": "execute_result"
    }
   ],
   "source": [
    "\n",
    "s = np.array([\n",
    "    [0,0,1,7,0,0,2,3,5],\n",
    "    [0,9,0,3,0,0,6,0,8],\n",
    "    [0,0,0,0,0,4,1,0,0],\n",
    "    [0,7,9,0,0,9,0,0,3],\n",
    "    [5,3,9,0,0,0,8,1,6],\n",
    "    [8,0,0,5,0,0,0,9,0],\n",
    "    [0,0,3,1,0,0,0,0,0],\n",
    "    [6,0,4,0,0,7,0,2,0],\n",
    "    [9,1,7,0,0,6,5,0,0]])\n",
    "s\n"
   ]
  },
  {
   "cell_type": "code",
   "execution_count": 51,
   "metadata": {},
   "outputs": [],
   "source": [
    "def isvaluecorrect(s,v,i,j):\n",
    "    if s[i][j] != 0:\n",
    "        return False\n",
    "    for n in range(len(s)):\n",
    "        if s[i][n]== v or s[n][j]==v:\n",
    "            return False\n",
    "    a = int(np.sqrt(len(s)))\n",
    "    x = int(i//a)*a\n",
    "    y = int(j//a)*a\n",
    "    for n in range(x,x+a):       \n",
    "        for m in range(y,y+a):        \n",
    "            if s[n][m] == v:\n",
    "                return False\n",
    "    return True"
   ]
  },
  {
   "cell_type": "code",
   "execution_count": 50,
   "metadata": {},
   "outputs": [
    {
     "data": {
      "text/plain": [
       "True"
      ]
     },
     "execution_count": 50,
     "metadata": {},
     "output_type": "execute_result"
    }
   ],
   "source": [
    "isvaluecorrect(s,2,4,3)"
   ]
  },
  {
   "cell_type": "code",
   "execution_count": null,
   "metadata": {},
   "outputs": [],
   "source": [
    "def isvalid(s):\n",
    "    n = len(s)\n",
    "    for i in range \n",
    "    "
   ]
  },
  {
   "cell_type": "code",
   "execution_count": 62,
   "metadata": {},
   "outputs": [],
   "source": [
    "def isvaluecorrect1(board,v,i,j):\n",
    "    if board[i][j] != '.':\n",
    "        return False\n",
    "    for n in range(len(board)):\n",
    "        if board[i][n]== v or board[n][j]==v:\n",
    "            return False\n",
    "\n",
    "    x = int(i//3)*3\n",
    "    y= int(j//3)*3\n",
    "    for n in range(x,x+3):       \n",
    "        for m in range(y,y+3):        \n",
    "            if board[n][m] == v:\n",
    "                return False\n",
    "    return True\n",
    "        \n",
    "def solve (board): \n",
    "    for i in range(len(board)):\n",
    "        for j in range(len(board)):\n",
    "            if board[i][j] ==0:\n",
    "                for n in range(1,len(board)+1):                    \n",
    "                    if  isvaluecorrect1(board,n,i,j) :\n",
    "                        board[i][j] = n\n",
    "                        solve(board)\n",
    "                        board[i][j] = 0\n",
    "                return False\n",
    "    print (board)\n",
    "    return(True)\n",
    "                              "
   ]
  },
  {
   "cell_type": "code",
   "execution_count": 48,
   "metadata": {},
   "outputs": [],
   "source": [
    "def check_solution(s):\n",
    "    for i in range(len(s)):\n",
    "        for j in range(len(s)):\n",
    "            if isvaluecorrect(s,s[i][j],i,j)==0:\n",
    "                print ('incorrect solution')                \n",
    "                return\n",
    "    print ('Correct Solution')"
   ]
  },
  {
   "cell_type": "code",
   "execution_count": 63,
   "metadata": {},
   "outputs": [
    {
     "name": "stdout",
     "output_type": "stream",
     "text": [
      "Puzzle:\n",
      "[[0 0 1 7 0 0 2 3 5]\n",
      " [0 9 0 3 0 0 6 0 8]\n",
      " [0 0 0 0 0 4 1 0 0]\n",
      " [0 7 9 0 0 9 0 0 3]\n",
      " [5 3 9 0 0 0 8 1 6]\n",
      " [8 0 0 5 0 0 0 9 0]\n",
      " [0 0 3 1 0 0 0 0 0]\n",
      " [6 0 4 0 0 7 0 2 0]\n",
      " [9 1 7 0 0 6 5 0 0]]\n",
      "solution:\n",
      "[[0 0 1 7 0 0 2 3 5]\n",
      " [0 9 0 3 0 0 6 0 8]\n",
      " [0 0 0 0 0 4 1 0 0]\n",
      " [0 7 9 0 0 9 0 0 3]\n",
      " [5 3 9 0 0 0 8 1 6]\n",
      " [8 0 0 5 0 0 0 9 0]\n",
      " [0 0 3 1 0 0 0 0 0]\n",
      " [6 0 4 0 0 7 0 2 0]\n",
      " [9 1 7 0 0 6 5 0 0]]\n"
     ]
    }
   ],
   "source": [
    "print ('Puzzle:')\n",
    "print (s)\n",
    "print ('solution:')\n",
    "solve(s)\n",
    "print(s)\n",
    "\n"
   ]
  },
  {
   "cell_type": "code",
   "execution_count": 8,
   "metadata": {},
   "outputs": [],
   "source": [
    "def move(s,e,n=0):\n",
    "    print ('move disk {} from position {} to position {} !'.format(n,s,e))"
   ]
  },
  {
   "cell_type": "code",
   "execution_count": 9,
   "metadata": {},
   "outputs": [
    {
     "name": "stdout",
     "output_type": "stream",
     "text": [
      "move disk 0 from position A to position B !\n"
     ]
    }
   ],
   "source": [
    "move ('A','B')"
   ]
  },
  {
   "cell_type": "code",
   "execution_count": 8,
   "metadata": {},
   "outputs": [],
   "source": [
    "def movevia(a,v,b):\n",
    "    move(a,v)\n",
    "    move(v,b)"
   ]
  },
  {
   "cell_type": "code",
   "execution_count": 15,
   "metadata": {},
   "outputs": [
    {
     "name": "stdout",
     "output_type": "stream",
     "text": [
      "move disk 0 from position A to position V !\n",
      "move disk 0 from position V to position B !\n"
     ]
    }
   ],
   "source": [
    "movevia('A','V','B')"
   ]
  },
  {
   "cell_type": "code",
   "execution_count": 17,
   "metadata": {},
   "outputs": [],
   "source": [
    "def hanoi(n,a,b,c):\n",
    "    if n ==0:\n",
    "        pass\n",
    "    else:\n",
    "        hanoi(n-1,a,c,b)\n",
    "        move(a,b,n)\n",
    "        hanoi(n-1,b,a,c)"
   ]
  },
  {
   "cell_type": "code",
   "execution_count": 18,
   "metadata": {},
   "outputs": [
    {
     "name": "stdout",
     "output_type": "stream",
     "text": [
      "move disk 1 from position A to position B !\n",
      "move disk 2 from position A to position C !\n",
      "move disk 1 from position C to position A !\n",
      "move disk 3 from position A to position B !\n",
      "move disk 1 from position B to position C !\n",
      "move disk 2 from position B to position A !\n",
      "move disk 1 from position A to position B !\n",
      "move disk 4 from position A to position C !\n",
      "move disk 1 from position C to position A !\n",
      "move disk 2 from position C to position B !\n",
      "move disk 1 from position B to position C !\n",
      "move disk 3 from position C to position A !\n",
      "move disk 1 from position A to position B !\n",
      "move disk 2 from position A to position C !\n",
      "move disk 1 from position C to position A !\n",
      "move disk 5 from position A to position B !\n",
      "move disk 1 from position B to position C !\n",
      "move disk 2 from position B to position A !\n",
      "move disk 1 from position A to position B !\n",
      "move disk 3 from position B to position C !\n",
      "move disk 1 from position C to position A !\n",
      "move disk 2 from position C to position B !\n",
      "move disk 1 from position B to position C !\n",
      "move disk 4 from position B to position A !\n",
      "move disk 1 from position A to position B !\n",
      "move disk 2 from position A to position C !\n",
      "move disk 1 from position C to position A !\n",
      "move disk 3 from position A to position B !\n",
      "move disk 1 from position B to position C !\n",
      "move disk 2 from position B to position A !\n",
      "move disk 1 from position A to position B !\n"
     ]
    }
   ],
   "source": [
    "hanoi(5,'A','B','C')"
   ]
  },
  {
   "cell_type": "code",
   "execution_count": null,
   "metadata": {},
   "outputs": [],
   "source": []
  }
 ],
 "metadata": {
  "kernelspec": {
   "display_name": "Python 3",
   "language": "python",
   "name": "python3"
  },
  "language_info": {
   "codemirror_mode": {
    "name": "ipython",
    "version": 3
   },
   "file_extension": ".py",
   "mimetype": "text/x-python",
   "name": "python",
   "nbconvert_exporter": "python",
   "pygments_lexer": "ipython3",
   "version": "3.8.8"
  }
 },
 "nbformat": 4,
 "nbformat_minor": 2
}
