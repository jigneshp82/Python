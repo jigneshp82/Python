{
 "cells": [
  {
   "cell_type": "code",
   "execution_count": 4,
   "id": "e9c58bd2-298f-4512-8ec7-f94d145578be",
   "metadata": {},
   "outputs": [],
   "source": [
    "romans = {'I': 1,\n",
    "         'V':5,\n",
    "         'X':10,\n",
    "         'L':50,\n",
    "         'C':100,\n",
    "         'D':500,\n",
    "         'M':1000}\n",
    "roman1 = 'LVI'\n",
    "roman2 = 'MLIV'\n"
   ]
  },
  {
   "cell_type": "code",
   "execution_count": 41,
   "id": "136096cf-6e4a-434b-a2c1-9b20450d340e",
   "metadata": {},
   "outputs": [
    {
     "name": "stdout",
     "output_type": "stream",
     "text": [
      "1400\n"
     ]
    }
   ],
   "source": [
    "roman = 'CMD'\n",
    "v = 0 \n",
    "prev = 0 \n",
    "curr = 0 \n",
    "for n in range(len(roman)-1,-1,-1):\n",
    "    curr = romans[roman[n]]\n",
    "    if curr < prev:\n",
    "        curr = -curr\n",
    "    v  += curr\n",
    "    prev = curr\n",
    "print(v)\n",
    "\n",
    "        \n",
    "    \n",
    "\n",
    "\n",
    "\n",
    "        \n",
    "        \n",
    "    "
   ]
  },
  {
   "cell_type": "code",
   "execution_count": null,
   "id": "722864cb-7dca-4b90-a1f7-77308f89ccf8",
   "metadata": {},
   "outputs": [],
   "source": []
  }
 ],
 "metadata": {
  "kernelspec": {
   "display_name": "Python 3",
   "language": "python",
   "name": "python3"
  },
  "language_info": {
   "codemirror_mode": {
    "name": "ipython",
    "version": 3
   },
   "file_extension": ".py",
   "mimetype": "text/x-python",
   "name": "python",
   "nbconvert_exporter": "python",
   "pygments_lexer": "ipython3",
   "version": "3.8.8"
  }
 },
 "nbformat": 4,
 "nbformat_minor": 5
}
