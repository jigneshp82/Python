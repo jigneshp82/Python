{
 "cells": [
  {
   "cell_type": "code",
   "execution_count": null,
   "metadata": {},
   "outputs": [],
   "source": []
  },
  {
   "cell_type": "code",
   "execution_count": 3,
   "metadata": {},
   "outputs": [],
   "source": [
    "def MaxStockProfit(Price, k):\n",
    "    if not(len(Price)):\n",
    "        return 0\n",
    "    \n",
    "    maxProfit = [[0 for x in range(len(Price))] for y in range(k+1)]\n",
    "    for t in range(1,k+1):\n",
    "        maxProfitTillNow = float('-inf')    \n",
    "        for d in range(1,len(Price)):\n",
    "            maxProfitTillNow = max(maxProfitTillNow, maxProfit[t-1][d-1] - price[d-1])\n",
    "            maxProfit[t][d] = max(maxProfit[t][d-1], maxProfitTillNow + price[d])\n",
    "           \n",
    "    return (maxProfit[-1][-1])\n",
    "     "
   ]
  },
  {
   "cell_type": "code",
   "execution_count": 64,
   "metadata": {},
   "outputs": [
    {
     "name": "stdout",
     "output_type": "stream",
     "text": [
      "357\n"
     ]
    }
   ],
   "source": [
    "price=[5,11,3,10,20,40,50,30,60,90,80,75,95,105,120,110,140,160,200,180,140,240,190,80,30,100,150]\n",
    "k = 2\n",
    "print(MaxStockProfit(price,k))"
   ]
  },
  {
   "cell_type": "code",
   "execution_count": 8,
   "metadata": {},
   "outputs": [],
   "source": [
    "def MaxStockProfit2(Price, k):\n",
    "    if not(len(Price)):\n",
    "        return 0    ,\n",
    "    currentrow = [0 for x in range(len(Price))]\n",
    "    previousrow = [0 for x in range(len(Price))]\n",
    "    #temprow = [0 for x in range(len(Price))]\n",
    "    \n",
    "    for t in range(1,k+1):\n",
    "        maxProfitTillNow = float('-inf')    \n",
    "        for d in range(1,len(Price)):        \n",
    "            \n",
    "            maxProfitTillNow = max(maxProfitTillNow, previousrow[d-1] - price[d-1])\n",
    "            currentrow[d] = max(currentrow[d-1], maxProfitTillNow + price[d])\n",
    "        previousrow = currentrow\n",
    "        #currentrow = temprow\n",
    "           \n",
    "    \n",
    "    return (currentrow[-1])\n",
    "     "
   ]
  },
  {
   "cell_type": "code",
   "execution_count": 10,
   "metadata": {},
   "outputs": [
    {
     "name": "stdout",
     "output_type": "stream",
     "text": [
      "117\n",
      "123\n"
     ]
    }
   ],
   "source": [
    "price=[5,11,3,50,20,50,90]\n",
    "k = 2\n",
    "print(MaxStockProfit(price,k))\n",
    "print(MaxStockProfit2(price,k))"
   ]
  },
  {
   "cell_type": "code",
   "execution_count": null,
   "metadata": {},
   "outputs": [],
   "source": []
  }
 ],
 "metadata": {
  "kernelspec": {
   "display_name": "Python 3",
   "language": "python",
   "name": "python3"
  },
  "language_info": {
   "codemirror_mode": {
    "name": "ipython",
    "version": 3
   },
   "file_extension": ".py",
   "mimetype": "text/x-python",
   "name": "python",
   "nbconvert_exporter": "python",
   "pygments_lexer": "ipython3",
   "version": "3.7.3"
  }
 },
 "nbformat": 4,
 "nbformat_minor": 2
}
