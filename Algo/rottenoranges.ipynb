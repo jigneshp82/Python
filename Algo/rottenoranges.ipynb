{
 "cells": [
  {
   "cell_type": "code",
   "execution_count": 101,
   "id": "803b49e0-88d9-4994-b541-ef02f8407132",
   "metadata": {},
   "outputs": [],
   "source": [
    "class Solution:\n",
    "    \n",
    "    def printgrid(self,grid):\n",
    "        for r in range(len(grid)):\n",
    "            print (grid[r])\n",
    "            print ('----------------')\n",
    "        print ('-*-*-*-*-*-*-*-*-*-*-*-*-*-*-*-*-*-*')\n",
    "                \n",
    "                \n",
    "    def orangesRotting(self, grid: list) -> int:\n",
    "        row = len(grid)\n",
    "        col = len(grid[0])\n",
    "        turn = True\n",
    "        fresh = 0\n",
    "        minute = 0\n",
    "        for r in grid:\n",
    "            for o in r:\n",
    "                if o == 1:\n",
    "                    fresh += 1\n",
    "        \n",
    "        while turn:\n",
    "            turn = False\n",
    "            rotten = {}\n",
    "            for r in range(row):\n",
    "                for c in range(col):\n",
    "                    if grid[r][c] == 1:\n",
    "                        for (dx,dy) in [(0,1),(0,-1),(1,0),(-1,0)]:\n",
    "                            x,y = r+ dx, c + dy\n",
    "                            if 0<=x<row and 0<=y<col:\n",
    "                                if  (x,y) not in rotten and grid[x][y] == 2:\n",
    "                                    grid[r][c] = 2\n",
    "                                    fresh -=1\n",
    "                                    rotten[(r,c)] = 1\n",
    "                                    turn = True\n",
    "                                    break\n",
    "            minute +=1                          \n",
    "            self.printgrid(grid)    \n",
    "        print (f'fresh : {fresh}, minute : {minute}')\n",
    "        return -1 if fresh else minute -1\n",
    "    \n",
    "    def solve(self, board:list):\n",
    "        r = len(board)\n",
    "        c = len(board[0])\n",
    "        for i in range(r):\n",
    "            for j in range(c):\n",
    "                if (i ==0 or i == r-1 or j ==0 or j ==c-1) and board[i][j] == 'O':\n",
    "                    self.dfs(board,i,j)\n",
    "        self.printgrid(board)\n",
    "        for i in range(r):\n",
    "            for j in range(c):\n",
    "                if board[i][j] == 'O':\n",
    "                    board[i][j] = 'X' \n",
    "                if board[i][j] == 'E':\n",
    "                    board[i][j] = 'O' \n",
    "        self.printgrid(board)\n",
    "        \n",
    "    def dfs(self,board:list, x:int, y:int):\n",
    "        if x < 0 or y < 0 or x==len(board) or y == len(board[0]) or board[x][y] != 'O':\n",
    "            return\n",
    "        board[x][y] = 'E'\n",
    "        self.dfs(board,x+1,y)\n",
    "        self.dfs(board,x-1,y)\n",
    "        self.dfs(board,x,y+1)\n",
    "        self.dfs(board,x,y-1)\n",
    "        \n",
    "    \n",
    "    def uniquePathsIII(self, grid: list) -> int:\n",
    "        row = len(grid)\n",
    "        col = len(grid[0])\n",
    "        emptysq = 0\n",
    "        for r in range(row):\n",
    "            for c in range(col):\n",
    "                if grid[r][c] == 0:\n",
    "                    emptysq += 1\n",
    "                if grid[r][c] ==1:\n",
    "                    xs, ys = r,c\n",
    "        path = self.findpath(grid,xs,ys,emptysq,0)\n",
    "        return path\n",
    "        \n",
    "    def findpath(self, grid:list, x:int, y:int, emptysq:int,path:0 )->int:\n",
    "        #we hit obstacle or index out of bound, return do nothig\n",
    "        if grid[x][y] == -1 or x <0 or y <0 or x== len(grid) or y == len(grid[0]): \n",
    "            return \n",
    "        #we reach destination, check number of empty sq left - if < 0 then return True else False\n",
    "        if grid[x][y] == 2:\n",
    "            if emptysq == -1:\n",
    "                return path + 1\n",
    "            else:\n",
    "                return 0\n",
    "        \n",
    "            emptysq -= 1\n",
    "            grid[x][y] = -2\n",
    "            path = self.findpath(grid, x+1 , y , emptysq, path) \n",
    "            path = self.findpath(grid, x-1 , y , emptysq, path)\n",
    "            path = self.findpath(grid, x , y+1 , emptysq, path)\n",
    "            path = self.findpath(grid, x , y-1 , emptysq, path)\n",
    "            emptysq +=1\n",
    "            grid[x][y] = 0\n",
    "        \n",
    "s= Solution()\n",
    "            \n",
    "    \n",
    "        \n",
    "        \n",
    "    \n",
    "     \n",
    "    \n",
    "    \n",
    "        "
   ]
  },
  {
   "cell_type": "code",
   "execution_count": 63,
   "id": "1ab30272-d25c-428d-8ff6-827635750753",
   "metadata": {},
   "outputs": [
    {
     "name": "stdout",
     "output_type": "stream",
     "text": [
      "[2, 1, 1]\n",
      "----------------\n",
      "[1, 1, 0]\n",
      "----------------\n",
      "[0, 1, 1]\n",
      "----------------\n",
      "-*-*-*-*-*-*-*-*-*-*-*-*-*-*-*-*-*-*\n",
      "[2, 2, 1]\n",
      "----------------\n",
      "[2, 1, 0]\n",
      "----------------\n",
      "[0, 1, 1]\n",
      "----------------\n",
      "-*-*-*-*-*-*-*-*-*-*-*-*-*-*-*-*-*-*\n",
      "[2, 2, 2]\n",
      "----------------\n",
      "[2, 2, 0]\n",
      "----------------\n",
      "[0, 1, 1]\n",
      "----------------\n",
      "-*-*-*-*-*-*-*-*-*-*-*-*-*-*-*-*-*-*\n",
      "[2, 2, 2]\n",
      "----------------\n",
      "[2, 2, 0]\n",
      "----------------\n",
      "[0, 2, 1]\n",
      "----------------\n",
      "-*-*-*-*-*-*-*-*-*-*-*-*-*-*-*-*-*-*\n",
      "[2, 2, 2]\n",
      "----------------\n",
      "[2, 2, 0]\n",
      "----------------\n",
      "[0, 2, 2]\n",
      "----------------\n",
      "-*-*-*-*-*-*-*-*-*-*-*-*-*-*-*-*-*-*\n",
      "[2, 2, 2]\n",
      "----------------\n",
      "[2, 2, 0]\n",
      "----------------\n",
      "[0, 2, 2]\n",
      "----------------\n",
      "-*-*-*-*-*-*-*-*-*-*-*-*-*-*-*-*-*-*\n",
      "fresh : 0, minute : 5\n",
      "4\n"
     ]
    }
   ],
   "source": [
    "grid = [[2,1,1],[1,1,0],[0,1,1]]\n",
    "s.printgrid(grid)\n",
    "t = (s.orangesRotting(grid))\n",
    "print (t)"
   ]
  },
  {
   "cell_type": "code",
   "execution_count": 64,
   "id": "b1fd6582-ea5a-4c13-b9d4-26943f1a6342",
   "metadata": {},
   "outputs": [
    {
     "name": "stdout",
     "output_type": "stream",
     "text": [
      "[2, 1, 1]\n",
      "----------------\n",
      "[0, 1, 1]\n",
      "----------------\n",
      "[1, 0, 1]\n",
      "----------------\n",
      "-*-*-*-*-*-*-*-*-*-*-*-*-*-*-*-*-*-*\n",
      "[2, 2, 1]\n",
      "----------------\n",
      "[0, 1, 1]\n",
      "----------------\n",
      "[1, 0, 1]\n",
      "----------------\n",
      "-*-*-*-*-*-*-*-*-*-*-*-*-*-*-*-*-*-*\n",
      "[2, 2, 2]\n",
      "----------------\n",
      "[0, 2, 1]\n",
      "----------------\n",
      "[1, 0, 1]\n",
      "----------------\n",
      "-*-*-*-*-*-*-*-*-*-*-*-*-*-*-*-*-*-*\n",
      "[2, 2, 2]\n",
      "----------------\n",
      "[0, 2, 2]\n",
      "----------------\n",
      "[1, 0, 1]\n",
      "----------------\n",
      "-*-*-*-*-*-*-*-*-*-*-*-*-*-*-*-*-*-*\n",
      "[2, 2, 2]\n",
      "----------------\n",
      "[0, 2, 2]\n",
      "----------------\n",
      "[1, 0, 2]\n",
      "----------------\n",
      "-*-*-*-*-*-*-*-*-*-*-*-*-*-*-*-*-*-*\n",
      "[2, 2, 2]\n",
      "----------------\n",
      "[0, 2, 2]\n",
      "----------------\n",
      "[1, 0, 2]\n",
      "----------------\n",
      "-*-*-*-*-*-*-*-*-*-*-*-*-*-*-*-*-*-*\n",
      "fresh : 1, minute : 5\n",
      "[2, 2, 2]\n",
      "----------------\n",
      "[0, 2, 2]\n",
      "----------------\n",
      "[1, 0, 2]\n",
      "----------------\n",
      "-*-*-*-*-*-*-*-*-*-*-*-*-*-*-*-*-*-*\n",
      "-1\n"
     ]
    }
   ],
   "source": [
    "grid = [[2,1,1],[0,1,1],[1,0,1]]\n",
    "s = Solution()\n",
    "s.printgrid(grid)\n",
    "t = s.orangesRotting(grid)\n",
    "s.printgrid(grid)\n",
    "print (t)"
   ]
  },
  {
   "cell_type": "code",
   "execution_count": 82,
   "id": "96cdb51f-c050-48e2-8c49-580481d464aa",
   "metadata": {},
   "outputs": [
    {
     "name": "stdout",
     "output_type": "stream",
     "text": [
      "['X', 'X', 'X', 'X']\n",
      "----------------\n",
      "['X', 'O', 'O', 'X']\n",
      "----------------\n",
      "['X', 'X', 'O', 'X']\n",
      "----------------\n",
      "['X', 'E', 'X', 'X']\n",
      "----------------\n",
      "-*-*-*-*-*-*-*-*-*-*-*-*-*-*-*-*-*-*\n",
      "['X', 'X', 'X', 'X']\n",
      "----------------\n",
      "['X', 'X', 'X', 'X']\n",
      "----------------\n",
      "['X', 'X', 'X', 'X']\n",
      "----------------\n",
      "['X', 'O', 'X', 'X']\n",
      "----------------\n",
      "-*-*-*-*-*-*-*-*-*-*-*-*-*-*-*-*-*-*\n"
     ]
    }
   ],
   "source": [
    "board = [[\"X\",\"X\",\"X\",\"X\"],[\"X\",\"O\",\"O\",\"X\"],[\"X\",\"X\",\"O\",\"X\"],[\"X\",\"O\",\"X\",\"X\"]]\n",
    "s.solve(board)"
   ]
  },
  {
   "cell_type": "code",
   "execution_count": 22,
   "id": "c2596ce6-3932-498f-a477-84017041ef4d",
   "metadata": {},
   "outputs": [],
   "source": [
    "l = [[1,2,3],[2,3,4],[4,5,6]]\n"
   ]
  },
  {
   "cell_type": "code",
   "execution_count": 28,
   "id": "8af993d0-2e1b-423d-a245-e0891722557d",
   "metadata": {},
   "outputs": [
    {
     "name": "stdout",
     "output_type": "stream",
     "text": [
      "0\n"
     ]
    }
   ],
   "source": [
    "if 3 in l[0]:\n",
    "    print (0)"
   ]
  },
  {
   "cell_type": "code",
   "execution_count": 48,
   "id": "e5d7dbce-a69c-4743-91fb-05c534b21a1b",
   "metadata": {},
   "outputs": [
    {
     "name": "stdout",
     "output_type": "stream",
     "text": [
      "l: 1, m : 2\n",
      "l: 3, m : 4\n",
      "l: 5, m : 6\n"
     ]
    }
   ],
   "source": [
    "for (l,m) in [(1,2),(3,4),(5,6)]:\n",
    "    print (f'l: {l}, m : {m}')"
   ]
  },
  {
   "cell_type": "code",
   "execution_count": 102,
   "id": "df7aefe3-9379-4f2a-94b6-e5956df385b2",
   "metadata": {},
   "outputs": [
    {
     "name": "stdout",
     "output_type": "stream",
     "text": [
      "None\n"
     ]
    }
   ],
   "source": [
    "grid = [[1,0,0,0],[0,0,0,0],[0,0,2,-1]]\n",
    "print (s.uniquePathsIII(grid))"
   ]
  },
  {
   "cell_type": "code",
   "execution_count": 117,
   "id": "cdb9905c-f8a0-46ba-94c6-4a26ce3eed1c",
   "metadata": {},
   "outputs": [
    {
     "name": "stdout",
     "output_type": "stream",
     "text": [
      "n: 15, r: 1\n",
      "n: 14, r: 2\n",
      "----\n",
      "n: 12, r: 3\n",
      "----\n",
      "n: 9, r: 4\n",
      "----\n",
      "n: 5, r: 5\n",
      "----\n",
      "5\n"
     ]
    }
   ],
   "source": [
    "n = 15\n",
    "r = 1\n",
    "while n -r >= r+1:    \n",
    "    n = n - r\n",
    "    r += 1\n",
    "print (r)"
   ]
  },
  {
   "cell_type": "code",
   "execution_count": null,
   "id": "ac7490e3-6493-44cd-b144-8e80b033fe92",
   "metadata": {},
   "outputs": [],
   "source": [
    "n = 8\n"
   ]
  }
 ],
 "metadata": {
  "kernelspec": {
   "display_name": "Python 3",
   "language": "python",
   "name": "python3"
  },
  "language_info": {
   "codemirror_mode": {
    "name": "ipython",
    "version": 3
   },
   "file_extension": ".py",
   "mimetype": "text/x-python",
   "name": "python",
   "nbconvert_exporter": "python",
   "pygments_lexer": "ipython3",
   "version": "3.8.8"
  }
 },
 "nbformat": 4,
 "nbformat_minor": 5
}
