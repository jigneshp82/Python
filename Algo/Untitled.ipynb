{
 "cells": [
  {
   "cell_type": "code",
   "execution_count": 47,
   "id": "abab7f64-bcf6-4222-be9d-69dae306a44f",
   "metadata": {},
   "outputs": [],
   "source": [
    "class Solution:\n",
    "    def dailyTemperatures(self, temperatures: list) -> list:\n",
    "        stack = []\n",
    "        ans = [0 for i in range(len(temperatures))]\n",
    "        n = len(temperatures)\n",
    "        for i, t in enumerate(temperatures):\n",
    "            if stack and t > temperatures[stack[-1]]:\n",
    "                ans[stack[-1]] = i = stack[-1]\n",
    "                stack.pop()\n",
    "            \n",
    "            stack.append(i)\n",
    "    \n",
    "        \n",
    "        \n",
    "        return ans\n",
    "    \n",
    "s = Solution()\n",
    "            "
   ]
  },
  {
   "cell_type": "code",
   "execution_count": 38,
   "id": "1c671345-8255-4210-bbbb-f0f2028fe78b",
   "metadata": {},
   "outputs": [],
   "source": [
    "temperatures = [73,74,75,71,69,72,76,73]\n"
   ]
  },
  {
   "cell_type": "code",
   "execution_count": 48,
   "id": "57f11469-2fc7-4e56-91e4-944e1ca5ad33",
   "metadata": {},
   "outputs": [
    {
     "data": {
      "text/plain": [
       "[0, 0, 0, 0, 4, 0, 0, 0]"
      ]
     },
     "execution_count": 48,
     "metadata": {},
     "output_type": "execute_result"
    }
   ],
   "source": [
    "s.dailyTemperatures(temperatures)"
   ]
  },
  {
   "cell_type": "code",
   "execution_count": 31,
   "id": "dc480ed6-f6c3-410c-bddf-66fb0f1972b6",
   "metadata": {},
   "outputs": [
    {
     "name": "stdout",
     "output_type": "stream",
     "text": [
      "5\n",
      "4\n",
      "3\n",
      "2\n",
      "1\n",
      "0\n"
     ]
    }
   ],
   "source": [
    "n =6\n",
    "for i in range(n-1,-1,-1):\n",
    "    print (i)"
   ]
  },
  {
   "cell_type": "code",
   "execution_count": null,
   "id": "9d00b628-2204-4187-9af6-ac347847b87b",
   "metadata": {},
   "outputs": [],
   "source": []
  }
 ],
 "metadata": {
  "kernelspec": {
   "display_name": "Python 3",
   "language": "python",
   "name": "python3"
  },
  "language_info": {
   "codemirror_mode": {
    "name": "ipython",
    "version": 3
   },
   "file_extension": ".py",
   "mimetype": "text/x-python",
   "name": "python",
   "nbconvert_exporter": "python",
   "pygments_lexer": "ipython3",
   "version": "3.8.8"
  }
 },
 "nbformat": 4,
 "nbformat_minor": 5
}
