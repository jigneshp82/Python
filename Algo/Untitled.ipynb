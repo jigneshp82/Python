{
 "cells": [
  {
   "cell_type": "code",
   "execution_count": 47,
   "id": "abab7f64-bcf6-4222-be9d-69dae306a44f",
   "metadata": {},
   "outputs": [],
   "source": [
    "class Solution:\n",
    "    def dailyTemperatures(self, temperatures: list) -> list:\n",
    "        stack = []\n",
    "        ans = [0 for i in range(len(temperatures))]\n",
    "        n = len(temperatures)\n",
    "        for i, t in enumerate(temperatures):\n",
    "            if stack and t > temperatures[stack[-1]]:\n",
    "                ans[stack[-1]] = i = stack[-1]\n",
    "                stack.pop()\n",
    "            \n",
    "            stack.append(i)\n",
    "    \n",
    "        \n",
    "        \n",
    "        return ans\n",
    "    \n",
    "s = Solution()\n",
    "            "
   ]
  },
  {
   "cell_type": "code",
   "execution_count": 38,
   "id": "1c671345-8255-4210-bbbb-f0f2028fe78b",
   "metadata": {},
   "outputs": [],
   "source": [
    "temperatures = [73,74,75,71,69,72,76,73]\n"
   ]
  },
  {
   "cell_type": "code",
   "execution_count": 48,
   "id": "57f11469-2fc7-4e56-91e4-944e1ca5ad33",
   "metadata": {},
   "outputs": [
    {
     "data": {
      "text/plain": [
       "[0, 0, 0, 0, 4, 0, 0, 0]"
      ]
     },
     "execution_count": 48,
     "metadata": {},
     "output_type": "execute_result"
    }
   ],
   "source": [
    "s.dailyTemperatures(temperatures)"
   ]
  },
  {
   "cell_type": "code",
   "execution_count": 31,
   "id": "dc480ed6-f6c3-410c-bddf-66fb0f1972b6",
   "metadata": {},
   "outputs": [
    {
     "name": "stdout",
     "output_type": "stream",
     "text": [
      "5\n",
      "4\n",
      "3\n",
      "2\n",
      "1\n",
      "0\n"
     ]
    }
   ],
   "source": [
    "n =6\n",
    "for i in range(n-1,-1,-1):\n",
    "    print (i)"
   ]
  },
  {
   "cell_type": "code",
   "execution_count": 20,
   "id": "9d00b628-2204-4187-9af6-ac347847b87b",
   "metadata": {},
   "outputs": [],
   "source": [
    "x =15"
   ]
  },
  {
   "cell_type": "code",
   "execution_count": 22,
   "id": "51440c0f-775b-4d02-bf6a-da5fe95dc3a4",
   "metadata": {},
   "outputs": [
    {
     "name": "stdout",
     "output_type": "stream",
     "text": [
      "0b1111\n",
      "0b111\n",
      "7\n",
      "0b11\n",
      "3\n",
      "0b11110\n",
      "30\n",
      "0b111100\n",
      "60\n"
     ]
    }
   ],
   "source": [
    "print(bin(x))\n",
    "print(bin(x>>1))\n",
    "print(x>>1)\n",
    "print(bin(x>>2))\n",
    "print(x>>2)\n",
    "print(bin(x<<1))\n",
    "print(x<<1)\n",
    "print(bin(x<<2))\n",
    "print(x<<2)\n"
   ]
  },
  {
   "cell_type": "code",
   "execution_count": 9,
   "id": "f58c216f-3da9-47ac-80a0-7a403cac7a07",
   "metadata": {},
   "outputs": [
    {
     "data": {
      "text/plain": [
       "0"
      ]
     },
     "execution_count": 9,
     "metadata": {},
     "output_type": "execute_result"
    }
   ],
   "source": [
    "(x>>2)&1\n"
   ]
  },
  {
   "cell_type": "code",
   "execution_count": 3,
   "id": "e21c0be1-1b39-46c0-978e-20df9fe22f0e",
   "metadata": {},
   "outputs": [],
   "source": [
    "import heapq as h"
   ]
  },
  {
   "cell_type": "code",
   "execution_count": 11,
   "id": "269bcb7c-3b0d-4a61-a9ad-e8730eb080cb",
   "metadata": {},
   "outputs": [],
   "source": [
    "H = [4,5,8,2]\n",
    "h.heapify(H)"
   ]
  },
  {
   "cell_type": "code",
   "execution_count": 12,
   "id": "bdf8b2dc-058c-4304-a7b0-e175d045c578",
   "metadata": {},
   "outputs": [
    {
     "name": "stdout",
     "output_type": "stream",
     "text": [
      "[2, 4, 8, 5]\n"
     ]
    }
   ],
   "source": [
    "print (H)"
   ]
  },
  {
   "cell_type": "code",
   "execution_count": 17,
   "id": "53f83e42-0fce-4991-a233-74102e2cfa31",
   "metadata": {},
   "outputs": [
    {
     "data": {
      "text/plain": [
       "2"
      ]
     },
     "execution_count": 17,
     "metadata": {},
     "output_type": "execute_result"
    }
   ],
   "source": [
    "h.heappop(H)"
   ]
  },
  {
   "cell_type": "code",
   "execution_count": 29,
   "id": "4fcfc2f8-ec10-4b5c-bf54-c40035e6d1b2",
   "metadata": {},
   "outputs": [],
   "source": [
    "def insert(k:int, nums:list) -> list:\n",
    "        h.heapify(nums)\n",
    "        while len(nums) > k:\n",
    "            h.heappop(nums)\n",
    "        return nums\n",
    "\n",
    "def add(n :int)-> int:\n",
    "    h.heappush(nums,n)\n",
    "    return (h.heappop(nums))"
   ]
  },
  {
   "cell_type": "code",
   "execution_count": 30,
   "id": "bc8dd3cb-5880-47dd-a2db-bc24a6c7a9cd",
   "metadata": {},
   "outputs": [
    {
     "name": "stdout",
     "output_type": "stream",
     "text": [
      "3\n"
     ]
    }
   ],
   "source": [
    "nums = [4,5,8,2]\n",
    "k = 3\n",
    "nums = insert(k,nums)\n",
    "nums\n",
    "print (add(3))"
   ]
  },
  {
   "cell_type": "code",
   "execution_count": null,
   "id": "7333cb2b-3288-44cd-a56f-60c8f6685378",
   "metadata": {},
   "outputs": [],
   "source": []
  }
 ],
 "metadata": {
  "kernelspec": {
   "display_name": "Python 3",
   "language": "python",
   "name": "python3"
  },
  "language_info": {
   "codemirror_mode": {
    "name": "ipython",
    "version": 3
   },
   "file_extension": ".py",
   "mimetype": "text/x-python",
   "name": "python",
   "nbconvert_exporter": "python",
   "pygments_lexer": "ipython3",
   "version": "3.8.8"
  }
 },
 "nbformat": 4,
 "nbformat_minor": 5
}
