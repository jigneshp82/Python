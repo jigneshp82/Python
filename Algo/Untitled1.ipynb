{
 "cells": [
  {
   "cell_type": "code",
   "execution_count": 8,
   "id": "8c2f89c1-681d-4663-b148-2f7cf1b3554a",
   "metadata": {},
   "outputs": [],
   "source": [
    "from collections import defaultdict, Counter"
   ]
  },
  {
   "cell_type": "code",
   "execution_count": 23,
   "id": "d9a170f3-8b58-4f15-823d-3fee22068e9c",
   "metadata": {},
   "outputs": [
    {
     "ename": "SyntaxError",
     "evalue": "invalid syntax (<ipython-input-23-f4a9a6e1c621>, line 5)",
     "output_type": "error",
     "traceback": [
      "\u001b[0;36m  File \u001b[0;32m\"<ipython-input-23-f4a9a6e1c621>\"\u001b[0;36m, line \u001b[0;32m5\u001b[0m\n\u001b[0;31m    print key((dict2 - dict1))\u001b[0m\n\u001b[0m          ^\u001b[0m\n\u001b[0;31mSyntaxError\u001b[0m\u001b[0;31m:\u001b[0m invalid syntax\n"
     ]
    }
   ],
   "source": [
    "s = 'abcdbdbfdsa'\n",
    "t = 'abcdbdbdfsad'\n",
    "dict1 = Counter(s)\n",
    "dict2 = Counter(t)\n",
    "print (dict2 - dict1)\n",
    "\n",
    "for k,v in dict1.items():\n",
    "    if dict2[k] != v:\n",
    "        print(dict2[k])"
   ]
  },
  {
   "cell_type": "code",
   "execution_count": 13,
   "id": "da3f8bc2-033f-4e01-aa8a-8cfe9dfc1dec",
   "metadata": {},
   "outputs": [
    {
     "data": {
      "text/plain": [
       "defaultdict(int, {'a': 2, 'b': 3, 'c': 1, 'd': 3, 'f': 1, 's': 1})"
      ]
     },
     "execution_count": 13,
     "metadata": {},
     "output_type": "execute_result"
    }
   ],
   "source": [
    "dict1\n"
   ]
  },
  {
   "cell_type": "code",
   "execution_count": 14,
   "id": "d87c00c4-a3ec-4502-ad85-9ab144a3eac7",
   "metadata": {},
   "outputs": [
    {
     "data": {
      "text/plain": [
       "defaultdict(int, {'a': 2, 'b': 3, 'c': 1, 'd': 4, 'f': 1, 's': 1})"
      ]
     },
     "execution_count": 14,
     "metadata": {},
     "output_type": "execute_result"
    }
   ],
   "source": [
    "dict2"
   ]
  },
  {
   "cell_type": "code",
   "execution_count": 17,
   "id": "7053422f-1abb-45d1-b434-e8aad4534cc9",
   "metadata": {},
   "outputs": [
    {
     "name": "stdout",
     "output_type": "stream",
     "text": [
      "4\n"
     ]
    }
   ],
   "source": []
  },
  {
   "cell_type": "code",
   "execution_count": null,
   "id": "69d5ecac-0e25-4490-9482-e5f53b3f8ce4",
   "metadata": {},
   "outputs": [],
   "source": []
  }
 ],
 "metadata": {
  "kernelspec": {
   "display_name": "Python 3",
   "language": "python",
   "name": "python3"
  },
  "language_info": {
   "codemirror_mode": {
    "name": "ipython",
    "version": 3
   },
   "file_extension": ".py",
   "mimetype": "text/x-python",
   "name": "python",
   "nbconvert_exporter": "python",
   "pygments_lexer": "ipython3",
   "version": "3.8.8"
  }
 },
 "nbformat": 4,
 "nbformat_minor": 5
}
