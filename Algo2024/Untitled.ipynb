{
 "cells": [
  {
   "cell_type": "code",
   "execution_count": 39,
   "id": "405ce525-7931-4b1e-a230-9e7718a0ec60",
   "metadata": {},
   "outputs": [],
   "source": [
    "import logging"
   ]
  },
  {
   "cell_type": "code",
   "execution_count": 40,
   "id": "ee27600d-9b51-43de-bc6f-a3ee686c2868",
   "metadata": {},
   "outputs": [],
   "source": [
    "class TrieNode:\n",
    "    def __init__(self, v = '*'):\n",
    "        self.val = v\n",
    "        self.child = {}\n",
    "        self.end = False\n"
   ]
  },
  {
   "cell_type": "code",
   "execution_count": 48,
   "id": "7ce0c714-2b17-4c81-be4f-d10628c9cce2",
   "metadata": {},
   "outputs": [],
   "source": [
    "class Trie:\n",
    "    def __init__(self):\n",
    "        self.node = TrieNode()\n",
    "    \n",
    "    def insert(self,word):\n",
    "        head = self.node\n",
    "        for ch in word:\n",
    "            if ch not in head.child:\n",
    "                head.child[ch] = TrieNode(ch)\n",
    "                head = head.child[ch]\n",
    "        head.end = True\n",
    "        \n",
    "    def searchprefix(self, word):\n",
    "        head= self.node\n",
    "        prefix= ''\n",
    "        for ch in word:\n",
    "            if ch in head.child:\n",
    "                head = head.child[ch]\n",
    "                prefix.append(ch)\n",
    "            if head.end:\n",
    "                return prefix\n",
    "        return word\n",
    "    \n",
    "    def printtrie(self):\n",
    "        head =self.node\n",
    "        while head:\n",
    "            print(head.val)\n",
    "            head = head.child\n",
    "        \n",
    "        \n",
    "        \n",
    "            \n",
    "        "
   ]
  },
  {
   "cell_type": "code",
   "execution_count": 49,
   "id": "85ced778-9329-4977-96c5-39184baf41a4",
   "metadata": {},
   "outputs": [],
   "source": [
    "t = Trie()"
   ]
  },
  {
   "cell_type": "code",
   "execution_count": 50,
   "id": "e6641113-5016-4210-a6f7-12b930825df2",
   "metadata": {
    "tags": []
   },
   "outputs": [],
   "source": [
    "t.insert('cat')\n"
   ]
  },
  {
   "cell_type": "code",
   "execution_count": 51,
   "id": "f2693d60-c003-4b35-bcc1-9b8128a44df5",
   "metadata": {},
   "outputs": [
    {
     "name": "stdout",
     "output_type": "stream",
     "text": [
      "*\n"
     ]
    },
    {
     "ename": "AttributeError",
     "evalue": "'dict' object has no attribute 'val'",
     "output_type": "error",
     "traceback": [
      "\u001b[0;31m---------------------------------------------------------------------------\u001b[0m",
      "\u001b[0;31mAttributeError\u001b[0m                            Traceback (most recent call last)",
      "\u001b[0;32m<ipython-input-51-f42a3255f416>\u001b[0m in \u001b[0;36m<module>\u001b[0;34m\u001b[0m\n\u001b[0;32m----> 1\u001b[0;31m \u001b[0mt\u001b[0m\u001b[0;34m.\u001b[0m\u001b[0mprinttrie\u001b[0m\u001b[0;34m(\u001b[0m\u001b[0;34m)\u001b[0m\u001b[0;34m\u001b[0m\u001b[0;34m\u001b[0m\u001b[0m\n\u001b[0m",
      "\u001b[0;32m<ipython-input-48-522772631b29>\u001b[0m in \u001b[0;36mprinttrie\u001b[0;34m(self)\u001b[0m\n\u001b[1;32m     25\u001b[0m         \u001b[0mhead\u001b[0m \u001b[0;34m=\u001b[0m\u001b[0mself\u001b[0m\u001b[0;34m.\u001b[0m\u001b[0mnode\u001b[0m\u001b[0;34m\u001b[0m\u001b[0;34m\u001b[0m\u001b[0m\n\u001b[1;32m     26\u001b[0m         \u001b[0;32mwhile\u001b[0m \u001b[0mhead\u001b[0m\u001b[0;34m:\u001b[0m\u001b[0;34m\u001b[0m\u001b[0;34m\u001b[0m\u001b[0m\n\u001b[0;32m---> 27\u001b[0;31m             \u001b[0mprint\u001b[0m\u001b[0;34m(\u001b[0m\u001b[0mhead\u001b[0m\u001b[0;34m.\u001b[0m\u001b[0mval\u001b[0m\u001b[0;34m)\u001b[0m\u001b[0;34m\u001b[0m\u001b[0;34m\u001b[0m\u001b[0m\n\u001b[0m\u001b[1;32m     28\u001b[0m             \u001b[0mhead\u001b[0m \u001b[0;34m=\u001b[0m \u001b[0mhead\u001b[0m\u001b[0;34m.\u001b[0m\u001b[0mchild\u001b[0m\u001b[0;34m\u001b[0m\u001b[0;34m\u001b[0m\u001b[0m\n\u001b[1;32m     29\u001b[0m \u001b[0;34m\u001b[0m\u001b[0m\n",
      "\u001b[0;31mAttributeError\u001b[0m: 'dict' object has no attribute 'val'"
     ]
    }
   ],
   "source": [
    "t.printtrie()"
   ]
  },
  {
   "cell_type": "code",
   "execution_count": 17,
   "id": "d0c8f05e-2783-40bc-94c4-ec51e6f224f8",
   "metadata": {},
   "outputs": [
    {
     "name": "stdout",
     "output_type": "stream",
     "text": [
      "a b c\n"
     ]
    }
   ],
   "source": [
    "s = ['a','b','c']\n",
    "print (' '.join(s))"
   ]
  },
  {
   "cell_type": "code",
   "execution_count": 36,
   "id": "0ae1e684-bf6d-4898-a4f6-09ad79b4c428",
   "metadata": {},
   "outputs": [],
   "source": [
    "class trieNode:\n",
    "    def __init__(self):\n",
    "        child = {}\n",
    "        endofword = False\n",
    "\n",
    "class Trie:\n",
    "    def __init__(self):\n",
    "        node = trieNode()\n",
    "    \n",
    "    def insert(self,word):\n",
    "        head = self.node\n",
    "        for ch in word:\n",
    "            if ch not in head.child:\n",
    "                head.child[ch] = trieNode()\n",
    "            head = head.child[ch]\n",
    "        head.endofword = True\n",
    "\n",
    "    def search(self, word):\n",
    "        head = self.node\n",
    "        for ch in word:\n",
    "            if ch in head.child:\n",
    "                head = head.child[ch]\n",
    "            else:\n",
    "                return False\n",
    "        return head.endofword\n",
    "\n",
    "    def searchprefix(self, word):\n",
    "        head = self.node\n",
    "        prefix = ''\n",
    "        for ch in word:\n",
    "            if ch in head.child:\n",
    "                prefix += ch\n",
    "                head = head.child[ch]\n",
    "            else:\n",
    "                break\n",
    "            if head.endofword:\n",
    "                return prefix\n",
    "        return word\n",
    "\n",
    "\n",
    "\n",
    "            \n",
    "\n",
    "\n"
   ]
  },
  {
   "cell_type": "code",
   "execution_count": 70,
   "id": "b6963d62-1d88-4680-bda6-a6937c3959e1",
   "metadata": {},
   "outputs": [],
   "source": [
    "class Solution:\n",
    "    def replaceWords(self, dictionary: list, sentence: str) -> str:\n",
    "        trie = Trie()\n",
    "        for word in dictionary:\n",
    "            trie.insert(word)\n",
    "\n",
    "        words = sentence.split()\n",
    "        res = []\n",
    "        for word in words:\n",
    "            res.append(trie.searchprefix(word))\n",
    "        \n",
    "        return ' '.join(res)\n",
    "    \n",
    "    def checkSubarraySum(self, nums: list, k: int) -> bool:\n",
    "        prefix = {0:-1}\n",
    "        prefixsum = 0\n",
    "        for i in range(len(nums)):\n",
    "            prefixsum += nums[i]\n",
    "            mod =prefixsum % k\n",
    "            if mod not in prefix:\n",
    "                prefix[mod] = i\n",
    "            else:\n",
    "                print(f'{i - prefix[mod]}, {prefix}, i - {i} ,  mod - {mod}- {prefix[mod]}, numsi - {nums[i]}, sum - {prefixsum}')\n",
    "            \n",
    "        print (prefix)\n",
    "    \n",
    "    def relativeSortArray(self, arr1: list, arr2: list) -> list:\n",
    "        dictarr2 ={}\n",
    "        for i in len(range(arr2)):\n",
    "            dictarr2[arr2[i]] = i\n",
    "        return(sorted(arr1, key = lambda x : dictarr2.get(x,x)))"
   ]
  },
  {
   "cell_type": "code",
   "execution_count": 32,
   "id": "45a7398a-d0e9-4e3b-9a09-d8db58cdca63",
   "metadata": {},
   "outputs": [],
   "source": [
    "t = Trie()\n",
    "n = trieNode()"
   ]
  },
  {
   "cell_type": "code",
   "execution_count": 55,
   "id": "2e0755b2-b9d0-44f3-97b1-df7bb56cfee3",
   "metadata": {},
   "outputs": [],
   "source": [
    "S = Solution()"
   ]
  },
  {
   "cell_type": "code",
   "execution_count": 49,
   "id": "277b4cb2-193f-4b9a-a17d-9bdfb2d4ec8b",
   "metadata": {},
   "outputs": [],
   "source": [
    "nums = [23,2,4,6,7]\n",
    "k = 6"
   ]
  },
  {
   "cell_type": "code",
   "execution_count": 56,
   "id": "f6fcf5e4-9093-45fe-8b3c-5214df4fa54b",
   "metadata": {},
   "outputs": [
    {
     "name": "stdout",
     "output_type": "stream",
     "text": [
      "2, {0: -1, 5: 0, 1: 1}, i - 2 ,  mod - 5- 0, numsi - 4, sum - 29\n",
      "3, {0: -1, 5: 0, 1: 1}, i - 3 ,  mod - 5- 0, numsi - 6, sum - 35\n",
      "5, {0: -1, 5: 0, 1: 1}, i - 4 ,  mod - 0- -1, numsi - 7, sum - 42\n",
      "{0: -1, 5: 0, 1: 1}\n"
     ]
    }
   ],
   "source": [
    "S.checkSubarraySum(nums,k)"
   ]
  },
  {
   "cell_type": "code",
   "execution_count": null,
   "id": "29d4f448-4d07-4cbd-b2c6-8912c84128a6",
   "metadata": {},
   "outputs": [],
   "source": []
  },
  {
   "cell_type": "code",
   "execution_count": null,
   "id": "e5ca8587-8cab-44a0-99cf-733fb80b590c",
   "metadata": {},
   "outputs": [],
   "source": []
  },
  {
   "cell_type": "code",
   "execution_count": 20,
   "id": "ff644508-5a59-4873-9ab0-61821b9b8e65",
   "metadata": {},
   "outputs": [
    {
     "ename": "AttributeError",
     "evalue": "'Trie' object has no attribute 'node'",
     "output_type": "error",
     "traceback": [
      "\u001b[0;31m---------------------------------------------------------------------------\u001b[0m",
      "\u001b[0;31mAttributeError\u001b[0m                            Traceback (most recent call last)",
      "\u001b[0;32m<ipython-input-20-1a3c554005f3>\u001b[0m in \u001b[0;36m<module>\u001b[0;34m\u001b[0m\n\u001b[1;32m      2\u001b[0m \u001b[0mdictionary\u001b[0m \u001b[0;34m=\u001b[0m \u001b[0;34m[\u001b[0m\u001b[0;34m\"cat\"\u001b[0m\u001b[0;34m,\u001b[0m\u001b[0;34m\"bat\"\u001b[0m\u001b[0;34m,\u001b[0m\u001b[0;34m\"rat\"\u001b[0m\u001b[0;34m]\u001b[0m\u001b[0;34m\u001b[0m\u001b[0;34m\u001b[0m\u001b[0m\n\u001b[1;32m      3\u001b[0m \u001b[0msentence\u001b[0m \u001b[0;34m=\u001b[0m \u001b[0;34m\"the cattle was rattled by the battery\"\u001b[0m\u001b[0;34m\u001b[0m\u001b[0;34m\u001b[0m\u001b[0m\n\u001b[0;32m----> 4\u001b[0;31m \u001b[0mprint\u001b[0m\u001b[0;34m(\u001b[0m\u001b[0mS\u001b[0m\u001b[0;34m.\u001b[0m\u001b[0mreplaceWords\u001b[0m\u001b[0;34m(\u001b[0m\u001b[0mdictionary\u001b[0m\u001b[0;34m,\u001b[0m\u001b[0msentence\u001b[0m\u001b[0;34m)\u001b[0m\u001b[0;34m)\u001b[0m\u001b[0;34m\u001b[0m\u001b[0;34m\u001b[0m\u001b[0m\n\u001b[0m",
      "\u001b[0;32m<ipython-input-18-ad8f2a7d540e>\u001b[0m in \u001b[0;36mreplaceWords\u001b[0;34m(self, dictionary, sentence)\u001b[0m\n\u001b[1;32m     43\u001b[0m         \u001b[0mtrie\u001b[0m \u001b[0;34m=\u001b[0m \u001b[0mTrie\u001b[0m\u001b[0;34m(\u001b[0m\u001b[0;34m)\u001b[0m\u001b[0;34m\u001b[0m\u001b[0;34m\u001b[0m\u001b[0m\n\u001b[1;32m     44\u001b[0m         \u001b[0;32mfor\u001b[0m \u001b[0mword\u001b[0m \u001b[0;32min\u001b[0m \u001b[0mdictionary\u001b[0m\u001b[0;34m:\u001b[0m\u001b[0;34m\u001b[0m\u001b[0;34m\u001b[0m\u001b[0m\n\u001b[0;32m---> 45\u001b[0;31m             \u001b[0mtrie\u001b[0m\u001b[0;34m.\u001b[0m\u001b[0minsert\u001b[0m\u001b[0;34m(\u001b[0m\u001b[0mword\u001b[0m\u001b[0;34m)\u001b[0m\u001b[0;34m\u001b[0m\u001b[0;34m\u001b[0m\u001b[0m\n\u001b[0m\u001b[1;32m     46\u001b[0m \u001b[0;34m\u001b[0m\u001b[0m\n\u001b[1;32m     47\u001b[0m         \u001b[0mwords\u001b[0m \u001b[0;34m=\u001b[0m \u001b[0msentence\u001b[0m\u001b[0;34m.\u001b[0m\u001b[0msplit\u001b[0m\u001b[0;34m(\u001b[0m\u001b[0;34m)\u001b[0m\u001b[0;34m\u001b[0m\u001b[0;34m\u001b[0m\u001b[0m\n",
      "\u001b[0;32m<ipython-input-18-ad8f2a7d540e>\u001b[0m in \u001b[0;36minsert\u001b[0;34m(self, word)\u001b[0m\n\u001b[1;32m      9\u001b[0m \u001b[0;34m\u001b[0m\u001b[0m\n\u001b[1;32m     10\u001b[0m     \u001b[0;32mdef\u001b[0m \u001b[0minsert\u001b[0m\u001b[0;34m(\u001b[0m\u001b[0mself\u001b[0m\u001b[0;34m,\u001b[0m\u001b[0mword\u001b[0m\u001b[0;34m)\u001b[0m\u001b[0;34m:\u001b[0m\u001b[0;34m\u001b[0m\u001b[0;34m\u001b[0m\u001b[0m\n\u001b[0;32m---> 11\u001b[0;31m         \u001b[0mhead\u001b[0m \u001b[0;34m=\u001b[0m \u001b[0mself\u001b[0m\u001b[0;34m.\u001b[0m\u001b[0mnode\u001b[0m\u001b[0;34m\u001b[0m\u001b[0;34m\u001b[0m\u001b[0m\n\u001b[0m\u001b[1;32m     12\u001b[0m         \u001b[0;32mfor\u001b[0m \u001b[0mch\u001b[0m \u001b[0;32min\u001b[0m \u001b[0mword\u001b[0m\u001b[0;34m:\u001b[0m\u001b[0;34m\u001b[0m\u001b[0;34m\u001b[0m\u001b[0m\n\u001b[1;32m     13\u001b[0m             \u001b[0;32mif\u001b[0m \u001b[0mch\u001b[0m \u001b[0;32mnot\u001b[0m \u001b[0;32min\u001b[0m \u001b[0mhead\u001b[0m\u001b[0;34m.\u001b[0m\u001b[0mchild\u001b[0m\u001b[0;34m:\u001b[0m\u001b[0;34m\u001b[0m\u001b[0;34m\u001b[0m\u001b[0m\n",
      "\u001b[0;31mAttributeError\u001b[0m: 'Trie' object has no attribute 'node'"
     ]
    }
   ],
   "source": [
    "S = Solution()\n",
    "dictionary = [\"cat\",\"bat\",\"rat\"]\n",
    "sentence = \"the cattle was rattled by the battery\"\n",
    "print(S.replaceWords(dictionary,sentence))"
   ]
  },
  {
   "cell_type": "code",
   "execution_count": 59,
   "id": "e7ddca39-c0aa-4767-befb-910901e117a2",
   "metadata": {},
   "outputs": [],
   "source": [
    "d = {1:'a',2:'b',4:'d'}"
   ]
  },
  {
   "cell_type": "code",
   "execution_count": 69,
   "id": "48cc94e6-42ba-47ef-a161-b2e8ff9896cd",
   "metadata": {},
   "outputs": [
    {
     "name": "stdout",
     "output_type": "stream",
     "text": [
      "a\n",
      "b\n",
      "3\n"
     ]
    }
   ],
   "source": [
    "for i in range(1,len(d)+1):\n",
    "    print(d.get(i,i))"
   ]
  },
  {
   "cell_type": "markdown",
   "id": "5e2f6aba-000b-4cab-8128-efb004613424",
   "metadata": {},
   "source": [
    "You are given an integer array matches where matches[i] = [winneri, loseri] indicates that the player winneri defeated player loseri in a match.\n",
    "\n",
    "Return a list answer of size 2 where:\n",
    "\n",
    "answer[0] is a list of all players that have not lost any matches.\n",
    "answer[1] is a list of all players that have lost exactly one match.\n",
    "The values in the two lists should be returned in increasing order.\n",
    "\n",
    "Note:\n",
    "\n",
    "You should only consider the players that have played at least one match.\n",
    "The testcases will be generated such that no two matches will have the same outcome.\n",
    " \n",
    "\n",
    "Example 1:\n",
    "\n",
    "Input: matches = [[1,3],[2,3],[3,6],[5,6],[5,7],[4,5],[4,8],[4,9],[10,4],[10,9]]\n",
    "Output: [[1,2,10],[4,5,7,8]]\n",
    "Explanation:\n",
    "Players 1, 2, and 10 have not lost any matches.\n",
    "Players 4, 5, 7, and 8 each have lost one match.\n",
    "Players 3, 6, and 9 each have lost two matches.\n",
    "Thus, answer[0] = [1,2,10] and answer[1] = [4,5,7,8].\n",
    "Example 2:\n",
    "\n",
    "Input: matches = [[2,3],[1,3],[5,4],[6,4]]\n",
    "Output: [[1,2,5,6],[]]\n",
    "Explanation:\n",
    "Players 1, 2, 5, and 6 have not lost any matches.\n",
    "Players 3 and 4 each have lost two matches.\n",
    "Thus, answer[0] = [1,2,5,6] and answer[1] = []."
   ]
  },
  {
   "cell_type": "code",
   "execution_count": 84,
   "id": "04a0a9d9-7da7-4dfb-9812-8666cd70eb16",
   "metadata": {},
   "outputs": [],
   "source": [
    "def findWinners( matches: list) -> list:\n",
    "    losers = {}\n",
    "    for i in matches:\n",
    "        w = i[0]\n",
    "        l = i[1]\n",
    "        if w not in losers:\n",
    "            losers[w]= 0\n",
    "        if l not in losers:\n",
    "            losers[l] = 1\n",
    "        else: losers[l]+=1\n",
    "    win1 = []\n",
    "    win2 = []\n",
    "    for i,v in losers.items():\n",
    "        if v == 0 : win1.append(i)\n",
    "        if v == 1 : win2.append(i)\n",
    "    return [win1,win2]\n",
    "        "
   ]
  },
  {
   "cell_type": "code",
   "execution_count": 73,
   "id": "3d1ccc99-99dd-4d2f-b8cf-3d0fcbd253b7",
   "metadata": {},
   "outputs": [],
   "source": [
    "matches = [[1,3],[2,3],[3,6],[5,6],[5,7],[4,5],[4,8],[4,9],[10,4],[10,9]]"
   ]
  },
  {
   "cell_type": "code",
   "execution_count": 85,
   "id": "ba327d18-316c-4d01-96f8-6702e1ae6ae8",
   "metadata": {},
   "outputs": [
    {
     "data": {
      "text/plain": [
       "[[1, 2, 10], [5, 7, 4, 8]]"
      ]
     },
     "execution_count": 85,
     "metadata": {},
     "output_type": "execute_result"
    }
   ],
   "source": [
    "findWinners(matches)"
   ]
  },
  {
   "cell_type": "code",
   "execution_count": 87,
   "id": "835c544c-f5dc-4134-84f7-a841e0341709",
   "metadata": {},
   "outputs": [
    {
     "data": {
      "text/plain": [
       "[[2, 1, 5, 6], []]"
      ]
     },
     "execution_count": 87,
     "metadata": {},
     "output_type": "execute_result"
    }
   ],
   "source": [
    "findWinners( [[2,3],[1,3],[5,4],[6,4]] )"
   ]
  },
  {
   "cell_type": "code",
   "execution_count": null,
   "id": "be5b0be2-5eac-45f4-8b29-d9a6015ecf81",
   "metadata": {},
   "outputs": [],
   "source": []
  }
 ],
 "metadata": {
  "kernelspec": {
   "display_name": "Python 3",
   "language": "python",
   "name": "python3"
  },
  "language_info": {
   "codemirror_mode": {
    "name": "ipython",
    "version": 3
   },
   "file_extension": ".py",
   "mimetype": "text/x-python",
   "name": "python",
   "nbconvert_exporter": "python",
   "pygments_lexer": "ipython3",
   "version": "3.8.8"
  }
 },
 "nbformat": 4,
 "nbformat_minor": 5
}
