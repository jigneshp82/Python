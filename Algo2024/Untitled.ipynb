{
 "cells": [
  {
   "cell_type": "code",
   "execution_count": 6,
   "id": "ee27600d-9b51-43de-bc6f-a3ee686c2868",
   "metadata": {},
   "outputs": [],
   "source": [
    "hand = [1,2,4,3,6,5]\n",
    "hand = sorted(hand)\n"
   ]
  },
  {
   "cell_type": "code",
   "execution_count": 3,
   "id": "7ce0c714-2b17-4c81-be4f-d10628c9cce2",
   "metadata": {},
   "outputs": [
    {
     "name": "stdout",
     "output_type": "stream",
     "text": [
      "6\n"
     ]
    }
   ],
   "source": [
    "print (len(hand))"
   ]
  },
  {
   "cell_type": "code",
   "execution_count": 7,
   "id": "85ced778-9329-4977-96c5-39184baf41a4",
   "metadata": {},
   "outputs": [
    {
     "name": "stdout",
     "output_type": "stream",
     "text": [
      "[1, 2, 3, 4, 5, 6]\n"
     ]
    }
   ],
   "source": [
    "print(hand)"
   ]
  },
  {
   "cell_type": "code",
   "execution_count": 13,
   "id": "e6641113-5016-4210-a6f7-12b930825df2",
   "metadata": {},
   "outputs": [
    {
     "data": {
      "text/plain": [
       "False"
      ]
     },
     "execution_count": 13,
     "metadata": {},
     "output_type": "execute_result"
    }
   ],
   "source": [
    "len(hand)//4 ==len(hand)/4\n"
   ]
  },
  {
   "cell_type": "code",
   "execution_count": 16,
   "id": "f2693d60-c003-4b35-bcc1-9b8128a44df5",
   "metadata": {},
   "outputs": [
    {
     "data": {
      "text/plain": [
       "False"
      ]
     },
     "execution_count": 16,
     "metadata": {},
     "output_type": "execute_result"
    }
   ],
   "source": [
    "s ='jignesh'\n",
    "r = 'jigs'\n",
    "s.startswith(r)"
   ]
  },
  {
   "cell_type": "code",
   "execution_count": 17,
   "id": "d0c8f05e-2783-40bc-94c4-ec51e6f224f8",
   "metadata": {},
   "outputs": [
    {
     "name": "stdout",
     "output_type": "stream",
     "text": [
      "a b c\n"
     ]
    }
   ],
   "source": [
    "s = ['a','b','c']\n",
    "print (' '.join(s))"
   ]
  },
  {
   "cell_type": "code",
   "execution_count": null,
   "id": "0ae1e684-bf6d-4898-a4f6-09ad79b4c428",
   "metadata": {},
   "outputs": [],
   "source": []
  }
 ],
 "metadata": {
  "kernelspec": {
   "display_name": "Python 3",
   "language": "python",
   "name": "python3"
  },
  "language_info": {
   "codemirror_mode": {
    "name": "ipython",
    "version": 3
   },
   "file_extension": ".py",
   "mimetype": "text/x-python",
   "name": "python",
   "nbconvert_exporter": "python",
   "pygments_lexer": "ipython3",
   "version": "3.8.8"
  }
 },
 "nbformat": 4,
 "nbformat_minor": 5
}
