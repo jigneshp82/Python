{
 "cells": [
  {
   "cell_type": "markdown",
   "metadata": {},
   "source": [
    "974. Subarray Sums Divisible by K\n",
    "Attempted\n",
    "Medium\n",
    "Topics\n",
    "Companies\n",
    "Given an integer array nums and an integer k, return the number of non-empty subarrays that have a sum divisible by k.\n",
    "\n",
    "A subarray is a contiguous part of an array.\n",
    "\n",
    " \n",
    "\n",
    "Example 1:\n",
    "\n",
    "Input: nums = [4,5,0,-2,-3,1], k = 5\n",
    "Output: 7\n",
    "Explanation: There are 7 subarrays with a sum divisible by k = 5:\n",
    "[4, 5, 0, -2, -3, 1], [5], [5, 0], [5, 0, -2, -3], [0], [0, -2, -3], [-2, -3]\n",
    "Example 2:\n",
    "\n",
    "Input: nums = [5], k = 9\n",
    "Output: 0"
   ]
  },
  {
   "cell_type": "code",
   "execution_count": 8,
   "metadata": {},
   "outputs": [],
   "source": [
    "class Solution:\n",
    "    def subarraysDivByK_brutforce(self, nums: list, k: int) -> int:\n",
    "        n = len(nums)\n",
    "        ans =0\n",
    "        for i in range(n):\n",
    "            sum = 0\n",
    "            for j in range(i,n):\n",
    "                sum += nums[j]\n",
    "                if sum%k ==0:\n",
    "                    ans +=1\n",
    "        return ans\n",
    "    \n",
    "\n",
    "    def subarraysDivByK(self, nums: list, k: int) -> int:\n",
    "        \n",
    "        ans =0\n",
    "        prefixmap = {0,1}\n",
    "        sumprefix = 0\n",
    "        for n in nums:\n",
    "            sumprefix+= n\n",
    "            mod = sumprefix%k\n",
    "            if mod < 0:\n",
    "                mod+= k\n",
    "            if mod in prefixmap:\n",
    "                ans +=prefixmap[mod]\n",
    "                prefixmap[mod] += 1\n",
    "            else:\n",
    "                prefixmap[mod] = 1\n",
    "            print (n, prefixmap, sumprefix, mod)\n"
   ]
  },
  {
   "cell_type": "code",
   "execution_count": 9,
   "metadata": {},
   "outputs": [
    {
     "ename": "TypeError",
     "evalue": "'set' object does not support item assignment",
     "output_type": "error",
     "traceback": [
      "\u001b[0;31m---------------------------------------------------------------------------\u001b[0m",
      "\u001b[0;31mTypeError\u001b[0m                                 Traceback (most recent call last)",
      "Cell \u001b[0;32mIn[9], line 4\u001b[0m\n\u001b[1;32m      2\u001b[0m arr \u001b[38;5;241m=\u001b[39m [\u001b[38;5;241m4\u001b[39m,\u001b[38;5;241m5\u001b[39m,\u001b[38;5;241m0\u001b[39m,\u001b[38;5;241m-\u001b[39m\u001b[38;5;241m2\u001b[39m,\u001b[38;5;241m-\u001b[39m\u001b[38;5;241m3\u001b[39m,\u001b[38;5;241m1\u001b[39m]\n\u001b[1;32m      3\u001b[0m k \u001b[38;5;241m=\u001b[39m \u001b[38;5;241m5\u001b[39m\n\u001b[0;32m----> 4\u001b[0m \u001b[43mS\u001b[49m\u001b[38;5;241;43m.\u001b[39;49m\u001b[43msubarraysDivByK\u001b[49m\u001b[43m(\u001b[49m\u001b[43marr\u001b[49m\u001b[43m,\u001b[49m\u001b[43m \u001b[49m\u001b[43mk\u001b[49m\u001b[38;5;241;43m=\u001b[39;49m\u001b[38;5;241;43m5\u001b[39;49m\u001b[43m)\u001b[49m\n",
      "Cell \u001b[0;32mIn[8], line 28\u001b[0m, in \u001b[0;36mSolution.subarraysDivByK\u001b[0;34m(self, nums, k)\u001b[0m\n\u001b[1;32m     26\u001b[0m     prefixmap[mod] \u001b[38;5;241m+\u001b[39m\u001b[38;5;241m=\u001b[39m \u001b[38;5;241m1\u001b[39m\n\u001b[1;32m     27\u001b[0m \u001b[38;5;28;01melse\u001b[39;00m:\n\u001b[0;32m---> 28\u001b[0m     \u001b[43mprefixmap\u001b[49m\u001b[43m[\u001b[49m\u001b[43mmod\u001b[49m\u001b[43m]\u001b[49m \u001b[38;5;241m=\u001b[39m \u001b[38;5;241m1\u001b[39m\n\u001b[1;32m     29\u001b[0m \u001b[38;5;28mprint\u001b[39m (n, prefixmap, sumprefix, mod)\n",
      "\u001b[0;31mTypeError\u001b[0m: 'set' object does not support item assignment"
     ]
    }
   ],
   "source": [
    "S = Solution()\n",
    "arr = [4,5,0,-2,-3,1]\n",
    "k = 5\n",
    "S.subarraysDivByK(arr, k=5)"
   ]
  },
  {
   "cell_type": "code",
   "execution_count": null,
   "metadata": {},
   "outputs": [],
   "source": []
  }
 ],
 "metadata": {
  "kernelspec": {
   "display_name": "Python 3",
   "language": "python",
   "name": "python3"
  },
  "language_info": {
   "codemirror_mode": {
    "name": "ipython",
    "version": 3
   },
   "file_extension": ".py",
   "mimetype": "text/x-python",
   "name": "python",
   "nbconvert_exporter": "python",
   "pygments_lexer": "ipython3",
   "version": "3.9.19"
  }
 },
 "nbformat": 4,
 "nbformat_minor": 2
}
