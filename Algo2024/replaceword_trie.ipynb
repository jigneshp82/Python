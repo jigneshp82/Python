{
 "cells": [
  {
   "cell_type": "code",
   "execution_count": 2,
   "metadata": {},
   "outputs": [],
   "source": [
    "class trieNode:\n",
    "    def __init__(self):\n",
    "        child = {}\n",
    "        endofword = False\n",
    "\n",
    "class Trie:\n",
    "    def __init__(self):\n",
    "        node = trieNode()\n",
    "    \n",
    "    def insert(self,word):\n",
    "        head = self.node\n",
    "        for ch in word:\n",
    "            if ch not in head.child:\n",
    "                head.child[ch] = trieNode()\n",
    "            head = head.child[ch]\n",
    "        head.endofword = True\n",
    "\n",
    "    def search(self, word):\n",
    "        head = self.node\n",
    "        for ch in word:\n",
    "            if ch in head.child:\n",
    "                head = head.child[ch]\n",
    "            else:\n",
    "                return False\n",
    "        return head.endofword\n",
    "\n",
    "    def searchprefix(self, word):\n",
    "        head = self.node\n",
    "        prefix = ''\n",
    "        for ch in word:\n",
    "            if ch in head.child:\n",
    "                prefix += ch\n",
    "                head = head.child[ch]\n",
    "            else:\n",
    "                break\n",
    "            if head.endofword:\n",
    "                return prefix\n",
    "        return word\n",
    "\n",
    "\n",
    "class Solution:\n",
    "    def replaceWords(self, dictionary: list, sentence: str) -> str:\n",
    "        trie = Trie()\n",
    "        for word in dictionary:\n",
    "            trie.insert(word)\n",
    "\n",
    "        words = sentence.split()\n",
    "        res = []\n",
    "        for word in words:\n",
    "            res.append(trie.searchprefix(word))\n",
    "        \n",
    "        return ' '.join(res)\n",
    "        \n",
    "\n"
   ]
  },
  {
   "cell_type": "code",
   "execution_count": 3,
   "metadata": {},
   "outputs": [],
   "source": [
    "S = Solution()"
   ]
  },
  {
   "cell_type": "code",
   "execution_count": 5,
   "metadata": {},
   "outputs": [
    {
     "ename": "AttributeError",
     "evalue": "'Trie' object has no attribute 'node'",
     "output_type": "error",
     "traceback": [
      "\u001b[0;31m---------------------------------------------------------------------------\u001b[0m",
      "\u001b[0;31mAttributeError\u001b[0m                            Traceback (most recent call last)",
      "Cell \u001b[0;32mIn[5], line 3\u001b[0m\n\u001b[1;32m      1\u001b[0m dictionary \u001b[38;5;241m=\u001b[39m [\u001b[38;5;124m\"\u001b[39m\u001b[38;5;124mcat\u001b[39m\u001b[38;5;124m\"\u001b[39m,\u001b[38;5;124m\"\u001b[39m\u001b[38;5;124mbat\u001b[39m\u001b[38;5;124m\"\u001b[39m,\u001b[38;5;124m\"\u001b[39m\u001b[38;5;124mrat\u001b[39m\u001b[38;5;124m\"\u001b[39m]\n\u001b[1;32m      2\u001b[0m sentence \u001b[38;5;241m=\u001b[39m \u001b[38;5;124m\"\u001b[39m\u001b[38;5;124mthe cattle was rattled by the battery\u001b[39m\u001b[38;5;124m\"\u001b[39m\n\u001b[0;32m----> 3\u001b[0m \u001b[38;5;28mprint\u001b[39m(\u001b[43mS\u001b[49m\u001b[38;5;241;43m.\u001b[39;49m\u001b[43mreplaceWords\u001b[49m\u001b[43m(\u001b[49m\u001b[43mdictionary\u001b[49m\u001b[43m,\u001b[49m\u001b[43msentence\u001b[49m\u001b[43m)\u001b[49m)\n",
      "Cell \u001b[0;32mIn[2], line 45\u001b[0m, in \u001b[0;36mSolution.replaceWords\u001b[0;34m(self, dictionary, sentence)\u001b[0m\n\u001b[1;32m     43\u001b[0m trie \u001b[38;5;241m=\u001b[39m Trie()\n\u001b[1;32m     44\u001b[0m \u001b[38;5;28;01mfor\u001b[39;00m word \u001b[38;5;129;01min\u001b[39;00m dictionary:\n\u001b[0;32m---> 45\u001b[0m     \u001b[43mtrie\u001b[49m\u001b[38;5;241;43m.\u001b[39;49m\u001b[43minsert\u001b[49m\u001b[43m(\u001b[49m\u001b[43mword\u001b[49m\u001b[43m)\u001b[49m\n\u001b[1;32m     47\u001b[0m words \u001b[38;5;241m=\u001b[39m sentence\u001b[38;5;241m.\u001b[39msplit()\n\u001b[1;32m     48\u001b[0m res \u001b[38;5;241m=\u001b[39m []\n",
      "Cell \u001b[0;32mIn[2], line 11\u001b[0m, in \u001b[0;36mTrie.insert\u001b[0;34m(self, word)\u001b[0m\n\u001b[1;32m     10\u001b[0m \u001b[38;5;28;01mdef\u001b[39;00m \u001b[38;5;21minsert\u001b[39m(\u001b[38;5;28mself\u001b[39m,word):\n\u001b[0;32m---> 11\u001b[0m     head \u001b[38;5;241m=\u001b[39m \u001b[38;5;28;43mself\u001b[39;49m\u001b[38;5;241;43m.\u001b[39;49m\u001b[43mnode\u001b[49m\n\u001b[1;32m     12\u001b[0m     \u001b[38;5;28;01mfor\u001b[39;00m ch \u001b[38;5;129;01min\u001b[39;00m word:\n\u001b[1;32m     13\u001b[0m         \u001b[38;5;28;01mif\u001b[39;00m ch \u001b[38;5;129;01mnot\u001b[39;00m \u001b[38;5;129;01min\u001b[39;00m head\u001b[38;5;241m.\u001b[39mchild:\n",
      "\u001b[0;31mAttributeError\u001b[0m: 'Trie' object has no attribute 'node'"
     ]
    }
   ],
   "source": [
    "dictionary = [\"cat\",\"bat\",\"rat\"]\n",
    "sentence = \"the cattle was rattled by the battery\"\n",
    "print(S.replaceWords(dictionary,sentence))"
   ]
  }
 ],
 "metadata": {
  "kernelspec": {
   "display_name": "Python 3",
   "language": "python",
   "name": "python3"
  },
  "language_info": {
   "codemirror_mode": {
    "name": "ipython",
    "version": 3
   },
   "file_extension": ".py",
   "mimetype": "text/x-python",
   "name": "python",
   "nbconvert_exporter": "python",
   "pygments_lexer": "ipython3",
   "version": "3.9.19"
  }
 },
 "nbformat": 4,
 "nbformat_minor": 2
}
