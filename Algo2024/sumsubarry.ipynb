{
 "cells": [
  {
   "cell_type": "markdown",
   "metadata": {},
   "source": [
    "974. Subarray Sums Divisible by K\n",
    "Attempted\n",
    "Medium\n",
    "Topics\n",
    "Companies\n",
    "Given an integer array nums and an integer k, return the number of non-empty subarrays that have a sum divisible by k.\n",
    "\n",
    "A subarray is a contiguous part of an array.\n",
    "\n",
    " \n",
    "\n",
    "Example 1:\n",
    "\n",
    "Input: nums = [4,5,0,-2,-3,1], k = 5\n",
    "Output: 7\n",
    "Explanation: There are 7 subarrays with a sum divisible by k = 5:\n",
    "[4, 5, 0, -2, -3, 1], [5], [5, 0], [5, 0, -2, -3], [0], [0, -2, -3], [-2, -3]\n",
    "Example 2:\n",
    "\n",
    "Input: nums = [5], k = 9\n",
    "Output: 0"
   ]
  },
  {
   "cell_type": "code",
   "execution_count": 19,
   "metadata": {},
   "outputs": [],
   "source": [
    "class Solution:\n",
    "    def subarraysDivByK_brutforce(self, nums: list, k: int) -> int:\n",
    "        n = len(nums)\n",
    "        ans =0\n",
    "        for i in range(n):\n",
    "            sum = 0\n",
    "            for j in range(i,n):\n",
    "                sum += nums[j]\n",
    "                if sum%k ==0:\n",
    "                    ans +=1\n",
    "        return ans\n",
    "    \n",
    "\n",
    "    def subarraysDivByKX(self, nums: list, k: int) -> int:\n",
    "        \n",
    "        ans =0\n",
    "        prefixmap = {0:1}\n",
    "        sumprefix = 0\n",
    "        for n in nums:\n",
    "            sumprefix+= n\n",
    "            mod = sumprefix%k\n",
    "            if mod < 0:\n",
    "                mod+= k\n",
    "            if mod in prefixmap:\n",
    "                ans +=prefixmap[mod]\n",
    "                prefixmap[mod] += 1\n",
    "            else:\n",
    "                prefixmap[mod] = 1\n",
    "            print (n, prefixmap, sumprefix, mod)\n",
    "    \n",
    "    def subarraysDivByK(self, nums: list, k: int) -> int:\n",
    "        ans = 0 \n",
    "        prefixmap = {0:1}\n",
    "        sumprefix = 0\n",
    "        for n in nums:\n",
    "            sumprefix += n\n",
    "            mod = sumprefix % k\n",
    "            \n",
    "            if mod not in prefixmap:\n",
    "                prefixmap[mod] = 1\n",
    "            else:\n",
    "                ans += prefixmap[mod]\n",
    "                prefixmap[mod] += 1\n",
    "        print (prefixmap)\n",
    "        return ans\n",
    "            \n",
    "            "
   ]
  },
  {
   "cell_type": "code",
   "execution_count": 20,
   "metadata": {},
   "outputs": [
    {
     "name": "stdout",
     "output_type": "stream",
     "text": [
      "{0: 2, 4: 4, 2: 1}\n"
     ]
    },
    {
     "data": {
      "text/plain": [
       "7"
      ]
     },
     "execution_count": 20,
     "metadata": {},
     "output_type": "execute_result"
    }
   ],
   "source": [
    "S = Solution()\n",
    "arr = [4,5,0,-2,-3,1]\n",
    "k = 5\n",
    "S.subarraysDivByK(arr, k=5)"
   ]
  },
  {
   "cell_type": "code",
   "execution_count": 12,
   "metadata": {},
   "outputs": [
    {
     "data": {
      "text/plain": [
       "3"
      ]
     },
     "execution_count": 12,
     "metadata": {},
     "output_type": "execute_result"
    }
   ],
   "source": [
    "-2 % 5"
   ]
  },
  {
   "cell_type": "code",
   "execution_count": null,
   "metadata": {},
   "outputs": [],
   "source": []
  }
 ],
 "metadata": {
  "kernelspec": {
   "display_name": "Python 3",
   "language": "python",
   "name": "python3"
  },
  "language_info": {
   "codemirror_mode": {
    "name": "ipython",
    "version": 3
   },
   "file_extension": ".py",
   "mimetype": "text/x-python",
   "name": "python",
   "nbconvert_exporter": "python",
   "pygments_lexer": "ipython3",
   "version": "3.8.8"
  }
 },
 "nbformat": 4,
 "nbformat_minor": 4
}
